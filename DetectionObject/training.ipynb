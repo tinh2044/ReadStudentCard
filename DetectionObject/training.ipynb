{
 "metadata": {
  "kernelspec": {
   "language": "python",
   "display_name": "Python 3",
   "name": "python3"
  },
  "language_info": {
   "name": "python",
   "version": "3.10.13",
   "mimetype": "text/x-python",
   "codemirror_mode": {
    "name": "ipython",
    "version": 3
   },
   "pygments_lexer": "ipython3",
   "nbconvert_exporter": "python",
   "file_extension": ".py"
  },
  "kaggle": {
   "accelerator": "none",
   "dataSources": [
    {
     "sourceId": 7702940,
     "sourceType": "datasetVersion",
     "datasetId": 4496735
    },
    {
     "sourceId": 7764413,
     "sourceType": "datasetVersion",
     "datasetId": 4541327
    }
   ],
   "dockerImageVersionId": 30664,
   "isInternetEnabled": true,
   "language": "python",
   "sourceType": "notebook",
   "isGpuEnabled": false
  }
 },
 "nbformat_minor": 4,
 "nbformat": 4,
 "cells": [
  {
   "cell_type": "code",
   "source": [
    "!pip install roboflow ultralytics"
   ],
   "metadata": {
    "collapsed": false,
    "ExecuteTime": {
     "end_time": "2024-02-26T06:16:49.346957400Z",
     "start_time": "2024-02-26T06:16:42.752611800Z"
    },
    "execution": {
     "iopub.status.busy": "2024-03-07T12:46:35.176478Z",
     "iopub.execute_input": "2024-03-07T12:46:35.176926Z",
     "iopub.status.idle": "2024-03-07T12:46:54.001636Z",
     "shell.execute_reply.started": "2024-03-07T12:46:35.176890Z",
     "shell.execute_reply": "2024-03-07T12:46:54.000346Z"
    },
    "trusted": true
   },
   "execution_count": 2,
   "outputs": [
    {
     "name": "stdout",
     "text": "Collecting roboflow\n  Downloading roboflow-1.1.21-py3-none-any.whl.metadata (9.3 kB)\nCollecting ultralytics\n  Downloading ultralytics-8.1.24-py3-none-any.whl.metadata (40 kB)\n\u001B[2K     \u001B[90m━━━━━━━━━━━━━━━━━━━━━━━━━━━━━━━━━━━━━━━━\u001B[0m \u001B[32m40.4/40.4 kB\u001B[0m \u001B[31m1.8 MB/s\u001B[0m eta \u001B[36m0:00:00\u001B[0m\n\u001B[?25hCollecting certifi==2023.7.22 (from roboflow)\n  Downloading certifi-2023.7.22-py3-none-any.whl.metadata (2.2 kB)\nCollecting chardet==4.0.0 (from roboflow)\n  Downloading chardet-4.0.0-py2.py3-none-any.whl.metadata (3.5 kB)\nCollecting cycler==0.10.0 (from roboflow)\n  Downloading cycler-0.10.0-py2.py3-none-any.whl.metadata (722 bytes)\nCollecting idna==2.10 (from roboflow)\n  Downloading idna-2.10-py2.py3-none-any.whl.metadata (9.1 kB)\nRequirement already satisfied: kiwisolver>=1.3.1 in /opt/conda/lib/python3.10/site-packages (from roboflow) (1.4.5)\nRequirement already satisfied: matplotlib in /opt/conda/lib/python3.10/site-packages (from roboflow) (3.7.5)\nRequirement already satisfied: numpy>=1.18.5 in /opt/conda/lib/python3.10/site-packages (from roboflow) (1.26.4)\nCollecting opencv-python-headless==4.8.0.74 (from roboflow)\n  Downloading opencv_python_headless-4.8.0.74-cp37-abi3-manylinux_2_17_x86_64.manylinux2014_x86_64.whl.metadata (19 kB)\nRequirement already satisfied: Pillow>=7.1.2 in /opt/conda/lib/python3.10/site-packages (from roboflow) (9.5.0)\nRequirement already satisfied: python-dateutil in /opt/conda/lib/python3.10/site-packages (from roboflow) (2.8.2)\nRequirement already satisfied: python-dotenv in /opt/conda/lib/python3.10/site-packages (from roboflow) (1.0.0)\nRequirement already satisfied: requests in /opt/conda/lib/python3.10/site-packages (from roboflow) (2.31.0)\nRequirement already satisfied: six in /opt/conda/lib/python3.10/site-packages (from roboflow) (1.16.0)\nCollecting supervision (from roboflow)\n  Downloading supervision-0.18.0-py3-none-any.whl.metadata (12 kB)\nRequirement already satisfied: urllib3>=1.26.6 in /opt/conda/lib/python3.10/site-packages (from roboflow) (1.26.18)\nRequirement already satisfied: tqdm>=4.41.0 in /opt/conda/lib/python3.10/site-packages (from roboflow) (4.66.1)\nRequirement already satisfied: PyYAML>=5.3.1 in /opt/conda/lib/python3.10/site-packages (from roboflow) (6.0.1)\nRequirement already satisfied: requests-toolbelt in /opt/conda/lib/python3.10/site-packages (from roboflow) (0.10.1)\nCollecting python-magic (from roboflow)\n  Downloading python_magic-0.4.27-py2.py3-none-any.whl.metadata (5.8 kB)\nRequirement already satisfied: opencv-python>=4.6.0 in /opt/conda/lib/python3.10/site-packages (from ultralytics) (4.9.0.80)\nRequirement already satisfied: scipy>=1.4.1 in /opt/conda/lib/python3.10/site-packages (from ultralytics) (1.11.4)\nRequirement already satisfied: torch>=1.8.0 in /opt/conda/lib/python3.10/site-packages (from ultralytics) (2.1.2)\nRequirement already satisfied: torchvision>=0.9.0 in /opt/conda/lib/python3.10/site-packages (from ultralytics) (0.16.2)\nRequirement already satisfied: psutil in /opt/conda/lib/python3.10/site-packages (from ultralytics) (5.9.3)\nRequirement already satisfied: py-cpuinfo in /opt/conda/lib/python3.10/site-packages (from ultralytics) (9.0.0)\nCollecting thop>=0.1.1 (from ultralytics)\n  Downloading thop-0.1.1.post2209072238-py3-none-any.whl.metadata (2.7 kB)\nRequirement already satisfied: pandas>=1.1.4 in /opt/conda/lib/python3.10/site-packages (from ultralytics) (2.1.4)\nRequirement already satisfied: seaborn>=0.11.0 in /opt/conda/lib/python3.10/site-packages (from ultralytics) (0.12.2)\nRequirement already satisfied: contourpy>=1.0.1 in /opt/conda/lib/python3.10/site-packages (from matplotlib->roboflow) (1.2.0)\nRequirement already satisfied: fonttools>=4.22.0 in /opt/conda/lib/python3.10/site-packages (from matplotlib->roboflow) (4.47.0)\nRequirement already satisfied: packaging>=20.0 in /opt/conda/lib/python3.10/site-packages (from matplotlib->roboflow) (21.3)\nRequirement already satisfied: pyparsing>=2.3.1 in /opt/conda/lib/python3.10/site-packages (from matplotlib->roboflow) (3.1.1)\nRequirement already satisfied: pytz>=2020.1 in /opt/conda/lib/python3.10/site-packages (from pandas>=1.1.4->ultralytics) (2023.3.post1)\nRequirement already satisfied: tzdata>=2022.1 in /opt/conda/lib/python3.10/site-packages (from pandas>=1.1.4->ultralytics) (2023.4)\nRequirement already satisfied: charset-normalizer<4,>=2 in /opt/conda/lib/python3.10/site-packages (from requests->roboflow) (3.3.2)\nRequirement already satisfied: filelock in /opt/conda/lib/python3.10/site-packages (from torch>=1.8.0->ultralytics) (3.13.1)\nRequirement already satisfied: typing-extensions in /opt/conda/lib/python3.10/site-packages (from torch>=1.8.0->ultralytics) (4.9.0)\nRequirement already satisfied: sympy in /opt/conda/lib/python3.10/site-packages (from torch>=1.8.0->ultralytics) (1.12)\nRequirement already satisfied: networkx in /opt/conda/lib/python3.10/site-packages (from torch>=1.8.0->ultralytics) (3.2.1)\nRequirement already satisfied: jinja2 in /opt/conda/lib/python3.10/site-packages (from torch>=1.8.0->ultralytics) (3.1.2)\nRequirement already satisfied: fsspec in /opt/conda/lib/python3.10/site-packages (from torch>=1.8.0->ultralytics) (2024.2.0)\nRequirement already satisfied: defusedxml<0.8.0,>=0.7.1 in /opt/conda/lib/python3.10/site-packages (from supervision->roboflow) (0.7.1)\nRequirement already satisfied: MarkupSafe>=2.0 in /opt/conda/lib/python3.10/site-packages (from jinja2->torch>=1.8.0->ultralytics) (2.1.3)\nRequirement already satisfied: mpmath>=0.19 in /opt/conda/lib/python3.10/site-packages (from sympy->torch>=1.8.0->ultralytics) (1.3.0)\nDownloading roboflow-1.1.21-py3-none-any.whl (70 kB)\n\u001B[2K   \u001B[90m━━━━━━━━━━━━━━━━━━━━━━━━━━━━━━━━━━━━━━━━\u001B[0m \u001B[32m70.2/70.2 kB\u001B[0m \u001B[31m3.6 MB/s\u001B[0m eta \u001B[36m0:00:00\u001B[0m\n\u001B[?25hDownloading certifi-2023.7.22-py3-none-any.whl (158 kB)\n\u001B[2K   \u001B[90m━━━━━━━━━━━━━━━━━━━━━━━━━━━━━━━━━━━━━━━━\u001B[0m \u001B[32m158.3/158.3 kB\u001B[0m \u001B[31m9.3 MB/s\u001B[0m eta \u001B[36m0:00:00\u001B[0m\n\u001B[?25hDownloading chardet-4.0.0-py2.py3-none-any.whl (178 kB)\n\u001B[2K   \u001B[90m━━━━━━━━━━━━━━━━━━━━━━━━━━━━━━━━━━━━━━━━\u001B[0m \u001B[32m178.7/178.7 kB\u001B[0m \u001B[31m12.3 MB/s\u001B[0m eta \u001B[36m0:00:00\u001B[0m\n\u001B[?25hDownloading cycler-0.10.0-py2.py3-none-any.whl (6.5 kB)\nDownloading idna-2.10-py2.py3-none-any.whl (58 kB)\n\u001B[2K   \u001B[90m━━━━━━━━━━━━━━━━━━━━━━━━━━━━━━━━━━━━━━━━\u001B[0m \u001B[32m58.8/58.8 kB\u001B[0m \u001B[31m4.0 MB/s\u001B[0m eta \u001B[36m0:00:00\u001B[0m\n\u001B[?25hDownloading opencv_python_headless-4.8.0.74-cp37-abi3-manylinux_2_17_x86_64.manylinux2014_x86_64.whl (49.1 MB)\n\u001B[2K   \u001B[90m━━━━━━━━━━━━━━━━━━━━━━━━━━━━━━━━━━━━━━━━\u001B[0m \u001B[32m49.1/49.1 MB\u001B[0m \u001B[31m34.4 MB/s\u001B[0m eta \u001B[36m0:00:00\u001B[0m:00:01\u001B[0m00:01\u001B[0m\n\u001B[?25hDownloading ultralytics-8.1.24-py3-none-any.whl (719 kB)\n\u001B[2K   \u001B[90m━━━━━━━━━━━━━━━━━━━━━━━━━━━━━━━━━━━━━━━━\u001B[0m \u001B[32m719.5/719.5 kB\u001B[0m \u001B[31m36.0 MB/s\u001B[0m eta \u001B[36m0:00:00\u001B[0m\n\u001B[?25hDownloading thop-0.1.1.post2209072238-py3-none-any.whl (15 kB)\nDownloading python_magic-0.4.27-py2.py3-none-any.whl (13 kB)\nDownloading supervision-0.18.0-py3-none-any.whl (86 kB)\n\u001B[2K   \u001B[90m━━━━━━━━━━━━━━━━━━━━━━━━━━━━━━━━━━━━━━━━\u001B[0m \u001B[32m86.7/86.7 kB\u001B[0m \u001B[31m6.5 MB/s\u001B[0m eta \u001B[36m0:00:00\u001B[0m\n\u001B[?25hInstalling collected packages: python-magic, opencv-python-headless, idna, cycler, chardet, certifi, thop, supervision, ultralytics, roboflow\n  Attempting uninstall: opencv-python-headless\n    Found existing installation: opencv-python-headless 4.9.0.80\n    Uninstalling opencv-python-headless-4.9.0.80:\n      Successfully uninstalled opencv-python-headless-4.9.0.80\n  Attempting uninstall: idna\n    Found existing installation: idna 3.6\n    Uninstalling idna-3.6:\n      Successfully uninstalled idna-3.6\n  Attempting uninstall: cycler\n    Found existing installation: cycler 0.12.1\n    Uninstalling cycler-0.12.1:\n      Successfully uninstalled cycler-0.12.1\n  Attempting uninstall: certifi\n    Found existing installation: certifi 2024.2.2\n    Uninstalling certifi-2024.2.2:\n      Successfully uninstalled certifi-2024.2.2\n\u001B[31mERROR: pip's dependency resolver does not currently take into account all the packages that are installed. This behaviour is the source of the following dependency conflicts.\ntensorflow-decision-forests 1.8.1 requires wurlitzer, which is not installed.\njupyterlab 4.1.2 requires jupyter-lsp>=2.0.0, but you have jupyter-lsp 1.5.1 which is incompatible.\njupyterlab-lsp 5.0.3 requires jupyter-lsp>=2.0.0, but you have jupyter-lsp 1.5.1 which is incompatible.\nlibpysal 4.9.2 requires packaging>=22, but you have packaging 21.3 which is incompatible.\nlibpysal 4.9.2 requires shapely>=2.0.1, but you have shapely 1.8.5.post1 which is incompatible.\nmomepy 0.7.0 requires shapely>=2, but you have shapely 1.8.5.post1 which is incompatible.\nosmnx 1.9.1 requires shapely>=2.0, but you have shapely 1.8.5.post1 which is incompatible.\nspopt 0.6.0 requires shapely>=2.0.1, but you have shapely 1.8.5.post1 which is incompatible.\ntensorflow 2.15.0 requires keras<2.16,>=2.15.0, but you have keras 3.0.5 which is incompatible.\nydata-profiling 4.6.4 requires numpy<1.26,>=1.16.0, but you have numpy 1.26.4 which is incompatible.\u001B[0m\u001B[31m\n\u001B[0mSuccessfully installed certifi-2023.7.22 chardet-4.0.0 cycler-0.10.0 idna-2.10 opencv-python-headless-4.8.0.74 python-magic-0.4.27 roboflow-1.1.21 supervision-0.18.0 thop-0.1.1.post2209072238 ultralytics-8.1.24\n",
     "output_type": "stream"
    }
   ]
  },
  {
   "cell_type": "code",
   "source": [
    "from roboflow import Roboflow\n",
    "import  os\n",
    "import cv2 as cv\n",
    "import matplotlib.pyplot as plt\n",
    "from ultralytics import YOLO\n",
    "import  numpy as np\n",
    "import shutil"
   ],
   "metadata": {
    "collapsed": false,
    "ExecuteTime": {
     "end_time": "2024-03-04T06:07:13.724120900Z",
     "start_time": "2024-03-04T06:06:54.066417300Z"
    },
    "execution": {
     "iopub.status.busy": "2024-03-07T12:46:54.003597Z",
     "iopub.execute_input": "2024-03-07T12:46:54.003950Z",
     "iopub.status.idle": "2024-03-07T12:47:00.515863Z",
     "shell.execute_reply.started": "2024-03-07T12:46:54.003920Z",
     "shell.execute_reply": "2024-03-07T12:47:00.515020Z"
    },
    "trusted": true
   },
   "execution_count": 3,
   "outputs": []
  },
  {
   "cell_type": "code",
   "source": [
    "HOME = os.getcwd()\n",
    "HOME"
   ],
   "metadata": {
    "collapsed": false,
    "ExecuteTime": {
     "end_time": "2024-03-04T06:07:13.734383900Z",
     "start_time": "2024-03-04T06:07:13.727510200Z"
    },
    "execution": {
     "iopub.status.busy": "2024-03-07T12:47:00.516984Z",
     "iopub.execute_input": "2024-03-07T12:47:00.517397Z",
     "iopub.status.idle": "2024-03-07T12:47:00.524584Z",
     "shell.execute_reply.started": "2024-03-07T12:47:00.517373Z",
     "shell.execute_reply": "2024-03-07T12:47:00.523391Z"
    },
    "trusted": true
   },
   "execution_count": 4,
   "outputs": [
    {
     "execution_count": 4,
     "output_type": "execute_result",
     "data": {
      "text/plain": "'/kaggle/working'"
     },
     "metadata": {}
    }
   ]
  },
  {
   "cell_type": "code",
   "source": [
    "rf = Roboflow(api_key=\"rvoivVux1KVPqjOIUb7R\")\n",
    "project = rf.workspace(\"deeplearning-tpicp\").project(\"student-card-text-detection-no-name\")\n",
    "version = project.version(2)"
   ],
   "metadata": {
    "collapsed": false,
    "ExecuteTime": {
     "end_time": "2024-03-04T06:07:17.260375200Z",
     "start_time": "2024-03-04T06:07:13.743702300Z"
    },
    "execution": {
     "iopub.status.busy": "2024-03-07T12:51:36.231049Z",
     "iopub.execute_input": "2024-03-07T12:51:36.231799Z",
     "iopub.status.idle": "2024-03-07T12:51:36.897444Z",
     "shell.execute_reply.started": "2024-03-07T12:51:36.231762Z",
     "shell.execute_reply": "2024-03-07T12:51:36.896458Z"
    },
    "trusted": true
   },
   "execution_count": 6,
   "outputs": [
    {
     "name": "stdout",
     "text": "loading Roboflow workspace...\nloading Roboflow project...\n",
     "output_type": "stream"
    }
   ]
  },
  {
   "cell_type": "code",
   "source": [
    "dataset = version.download(\"yolov8\", './td_dataset')"
   ],
   "metadata": {
    "ExecuteTime": {
     "end_time": "2024-03-04T05:21:31.270166800Z",
     "start_time": "2024-03-04T05:21:21.261324400Z"
    },
    "execution": {
     "iopub.status.busy": "2024-03-07T12:51:37.794702Z",
     "iopub.execute_input": "2024-03-07T12:51:37.795368Z",
     "iopub.status.idle": "2024-03-07T12:51:43.305726Z",
     "shell.execute_reply.started": "2024-03-07T12:51:37.795327Z",
     "shell.execute_reply": "2024-03-07T12:51:43.304785Z"
    },
    "trusted": true
   },
   "execution_count": 7,
   "outputs": [
    {
     "name": "stdout",
     "text": "Dependency ultralytics==8.0.196 is required but found version=8.1.24, to fix: `pip install ultralytics==8.0.196`\nExporting format yolov8 in progress : 85.0%\nVersion export complete for yolov8 format\n",
     "output_type": "stream"
    },
    {
     "name": "stderr",
     "text": "Downloading Dataset Version Zip in ./td_dataset to yolov8:: 100%|██████████| 9343/9343 [00:00<00:00, 23151.99it/s]",
     "output_type": "stream"
    },
    {
     "name": "stdout",
     "text": "\n",
     "output_type": "stream"
    },
    {
     "name": "stderr",
     "text": "\nExtracting Dataset Version Zip to ./td_dataset in yolov8:: 100%|██████████| 378/378 [00:00<00:00, 7430.96it/s]\n",
     "output_type": "stream"
    }
   ]
  },
  {
   "cell_type": "code",
   "source": [
    "data_dir = dataset.location"
   ],
   "metadata": {
    "collapsed": false,
    "ExecuteTime": {
     "end_time": "2024-03-04T06:09:16.625027Z",
     "start_time": "2024-03-04T06:09:16.605875200Z"
    },
    "execution": {
     "iopub.status.busy": "2024-03-07T12:51:43.307319Z",
     "iopub.execute_input": "2024-03-07T12:51:43.307617Z",
     "iopub.status.idle": "2024-03-07T12:51:43.311786Z",
     "shell.execute_reply.started": "2024-03-07T12:51:43.307592Z",
     "shell.execute_reply": "2024-03-07T12:51:43.310695Z"
    },
    "trusted": true
   },
   "execution_count": 8,
   "outputs": []
  },
  {
   "cell_type": "code",
   "source": [
    "names = []"
   ],
   "metadata": {
    "ExecuteTime": {
     "end_time": "2024-03-04T06:09:17.256474200Z",
     "start_time": "2024-03-04T06:09:17.234910100Z"
    },
    "execution": {
     "iopub.status.busy": "2024-03-07T12:51:43.718301Z",
     "iopub.execute_input": "2024-03-07T12:51:43.718656Z",
     "iopub.status.idle": "2024-03-07T12:51:43.722813Z",
     "shell.execute_reply.started": "2024-03-07T12:51:43.718609Z",
     "shell.execute_reply": "2024-03-07T12:51:43.721877Z"
    },
    "trusted": true
   },
   "execution_count": 10,
   "outputs": []
  },
  {
   "cell_type": "code",
   "source": [
    "import yaml"
   ],
   "metadata": {
    "ExecuteTime": {
     "end_time": "2024-03-04T06:09:18.240286900Z",
     "start_time": "2024-03-04T06:09:18.225615Z"
    },
    "execution": {
     "iopub.status.busy": "2024-03-07T12:51:44.689175Z",
     "iopub.execute_input": "2024-03-07T12:51:44.689501Z",
     "iopub.status.idle": "2024-03-07T12:51:44.693714Z",
     "shell.execute_reply.started": "2024-03-07T12:51:44.689476Z",
     "shell.execute_reply": "2024-03-07T12:51:44.692776Z"
    },
    "trusted": true
   },
   "execution_count": 11,
   "outputs": []
  },
  {
   "cell_type": "code",
   "source": [
    "with open(f'{data_dir}/data.yaml', \"r\") as file:\n",
    "    yaml_content = yaml.load(file, Loader=yaml.SafeLoader)\n",
    "    names.extend(yaml_content['names'])\n",
    "print(names)"
   ],
   "metadata": {
    "collapsed": false,
    "ExecuteTime": {
     "end_time": "2024-03-04T06:09:18.702387Z",
     "start_time": "2024-03-04T06:09:18.664417700Z"
    },
    "execution": {
     "iopub.status.busy": "2024-03-07T12:51:45.147937Z",
     "iopub.execute_input": "2024-03-07T12:51:45.148927Z",
     "iopub.status.idle": "2024-03-07T12:51:45.156695Z",
     "shell.execute_reply.started": "2024-03-07T12:51:45.148892Z",
     "shell.execute_reply": "2024-03-07T12:51:45.155827Z"
    },
    "trusted": true
   },
   "execution_count": 12,
   "outputs": [
    {
     "name": "stdout",
     "text": "['birth', 'class', 'gender', 'subject']\n",
     "output_type": "stream"
    }
   ]
  },
  {
   "cell_type": "code",
   "source": [
    "with open(f'{data_dir}/data.yaml', \"w\") as file:\n",
    "    yaml.dump({\n",
    "        \"train\": f\"{data_dir}/train/images\",\n",
    "        \"test\": f\"{data_dir}/test/images\",\n",
    "        \"val\": f\"{data_dir}/valid/images\",\n",
    "        \"nc\": len(names),\n",
    "        \"names\": [f'{name}' for name in names]\n",
    "    }, stream=file, default_flow_style=None)"
   ],
   "metadata": {
    "ExecuteTime": {
     "end_time": "2024-03-04T05:22:29.333308300Z",
     "start_time": "2024-03-04T05:22:29.089991400Z"
    },
    "execution": {
     "iopub.status.busy": "2024-03-07T12:51:45.947422Z",
     "iopub.execute_input": "2024-03-07T12:51:45.947781Z",
     "iopub.status.idle": "2024-03-07T12:51:45.954562Z",
     "shell.execute_reply.started": "2024-03-07T12:51:45.947753Z",
     "shell.execute_reply": "2024-03-07T12:51:45.953675Z"
    },
    "trusted": true
   },
   "execution_count": 13,
   "outputs": []
  },
  {
   "cell_type": "code",
   "source": [
    "model = YOLO(f\"/kaggle/input/yolo-v8/best (2).pt\")\n",
    "model.train(data=f'{data_dir}/data.yaml', epochs=200, imgsz=640)"
   ],
   "metadata": {
    "collapsed": false,
    "is_executing": true,
    "ExecuteTime": {
     "start_time": "2024-02-26T07:01:33.849732100Z"
    },
    "execution": {
     "iopub.status.busy": "2024-03-07T12:51:59.871137Z",
     "iopub.execute_input": "2024-03-07T12:51:59.871792Z",
     "iopub.status.idle": "2024-03-07T13:36:59.573003Z",
     "shell.execute_reply.started": "2024-03-07T12:51:59.871760Z",
     "shell.execute_reply": "2024-03-07T13:36:59.571807Z"
    },
    "trusted": true
   },
   "execution_count": 15,
   "outputs": [
    {
     "name": "stdout",
     "text": "Ultralytics YOLOv8.1.24 🚀 Python-3.10.13 torch-2.1.2 CUDA:0 (Tesla P100-PCIE-16GB, 16276MiB)\n\u001B[34m\u001B[1mengine/trainer: \u001B[0mtask=detect, mode=train, model=/kaggle/input/yolo-v8/best (2).pt, data=/kaggle/working/td_dataset/data.yaml, epochs=200, time=None, patience=100, batch=16, imgsz=640, save=True, save_period=-1, cache=False, device=None, workers=8, project=None, name=train, exist_ok=False, pretrained=True, optimizer=auto, verbose=True, seed=0, deterministic=True, single_cls=False, rect=False, cos_lr=False, close_mosaic=10, resume=False, amp=True, fraction=1.0, profile=False, freeze=None, multi_scale=False, overlap_mask=True, mask_ratio=4, dropout=0.0, val=True, split=val, save_json=False, save_hybrid=False, conf=None, iou=0.7, max_det=300, half=False, dnn=False, plots=True, source=None, vid_stride=1, stream_buffer=False, visualize=False, augment=False, agnostic_nms=False, classes=None, retina_masks=False, embed=None, show=False, save_frames=False, save_txt=False, save_conf=False, save_crop=False, show_labels=True, show_conf=True, show_boxes=True, line_width=None, format=torchscript, keras=False, optimize=False, int8=False, dynamic=False, simplify=False, opset=None, workspace=4, nms=False, lr0=0.01, lrf=0.01, momentum=0.937, weight_decay=0.0005, warmup_epochs=3.0, warmup_momentum=0.8, warmup_bias_lr=0.1, box=7.5, cls=0.5, dfl=1.5, pose=12.0, kobj=1.0, label_smoothing=0.0, nbs=64, hsv_h=0.015, hsv_s=0.7, hsv_v=0.4, degrees=0.0, translate=0.1, scale=0.5, shear=0.0, perspective=0.0, flipud=0.0, fliplr=0.5, mosaic=1.0, mixup=0.0, copy_paste=0.0, auto_augment=randaugment, erasing=0.4, crop_fraction=1.0, cfg=None, tracker=botsort.yaml, save_dir=runs/detect/train\nDownloading https://ultralytics.com/assets/Arial.ttf to '/root/.config/Ultralytics/Arial.ttf'...\n",
     "output_type": "stream"
    },
    {
     "name": "stderr",
     "text": "100%|██████████| 755k/755k [00:00<00:00, 21.5MB/s]\n2024-03-07 12:52:03,943\tINFO util.py:124 -- Outdated packages:\n  ipywidgets==7.7.1 found, needs ipywidgets>=8\nRun `pip install -U ipywidgets`, then restart the notebook server for rich notebook output.\n2024-03-07 12:52:04,750\tINFO util.py:124 -- Outdated packages:\n  ipywidgets==7.7.1 found, needs ipywidgets>=8\nRun `pip install -U ipywidgets`, then restart the notebook server for rich notebook output.\n2024-03-07 12:52:07.177982: E external/local_xla/xla/stream_executor/cuda/cuda_dnn.cc:9261] Unable to register cuDNN factory: Attempting to register factory for plugin cuDNN when one has already been registered\n2024-03-07 12:52:07.178082: E external/local_xla/xla/stream_executor/cuda/cuda_fft.cc:607] Unable to register cuFFT factory: Attempting to register factory for plugin cuFFT when one has already been registered\n2024-03-07 12:52:07.309255: E external/local_xla/xla/stream_executor/cuda/cuda_blas.cc:1515] Unable to register cuBLAS factory: Attempting to register factory for plugin cuBLAS when one has already been registered\n",
     "output_type": "stream"
    },
    {
     "name": "stdout",
     "text": "Overriding model.yaml nc=6 with nc=4\n\n                   from  n    params  module                                       arguments                     \n  0                  -1  1      2320  ultralytics.nn.modules.conv.Conv             [3, 80, 3, 2]                 \n  1                  -1  1    115520  ultralytics.nn.modules.conv.Conv             [80, 160, 3, 2]               \n  2                  -1  3    436800  ultralytics.nn.modules.block.C2f             [160, 160, 3, True]           \n  3                  -1  1    461440  ultralytics.nn.modules.conv.Conv             [160, 320, 3, 2]              \n  4                  -1  6   3281920  ultralytics.nn.modules.block.C2f             [320, 320, 6, True]           \n  5                  -1  1   1844480  ultralytics.nn.modules.conv.Conv             [320, 640, 3, 2]              \n  6                  -1  6  13117440  ultralytics.nn.modules.block.C2f             [640, 640, 6, True]           \n  7                  -1  1   3687680  ultralytics.nn.modules.conv.Conv             [640, 640, 3, 2]              \n  8                  -1  3   6969600  ultralytics.nn.modules.block.C2f             [640, 640, 3, True]           \n  9                  -1  1   1025920  ultralytics.nn.modules.block.SPPF            [640, 640, 5]                 \n 10                  -1  1         0  torch.nn.modules.upsampling.Upsample         [None, 2, 'nearest']          \n 11             [-1, 6]  1         0  ultralytics.nn.modules.conv.Concat           [1]                           \n 12                  -1  3   7379200  ultralytics.nn.modules.block.C2f             [1280, 640, 3]                \n 13                  -1  1         0  torch.nn.modules.upsampling.Upsample         [None, 2, 'nearest']          \n 14             [-1, 4]  1         0  ultralytics.nn.modules.conv.Concat           [1]                           \n 15                  -1  3   1948800  ultralytics.nn.modules.block.C2f             [960, 320, 3]                 \n 16                  -1  1    922240  ultralytics.nn.modules.conv.Conv             [320, 320, 3, 2]              \n 17            [-1, 12]  1         0  ultralytics.nn.modules.conv.Concat           [1]                           \n 18                  -1  3   7174400  ultralytics.nn.modules.block.C2f             [960, 640, 3]                 \n 19                  -1  1   3687680  ultralytics.nn.modules.conv.Conv             [640, 640, 3, 2]              \n 20             [-1, 9]  1         0  ultralytics.nn.modules.conv.Concat           [1]                           \n 21                  -1  3   7379200  ultralytics.nn.modules.block.C2f             [1280, 640, 3]                \n 22        [15, 18, 21]  1   8721820  ultralytics.nn.modules.head.Detect           [4, [320, 640, 640]]          \nModel summary: 365 layers, 68156460 parameters, 68156444 gradients, 258.1 GFLOPs\n\nTransferred 589/595 items from pretrained weights\n\u001B[34m\u001B[1mTensorBoard: \u001B[0mStart with 'tensorboard --logdir runs/detect/train', view at http://localhost:6006/\n",
     "output_type": "stream"
    },
    {
     "name": "stderr",
     "text": "\u001B[34m\u001B[1mwandb\u001B[0m: Logging into wandb.ai. (Learn how to deploy a W&B server locally: https://wandb.me/wandb-server)\n\u001B[34m\u001B[1mwandb\u001B[0m: You can find your API key in your browser here: https://wandb.ai/authorize\n\u001B[34m\u001B[1mwandb\u001B[0m: Paste an API key from your profile and hit enter, or press ctrl+c to quit:",
     "output_type": "stream"
    },
    {
     "output_type": "stream",
     "name": "stdin",
     "text": "  \n"
    },
    {
     "name": "stderr",
     "text": "\u001B[34m\u001B[1mwandb\u001B[0m: Paste an API key from your profile and hit enter, or press ctrl+c to quit:",
     "output_type": "stream"
    },
    {
     "output_type": "stream",
     "name": "stdin",
     "text": "  ········································\n"
    },
    {
     "name": "stderr",
     "text": "\u001B[34m\u001B[1mwandb\u001B[0m: Appending key for api.wandb.ai to your netrc file: /root/.netrc\n",
     "output_type": "stream"
    },
    {
     "output_type": "display_data",
     "data": {
      "text/plain": "<IPython.core.display.HTML object>",
      "text/html": "wandb version 0.16.4 is available!  To upgrade, please run:\n $ pip install wandb --upgrade"
     },
     "metadata": {}
    },
    {
     "output_type": "display_data",
     "data": {
      "text/plain": "<IPython.core.display.HTML object>",
      "text/html": "Tracking run with wandb version 0.16.3"
     },
     "metadata": {}
    },
    {
     "output_type": "display_data",
     "data": {
      "text/plain": "<IPython.core.display.HTML object>",
      "text/html": "Run data is saved locally in <code>/kaggle/working/wandb/run-20240307_125236-v32gvofe</code>"
     },
     "metadata": {}
    },
    {
     "output_type": "display_data",
     "data": {
      "text/plain": "<IPython.core.display.HTML object>",
      "text/html": "Syncing run <strong><a href='https://wandb.ai/tinhnguyen23122004/YOLOv8/runs/v32gvofe' target=\"_blank\">train</a></strong> to <a href='https://wandb.ai/tinhnguyen23122004/YOLOv8' target=\"_blank\">Weights & Biases</a> (<a href='https://wandb.me/run' target=\"_blank\">docs</a>)<br/>"
     },
     "metadata": {}
    },
    {
     "output_type": "display_data",
     "data": {
      "text/plain": "<IPython.core.display.HTML object>",
      "text/html": " View project at <a href='https://wandb.ai/tinhnguyen23122004/YOLOv8' target=\"_blank\">https://wandb.ai/tinhnguyen23122004/YOLOv8</a>"
     },
     "metadata": {}
    },
    {
     "output_type": "display_data",
     "data": {
      "text/plain": "<IPython.core.display.HTML object>",
      "text/html": " View run at <a href='https://wandb.ai/tinhnguyen23122004/YOLOv8/runs/v32gvofe' target=\"_blank\">https://wandb.ai/tinhnguyen23122004/YOLOv8/runs/v32gvofe</a>"
     },
     "metadata": {}
    },
    {
     "name": "stdout",
     "text": "Freezing layer 'model.22.dfl.conv.weight'\n\u001B[34m\u001B[1mAMP: \u001B[0mrunning Automatic Mixed Precision (AMP) checks with YOLOv8n...\nDownloading https://github.com/ultralytics/assets/releases/download/v8.1.0/yolov8n.pt to 'yolov8n.pt'...\n",
     "output_type": "stream"
    },
    {
     "name": "stderr",
     "text": "100%|██████████| 6.23M/6.23M [00:00<00:00, 126MB/s]\n",
     "output_type": "stream"
    },
    {
     "name": "stdout",
     "text": "\u001B[34m\u001B[1mAMP: \u001B[0mchecks passed ✅\n",
     "output_type": "stream"
    },
    {
     "name": "stderr",
     "text": "\u001B[34m\u001B[1mtrain: \u001B[0mScanning /kaggle/working/td_dataset/train/labels... 170 images, 2 backgrounds, 0 corrupt: 100%|██████████| 170/170 [00:00<00:00, 1068.49it/s]",
     "output_type": "stream"
    },
    {
     "name": "stdout",
     "text": "\u001B[34m\u001B[1mtrain: \u001B[0mNew cache created: /kaggle/working/td_dataset/train/labels.cache\n",
     "output_type": "stream"
    },
    {
     "name": "stderr",
     "text": "\n",
     "output_type": "stream"
    },
    {
     "name": "stdout",
     "text": "\u001B[34m\u001B[1malbumentations: \u001B[0mBlur(p=0.01, blur_limit=(3, 7)), MedianBlur(p=0.01, blur_limit=(3, 7)), ToGray(p=0.01), CLAHE(p=0.01, clip_limit=(1, 4.0), tile_grid_size=(8, 8))\n",
     "output_type": "stream"
    },
    {
     "name": "stderr",
     "text": "\u001B[34m\u001B[1mval: \u001B[0mScanning /kaggle/working/td_dataset/valid/labels... 3 images, 0 backgrounds, 0 corrupt: 100%|██████████| 3/3 [00:00<00:00, 577.83it/s]",
     "output_type": "stream"
    },
    {
     "name": "stdout",
     "text": "\u001B[34m\u001B[1mval: \u001B[0mNew cache created: /kaggle/working/td_dataset/valid/labels.cache\n",
     "output_type": "stream"
    },
    {
     "name": "stderr",
     "text": "\n",
     "output_type": "stream"
    },
    {
     "name": "stdout",
     "text": "Plotting labels to runs/detect/train/labels.jpg... \n\u001B[34m\u001B[1moptimizer:\u001B[0m 'optimizer=auto' found, ignoring 'lr0=0.01' and 'momentum=0.937' and determining best 'optimizer', 'lr0' and 'momentum' automatically... \n\u001B[34m\u001B[1moptimizer:\u001B[0m AdamW(lr=0.00125, momentum=0.9) with parameter groups 97 weight(decay=0.0), 104 weight(decay=0.0005), 103 bias(decay=0.0)\n\u001B[34m\u001B[1mTensorBoard: \u001B[0mmodel graph visualization added ✅\nImage sizes 640 train, 640 val\nUsing 4 dataloader workers\nLogging results to \u001B[1mruns/detect/train\u001B[0m\nStarting training for 200 epochs...\n\n      Epoch    GPU_mem   box_loss   cls_loss   dfl_loss  Instances       Size\n",
     "output_type": "stream"
    },
    {
     "name": "stderr",
     "text": "      1/200      16.1G      1.217      4.101      1.268         18        640: 100%|██████████| 11/11 [00:17<00:00,  1.59s/it]\n                 Class     Images  Instances      Box(P          R      mAP50  mAP50-95): 100%|██████████| 1/1 [00:01<00:00,  1.25s/it]",
     "output_type": "stream"
    },
    {
     "name": "stdout",
     "text": "                   all          3          6      0.746      0.167      0.664      0.293\n",
     "output_type": "stream"
    },
    {
     "name": "stderr",
     "text": "\n",
     "output_type": "stream"
    },
    {
     "name": "stdout",
     "text": "\n      Epoch    GPU_mem   box_loss   cls_loss   dfl_loss  Instances       Size\n",
     "output_type": "stream"
    },
    {
     "name": "stderr",
     "text": "      2/200      16.4G      1.205      1.841      1.257         42        640: 100%|██████████| 11/11 [00:16<00:00,  1.50s/it]\n                 Class     Images  Instances      Box(P          R      mAP50  mAP50-95): 100%|██████████| 1/1 [00:00<00:00,  7.27it/s]",
     "output_type": "stream"
    },
    {
     "name": "stdout",
     "text": "                   all          3          6      0.753      0.827      0.995      0.492\n",
     "output_type": "stream"
    },
    {
     "name": "stderr",
     "text": "\n",
     "output_type": "stream"
    },
    {
     "name": "stdout",
     "text": "\n      Epoch    GPU_mem   box_loss   cls_loss   dfl_loss  Instances       Size\n",
     "output_type": "stream"
    },
    {
     "name": "stderr",
     "text": "      3/200      16.6G      1.218      1.369      1.256         21        640: 100%|██████████| 11/11 [00:16<00:00,  1.49s/it]\n                 Class     Images  Instances      Box(P          R      mAP50  mAP50-95): 100%|██████████| 1/1 [00:00<00:00,  7.49it/s]",
     "output_type": "stream"
    },
    {
     "name": "stdout",
     "text": "                   all          3          6      0.779      0.997      0.913       0.45\n",
     "output_type": "stream"
    },
    {
     "name": "stderr",
     "text": "\n",
     "output_type": "stream"
    },
    {
     "name": "stdout",
     "text": "\n      Epoch    GPU_mem   box_loss   cls_loss   dfl_loss  Instances       Size\n",
     "output_type": "stream"
    },
    {
     "name": "stderr",
     "text": "      4/200      15.3G      1.198      1.169       1.24         28        640: 100%|██████████| 11/11 [00:16<00:00,  1.50s/it]\n                 Class     Images  Instances      Box(P          R      mAP50  mAP50-95): 100%|██████████| 1/1 [00:00<00:00,  7.48it/s]",
     "output_type": "stream"
    },
    {
     "name": "stdout",
     "text": "                   all          3          6      0.978          1      0.995      0.445\n",
     "output_type": "stream"
    },
    {
     "name": "stderr",
     "text": "\n",
     "output_type": "stream"
    },
    {
     "name": "stdout",
     "text": "\n      Epoch    GPU_mem   box_loss   cls_loss   dfl_loss  Instances       Size\n",
     "output_type": "stream"
    },
    {
     "name": "stderr",
     "text": "      5/200      15.2G      1.218      1.093      1.231         45        640: 100%|██████████| 11/11 [00:16<00:00,  1.49s/it]\n                 Class     Images  Instances      Box(P          R      mAP50  mAP50-95): 100%|██████████| 1/1 [00:00<00:00,  7.45it/s]",
     "output_type": "stream"
    },
    {
     "name": "stdout",
     "text": "                   all          3          6      0.831          1      0.954      0.499\n",
     "output_type": "stream"
    },
    {
     "name": "stderr",
     "text": "\n",
     "output_type": "stream"
    },
    {
     "name": "stdout",
     "text": "\n      Epoch    GPU_mem   box_loss   cls_loss   dfl_loss  Instances       Size\n",
     "output_type": "stream"
    },
    {
     "name": "stderr",
     "text": "      6/200      16.4G      1.252      1.128      1.271         38        640: 100%|██████████| 11/11 [00:16<00:00,  1.49s/it]\n                 Class     Images  Instances      Box(P          R      mAP50  mAP50-95): 100%|██████████| 1/1 [00:00<00:00,  7.32it/s]",
     "output_type": "stream"
    },
    {
     "name": "stdout",
     "text": "                   all          3          6       0.65      0.833      0.793      0.401\n",
     "output_type": "stream"
    },
    {
     "name": "stderr",
     "text": "\n",
     "output_type": "stream"
    },
    {
     "name": "stdout",
     "text": "\n      Epoch    GPU_mem   box_loss   cls_loss   dfl_loss  Instances       Size\n",
     "output_type": "stream"
    },
    {
     "name": "stderr",
     "text": "      7/200      16.1G      1.229      1.136      1.257         41        640: 100%|██████████| 11/11 [00:16<00:00,  1.49s/it]\n                 Class     Images  Instances      Box(P          R      mAP50  mAP50-95): 100%|██████████| 1/1 [00:00<00:00,  7.45it/s]",
     "output_type": "stream"
    },
    {
     "name": "stdout",
     "text": "                   all          3          6      0.736      0.987      0.871      0.361\n",
     "output_type": "stream"
    },
    {
     "name": "stderr",
     "text": "\n",
     "output_type": "stream"
    },
    {
     "name": "stdout",
     "text": "\n      Epoch    GPU_mem   box_loss   cls_loss   dfl_loss  Instances       Size\n",
     "output_type": "stream"
    },
    {
     "name": "stderr",
     "text": "      8/200      16.1G      1.315      1.112      1.277         46        640: 100%|██████████| 11/11 [00:16<00:00,  1.47s/it]\n                 Class     Images  Instances      Box(P          R      mAP50  mAP50-95): 100%|██████████| 1/1 [00:00<00:00,  7.51it/s]",
     "output_type": "stream"
    },
    {
     "name": "stdout",
     "text": "                   all          3          6      0.765      0.982      0.929      0.557\n",
     "output_type": "stream"
    },
    {
     "name": "stderr",
     "text": "\n",
     "output_type": "stream"
    },
    {
     "name": "stdout",
     "text": "\n      Epoch    GPU_mem   box_loss   cls_loss   dfl_loss  Instances       Size\n",
     "output_type": "stream"
    },
    {
     "name": "stderr",
     "text": "      9/200      15.3G      1.291      1.125      1.258         42        640: 100%|██████████| 11/11 [00:16<00:00,  1.49s/it]\n                 Class     Images  Instances      Box(P          R      mAP50  mAP50-95): 100%|██████████| 1/1 [00:00<00:00,  7.35it/s]",
     "output_type": "stream"
    },
    {
     "name": "stdout",
     "text": "                   all          3          6      0.478          1      0.668      0.384\n",
     "output_type": "stream"
    },
    {
     "name": "stderr",
     "text": "\n",
     "output_type": "stream"
    },
    {
     "name": "stdout",
     "text": "\n      Epoch    GPU_mem   box_loss   cls_loss   dfl_loss  Instances       Size\n",
     "output_type": "stream"
    },
    {
     "name": "stderr",
     "text": "     10/200      13.5G      1.315       1.12      1.289         48        640: 100%|██████████| 11/11 [00:14<00:00,  1.32s/it]\n                 Class     Images  Instances      Box(P          R      mAP50  mAP50-95): 100%|██████████| 1/1 [00:00<00:00,  7.58it/s]",
     "output_type": "stream"
    },
    {
     "name": "stdout",
     "text": "                   all          3          6      0.728      0.667      0.777      0.337\n",
     "output_type": "stream"
    },
    {
     "name": "stderr",
     "text": "\n",
     "output_type": "stream"
    },
    {
     "name": "stdout",
     "text": "\n      Epoch    GPU_mem   box_loss   cls_loss   dfl_loss  Instances       Size\n",
     "output_type": "stream"
    },
    {
     "name": "stderr",
     "text": "     11/200        13G      1.356       1.19      1.351         38        640: 100%|██████████| 11/11 [00:14<00:00,  1.29s/it]\n                 Class     Images  Instances      Box(P          R      mAP50  mAP50-95): 100%|██████████| 1/1 [00:00<00:00,  7.47it/s]",
     "output_type": "stream"
    },
    {
     "name": "stdout",
     "text": "                   all          3          6      0.991      0.992      0.995      0.576\n",
     "output_type": "stream"
    },
    {
     "name": "stderr",
     "text": "\n",
     "output_type": "stream"
    },
    {
     "name": "stdout",
     "text": "\n      Epoch    GPU_mem   box_loss   cls_loss   dfl_loss  Instances       Size\n",
     "output_type": "stream"
    },
    {
     "name": "stderr",
     "text": "     12/200      13.4G       1.37      1.135      1.301         44        640: 100%|██████████| 11/11 [00:14<00:00,  1.29s/it]\n                 Class     Images  Instances      Box(P          R      mAP50  mAP50-95): 100%|██████████| 1/1 [00:00<00:00,  7.46it/s]",
     "output_type": "stream"
    },
    {
     "name": "stdout",
     "text": "                   all          3          6       0.93      0.645      0.806      0.295\n",
     "output_type": "stream"
    },
    {
     "name": "stderr",
     "text": "\n",
     "output_type": "stream"
    },
    {
     "name": "stdout",
     "text": "\n      Epoch    GPU_mem   box_loss   cls_loss   dfl_loss  Instances       Size\n",
     "output_type": "stream"
    },
    {
     "name": "stderr",
     "text": "     13/200      14.1G      1.381      1.191      1.325         30        640: 100%|██████████| 11/11 [00:14<00:00,  1.29s/it]\n                 Class     Images  Instances      Box(P          R      mAP50  mAP50-95): 100%|██████████| 1/1 [00:00<00:00,  7.35it/s]",
     "output_type": "stream"
    },
    {
     "name": "stdout",
     "text": "                   all          3          6      0.864      0.828      0.871       0.32\n",
     "output_type": "stream"
    },
    {
     "name": "stderr",
     "text": "\n",
     "output_type": "stream"
    },
    {
     "name": "stdout",
     "text": "\n      Epoch    GPU_mem   box_loss   cls_loss   dfl_loss  Instances       Size\n",
     "output_type": "stream"
    },
    {
     "name": "stderr",
     "text": "     14/200      14.2G      1.291      1.129      1.273         42        640: 100%|██████████| 11/11 [00:14<00:00,  1.29s/it]\n                 Class     Images  Instances      Box(P          R      mAP50  mAP50-95): 100%|██████████| 1/1 [00:00<00:00,  7.56it/s]",
     "output_type": "stream"
    },
    {
     "name": "stdout",
     "text": "                   all          3          6      0.422      0.798      0.693      0.157\n",
     "output_type": "stream"
    },
    {
     "name": "stderr",
     "text": "\n",
     "output_type": "stream"
    },
    {
     "name": "stdout",
     "text": "\n      Epoch    GPU_mem   box_loss   cls_loss   dfl_loss  Instances       Size\n",
     "output_type": "stream"
    },
    {
     "name": "stderr",
     "text": "     15/200      14.2G       1.35      1.173      1.336         34        640: 100%|██████████| 11/11 [00:14<00:00,  1.29s/it]\n                 Class     Images  Instances      Box(P          R      mAP50  mAP50-95): 100%|██████████| 1/1 [00:00<00:00,  7.35it/s]",
     "output_type": "stream"
    },
    {
     "name": "stdout",
     "text": "                   all          3          6        0.6          1      0.755      0.387\n",
     "output_type": "stream"
    },
    {
     "name": "stderr",
     "text": "\n",
     "output_type": "stream"
    },
    {
     "name": "stdout",
     "text": "\n      Epoch    GPU_mem   box_loss   cls_loss   dfl_loss  Instances       Size\n",
     "output_type": "stream"
    },
    {
     "name": "stderr",
     "text": "     16/200      14.2G      1.319      1.109      1.319         23        640: 100%|██████████| 11/11 [00:14<00:00,  1.29s/it]\n                 Class     Images  Instances      Box(P          R      mAP50  mAP50-95): 100%|██████████| 1/1 [00:00<00:00,  7.31it/s]",
     "output_type": "stream"
    },
    {
     "name": "stdout",
     "text": "                   all          3          6      0.886       0.97      0.995      0.532\n",
     "output_type": "stream"
    },
    {
     "name": "stderr",
     "text": "\n",
     "output_type": "stream"
    },
    {
     "name": "stdout",
     "text": "\n      Epoch    GPU_mem   box_loss   cls_loss   dfl_loss  Instances       Size\n",
     "output_type": "stream"
    },
    {
     "name": "stderr",
     "text": "     17/200      14.1G      1.323      1.157      1.345         33        640: 100%|██████████| 11/11 [00:14<00:00,  1.29s/it]\n                 Class     Images  Instances      Box(P          R      mAP50  mAP50-95): 100%|██████████| 1/1 [00:00<00:00,  7.44it/s]",
     "output_type": "stream"
    },
    {
     "name": "stdout",
     "text": "                   all          3          6       0.82      0.989      0.913      0.467\n",
     "output_type": "stream"
    },
    {
     "name": "stderr",
     "text": "\n",
     "output_type": "stream"
    },
    {
     "name": "stdout",
     "text": "\n      Epoch    GPU_mem   box_loss   cls_loss   dfl_loss  Instances       Size\n",
     "output_type": "stream"
    },
    {
     "name": "stderr",
     "text": "     18/200      14.1G      1.365      1.178       1.32         45        640: 100%|██████████| 11/11 [00:14<00:00,  1.29s/it]\n                 Class     Images  Instances      Box(P          R      mAP50  mAP50-95): 100%|██████████| 1/1 [00:00<00:00,  7.34it/s]",
     "output_type": "stream"
    },
    {
     "name": "stdout",
     "text": "                   all          3          6      0.778      0.774      0.874      0.376\n",
     "output_type": "stream"
    },
    {
     "name": "stderr",
     "text": "\n",
     "output_type": "stream"
    },
    {
     "name": "stdout",
     "text": "\n      Epoch    GPU_mem   box_loss   cls_loss   dfl_loss  Instances       Size\n",
     "output_type": "stream"
    },
    {
     "name": "stderr",
     "text": "     19/200      14.2G      1.295      1.087      1.287         26        640: 100%|██████████| 11/11 [00:14<00:00,  1.29s/it]\n                 Class     Images  Instances      Box(P          R      mAP50  mAP50-95): 100%|██████████| 1/1 [00:00<00:00,  7.31it/s]",
     "output_type": "stream"
    },
    {
     "name": "stdout",
     "text": "                   all          3          6      0.882      0.813      0.954      0.549\n",
     "output_type": "stream"
    },
    {
     "name": "stderr",
     "text": "\n",
     "output_type": "stream"
    },
    {
     "name": "stdout",
     "text": "\n      Epoch    GPU_mem   box_loss   cls_loss   dfl_loss  Instances       Size\n",
     "output_type": "stream"
    },
    {
     "name": "stderr",
     "text": "     20/200      14.2G      1.298      1.113      1.292         36        640: 100%|██████████| 11/11 [00:14<00:00,  1.29s/it]\n                 Class     Images  Instances      Box(P          R      mAP50  mAP50-95): 100%|██████████| 1/1 [00:00<00:00,  7.51it/s]",
     "output_type": "stream"
    },
    {
     "name": "stdout",
     "text": "                   all          3          6      0.948      0.629      0.708      0.298\n",
     "output_type": "stream"
    },
    {
     "name": "stderr",
     "text": "\n",
     "output_type": "stream"
    },
    {
     "name": "stdout",
     "text": "\n      Epoch    GPU_mem   box_loss   cls_loss   dfl_loss  Instances       Size\n",
     "output_type": "stream"
    },
    {
     "name": "stderr",
     "text": "     21/200      14.1G      1.287      1.117      1.292         43        640: 100%|██████████| 11/11 [00:14<00:00,  1.29s/it]\n                 Class     Images  Instances      Box(P          R      mAP50  mAP50-95): 100%|██████████| 1/1 [00:00<00:00,  7.31it/s]",
     "output_type": "stream"
    },
    {
     "name": "stdout",
     "text": "                   all          3          6      0.942        0.5      0.688      0.359\n",
     "output_type": "stream"
    },
    {
     "name": "stderr",
     "text": "\n",
     "output_type": "stream"
    },
    {
     "name": "stdout",
     "text": "\n      Epoch    GPU_mem   box_loss   cls_loss   dfl_loss  Instances       Size\n",
     "output_type": "stream"
    },
    {
     "name": "stderr",
     "text": "     22/200      14.2G      1.288      1.061      1.295         37        640: 100%|██████████| 11/11 [00:14<00:00,  1.29s/it]\n                 Class     Images  Instances      Box(P          R      mAP50  mAP50-95): 100%|██████████| 1/1 [00:00<00:00,  7.47it/s]",
     "output_type": "stream"
    },
    {
     "name": "stdout",
     "text": "                   all          3          6      0.847      0.945      0.954      0.512\n",
     "output_type": "stream"
    },
    {
     "name": "stderr",
     "text": "\n",
     "output_type": "stream"
    },
    {
     "name": "stdout",
     "text": "\n      Epoch    GPU_mem   box_loss   cls_loss   dfl_loss  Instances       Size\n",
     "output_type": "stream"
    },
    {
     "name": "stderr",
     "text": "     23/200      14.2G      1.323      1.112      1.324         38        640: 100%|██████████| 11/11 [00:14<00:00,  1.29s/it]\n                 Class     Images  Instances      Box(P          R      mAP50  mAP50-95): 100%|██████████| 1/1 [00:00<00:00,  7.25it/s]",
     "output_type": "stream"
    },
    {
     "name": "stdout",
     "text": "                   all          3          6      0.835      0.942      0.954      0.545\n",
     "output_type": "stream"
    },
    {
     "name": "stderr",
     "text": "\n",
     "output_type": "stream"
    },
    {
     "name": "stdout",
     "text": "\n      Epoch    GPU_mem   box_loss   cls_loss   dfl_loss  Instances       Size\n",
     "output_type": "stream"
    },
    {
     "name": "stderr",
     "text": "     24/200      14.3G      1.231      1.053      1.259         28        640: 100%|██████████| 11/11 [00:14<00:00,  1.29s/it]\n                 Class     Images  Instances      Box(P          R      mAP50  mAP50-95): 100%|██████████| 1/1 [00:00<00:00,  7.45it/s]",
     "output_type": "stream"
    },
    {
     "name": "stdout",
     "text": "                   all          3          6      0.972      0.743      0.913      0.447\n",
     "output_type": "stream"
    },
    {
     "name": "stderr",
     "text": "\n",
     "output_type": "stream"
    },
    {
     "name": "stdout",
     "text": "\n      Epoch    GPU_mem   box_loss   cls_loss   dfl_loss  Instances       Size\n",
     "output_type": "stream"
    },
    {
     "name": "stderr",
     "text": "     25/200      14.1G      1.194     0.9965      1.221         40        640: 100%|██████████| 11/11 [00:14<00:00,  1.29s/it]\n                 Class     Images  Instances      Box(P          R      mAP50  mAP50-95): 100%|██████████| 1/1 [00:00<00:00,  7.53it/s]",
     "output_type": "stream"
    },
    {
     "name": "stdout",
     "text": "                   all          3          6      0.912        0.5      0.721      0.304\n",
     "output_type": "stream"
    },
    {
     "name": "stderr",
     "text": "\n",
     "output_type": "stream"
    },
    {
     "name": "stdout",
     "text": "\n      Epoch    GPU_mem   box_loss   cls_loss   dfl_loss  Instances       Size\n",
     "output_type": "stream"
    },
    {
     "name": "stderr",
     "text": "     26/200      14.2G      1.234      1.001      1.253         32        640: 100%|██████████| 11/11 [00:14<00:00,  1.29s/it]\n                 Class     Images  Instances      Box(P          R      mAP50  mAP50-95): 100%|██████████| 1/1 [00:00<00:00,  7.22it/s]",
     "output_type": "stream"
    },
    {
     "name": "stdout",
     "text": "                   all          3          6      0.814      0.802      0.818      0.372\n",
     "output_type": "stream"
    },
    {
     "name": "stderr",
     "text": "\n",
     "output_type": "stream"
    },
    {
     "name": "stdout",
     "text": "\n      Epoch    GPU_mem   box_loss   cls_loss   dfl_loss  Instances       Size\n",
     "output_type": "stream"
    },
    {
     "name": "stderr",
     "text": "     27/200      14.2G       1.24      1.001      1.265         40        640: 100%|██████████| 11/11 [00:14<00:00,  1.29s/it]\n                 Class     Images  Instances      Box(P          R      mAP50  mAP50-95): 100%|██████████| 1/1 [00:00<00:00,  7.46it/s]",
     "output_type": "stream"
    },
    {
     "name": "stdout",
     "text": "                   all          3          6      0.972      0.863      0.995      0.545\n",
     "output_type": "stream"
    },
    {
     "name": "stderr",
     "text": "\n",
     "output_type": "stream"
    },
    {
     "name": "stdout",
     "text": "\n      Epoch    GPU_mem   box_loss   cls_loss   dfl_loss  Instances       Size\n",
     "output_type": "stream"
    },
    {
     "name": "stderr",
     "text": "     28/200      14.2G      1.239     0.9887      1.274         32        640: 100%|██████████| 11/11 [00:14<00:00,  1.29s/it]\n                 Class     Images  Instances      Box(P          R      mAP50  mAP50-95): 100%|██████████| 1/1 [00:00<00:00,  7.41it/s]",
     "output_type": "stream"
    },
    {
     "name": "stdout",
     "text": "                   all          3          6      0.832      0.833      0.954        0.5\n",
     "output_type": "stream"
    },
    {
     "name": "stderr",
     "text": "\n",
     "output_type": "stream"
    },
    {
     "name": "stdout",
     "text": "\n      Epoch    GPU_mem   box_loss   cls_loss   dfl_loss  Instances       Size\n",
     "output_type": "stream"
    },
    {
     "name": "stderr",
     "text": "     29/200      14.1G      1.238     0.9627      1.265         34        640: 100%|██████████| 11/11 [00:14<00:00,  1.29s/it]\n                 Class     Images  Instances      Box(P          R      mAP50  mAP50-95): 100%|██████████| 1/1 [00:00<00:00,  7.43it/s]",
     "output_type": "stream"
    },
    {
     "name": "stdout",
     "text": "                   all          3          6      0.638      0.833      0.783       0.41\n",
     "output_type": "stream"
    },
    {
     "name": "stderr",
     "text": "\n",
     "output_type": "stream"
    },
    {
     "name": "stdout",
     "text": "\n      Epoch    GPU_mem   box_loss   cls_loss   dfl_loss  Instances       Size\n",
     "output_type": "stream"
    },
    {
     "name": "stderr",
     "text": "     30/200      14.1G      1.273      1.016      1.275         48        640: 100%|██████████| 11/11 [00:14<00:00,  1.29s/it]\n                 Class     Images  Instances      Box(P          R      mAP50  mAP50-95): 100%|██████████| 1/1 [00:00<00:00,  7.26it/s]",
     "output_type": "stream"
    },
    {
     "name": "stdout",
     "text": "                   all          3          6      0.964      0.798      0.995      0.463\n",
     "output_type": "stream"
    },
    {
     "name": "stderr",
     "text": "\n",
     "output_type": "stream"
    },
    {
     "name": "stdout",
     "text": "\n      Epoch    GPU_mem   box_loss   cls_loss   dfl_loss  Instances       Size\n",
     "output_type": "stream"
    },
    {
     "name": "stderr",
     "text": "     31/200      14.2G      1.237     0.9532      1.258         47        640: 100%|██████████| 11/11 [00:14<00:00,  1.29s/it]\n                 Class     Images  Instances      Box(P          R      mAP50  mAP50-95): 100%|██████████| 1/1 [00:00<00:00,  7.36it/s]",
     "output_type": "stream"
    },
    {
     "name": "stdout",
     "text": "                   all          3          6      0.962          1      0.995      0.523\n",
     "output_type": "stream"
    },
    {
     "name": "stderr",
     "text": "\n",
     "output_type": "stream"
    },
    {
     "name": "stdout",
     "text": "\n      Epoch    GPU_mem   box_loss   cls_loss   dfl_loss  Instances       Size\n",
     "output_type": "stream"
    },
    {
     "name": "stderr",
     "text": "     32/200      14.2G      1.288      1.011      1.271         58        640: 100%|██████████| 11/11 [00:14<00:00,  1.29s/it]\n                 Class     Images  Instances      Box(P          R      mAP50  mAP50-95): 100%|██████████| 1/1 [00:00<00:00,  7.46it/s]",
     "output_type": "stream"
    },
    {
     "name": "stdout",
     "text": "                   all          3          6      0.817          1      0.954      0.475\n",
     "output_type": "stream"
    },
    {
     "name": "stderr",
     "text": "\n",
     "output_type": "stream"
    },
    {
     "name": "stdout",
     "text": "\n      Epoch    GPU_mem   box_loss   cls_loss   dfl_loss  Instances       Size\n",
     "output_type": "stream"
    },
    {
     "name": "stderr",
     "text": "     33/200      14.1G       1.25      0.936      1.269         38        640: 100%|██████████| 11/11 [00:14<00:00,  1.29s/it]\n                 Class     Images  Instances      Box(P          R      mAP50  mAP50-95): 100%|██████████| 1/1 [00:00<00:00,  7.47it/s]",
     "output_type": "stream"
    },
    {
     "name": "stdout",
     "text": "                   all          3          6       0.86          1      0.995      0.548\n",
     "output_type": "stream"
    },
    {
     "name": "stderr",
     "text": "\n",
     "output_type": "stream"
    },
    {
     "name": "stdout",
     "text": "\n      Epoch    GPU_mem   box_loss   cls_loss   dfl_loss  Instances       Size\n",
     "output_type": "stream"
    },
    {
     "name": "stderr",
     "text": "     34/200      14.1G       1.29     0.9975       1.33         33        640: 100%|██████████| 11/11 [00:14<00:00,  1.29s/it]\n                 Class     Images  Instances      Box(P          R      mAP50  mAP50-95): 100%|██████████| 1/1 [00:00<00:00,  7.27it/s]",
     "output_type": "stream"
    },
    {
     "name": "stdout",
     "text": "                   all          3          6      0.867          1      0.995      0.582\n",
     "output_type": "stream"
    },
    {
     "name": "stderr",
     "text": "\n",
     "output_type": "stream"
    },
    {
     "name": "stdout",
     "text": "\n      Epoch    GPU_mem   box_loss   cls_loss   dfl_loss  Instances       Size\n",
     "output_type": "stream"
    },
    {
     "name": "stderr",
     "text": "     35/200      14.2G      1.205     0.9533      1.231         38        640: 100%|██████████| 11/11 [00:14<00:00,  1.29s/it]\n                 Class     Images  Instances      Box(P          R      mAP50  mAP50-95): 100%|██████████| 1/1 [00:00<00:00,  7.38it/s]",
     "output_type": "stream"
    },
    {
     "name": "stdout",
     "text": "                   all          3          6      0.873      0.976      0.954       0.52\n",
     "output_type": "stream"
    },
    {
     "name": "stderr",
     "text": "\n",
     "output_type": "stream"
    },
    {
     "name": "stdout",
     "text": "\n      Epoch    GPU_mem   box_loss   cls_loss   dfl_loss  Instances       Size\n",
     "output_type": "stream"
    },
    {
     "name": "stderr",
     "text": "     36/200      14.2G      1.203     0.9631      1.263         34        640: 100%|██████████| 11/11 [00:14<00:00,  1.29s/it]\n                 Class     Images  Instances      Box(P          R      mAP50  mAP50-95): 100%|██████████| 1/1 [00:00<00:00,  7.47it/s]",
     "output_type": "stream"
    },
    {
     "name": "stdout",
     "text": "                   all          3          6      0.828          1      0.913      0.438\n",
     "output_type": "stream"
    },
    {
     "name": "stderr",
     "text": "\n",
     "output_type": "stream"
    },
    {
     "name": "stdout",
     "text": "\n      Epoch    GPU_mem   box_loss   cls_loss   dfl_loss  Instances       Size\n",
     "output_type": "stream"
    },
    {
     "name": "stderr",
     "text": "     37/200      14.1G      1.201     0.9565      1.251         39        640: 100%|██████████| 11/11 [00:14<00:00,  1.29s/it]\n                 Class     Images  Instances      Box(P          R      mAP50  mAP50-95): 100%|██████████| 1/1 [00:00<00:00,  7.36it/s]",
     "output_type": "stream"
    },
    {
     "name": "stdout",
     "text": "                   all          3          6      0.938      0.971      0.995      0.455\n",
     "output_type": "stream"
    },
    {
     "name": "stderr",
     "text": "\n",
     "output_type": "stream"
    },
    {
     "name": "stdout",
     "text": "\n      Epoch    GPU_mem   box_loss   cls_loss   dfl_loss  Instances       Size\n",
     "output_type": "stream"
    },
    {
     "name": "stderr",
     "text": "     38/200      14.2G      1.192     0.9586      1.228         33        640: 100%|██████████| 11/11 [00:14<00:00,  1.29s/it]\n                 Class     Images  Instances      Box(P          R      mAP50  mAP50-95): 100%|██████████| 1/1 [00:00<00:00,  7.33it/s]",
     "output_type": "stream"
    },
    {
     "name": "stdout",
     "text": "                   all          3          6      0.852          1      0.995      0.513\n",
     "output_type": "stream"
    },
    {
     "name": "stderr",
     "text": "\n",
     "output_type": "stream"
    },
    {
     "name": "stdout",
     "text": "\n      Epoch    GPU_mem   box_loss   cls_loss   dfl_loss  Instances       Size\n",
     "output_type": "stream"
    },
    {
     "name": "stderr",
     "text": "     39/200      14.2G      1.182     0.9178      1.243         47        640: 100%|██████████| 11/11 [00:14<00:00,  1.29s/it]\n                 Class     Images  Instances      Box(P          R      mAP50  mAP50-95): 100%|██████████| 1/1 [00:00<00:00,  7.46it/s]",
     "output_type": "stream"
    },
    {
     "name": "stdout",
     "text": "                   all          3          6      0.941          1      0.995      0.493\n",
     "output_type": "stream"
    },
    {
     "name": "stderr",
     "text": "\n",
     "output_type": "stream"
    },
    {
     "name": "stdout",
     "text": "\n      Epoch    GPU_mem   box_loss   cls_loss   dfl_loss  Instances       Size\n",
     "output_type": "stream"
    },
    {
     "name": "stderr",
     "text": "     40/200      14.2G      1.169     0.9062      1.236         27        640: 100%|██████████| 11/11 [00:14<00:00,  1.29s/it]\n                 Class     Images  Instances      Box(P          R      mAP50  mAP50-95): 100%|██████████| 1/1 [00:00<00:00,  7.42it/s]",
     "output_type": "stream"
    },
    {
     "name": "stdout",
     "text": "                   all          3          6      0.789      0.833      0.779      0.481\n",
     "output_type": "stream"
    },
    {
     "name": "stderr",
     "text": "\n",
     "output_type": "stream"
    },
    {
     "name": "stdout",
     "text": "\n      Epoch    GPU_mem   box_loss   cls_loss   dfl_loss  Instances       Size\n",
     "output_type": "stream"
    },
    {
     "name": "stderr",
     "text": "     41/200      14.1G      1.132     0.8982      1.215         48        640: 100%|██████████| 11/11 [00:14<00:00,  1.29s/it]\n                 Class     Images  Instances      Box(P          R      mAP50  mAP50-95): 100%|██████████| 1/1 [00:00<00:00,  7.39it/s]",
     "output_type": "stream"
    },
    {
     "name": "stdout",
     "text": "                   all          3          6      0.931      0.667       0.78      0.429\n",
     "output_type": "stream"
    },
    {
     "name": "stderr",
     "text": "\n",
     "output_type": "stream"
    },
    {
     "name": "stdout",
     "text": "\n      Epoch    GPU_mem   box_loss   cls_loss   dfl_loss  Instances       Size\n",
     "output_type": "stream"
    },
    {
     "name": "stderr",
     "text": "     42/200      14.1G      1.137     0.9048      1.203         33        640: 100%|██████████| 11/11 [00:14<00:00,  1.29s/it]\n                 Class     Images  Instances      Box(P          R      mAP50  mAP50-95): 100%|██████████| 1/1 [00:00<00:00,  7.47it/s]",
     "output_type": "stream"
    },
    {
     "name": "stdout",
     "text": "                   all          3          6      0.929      0.833      0.841      0.444\n",
     "output_type": "stream"
    },
    {
     "name": "stderr",
     "text": "\n",
     "output_type": "stream"
    },
    {
     "name": "stdout",
     "text": "\n      Epoch    GPU_mem   box_loss   cls_loss   dfl_loss  Instances       Size\n",
     "output_type": "stream"
    },
    {
     "name": "stderr",
     "text": "     43/200      14.2G      1.148     0.9084      1.225         26        640: 100%|██████████| 11/11 [00:14<00:00,  1.29s/it]\n                 Class     Images  Instances      Box(P          R      mAP50  mAP50-95): 100%|██████████| 1/1 [00:00<00:00,  7.45it/s]",
     "output_type": "stream"
    },
    {
     "name": "stdout",
     "text": "                   all          3          6      0.813          1      0.954      0.518\n",
     "output_type": "stream"
    },
    {
     "name": "stderr",
     "text": "\n",
     "output_type": "stream"
    },
    {
     "name": "stdout",
     "text": "\n      Epoch    GPU_mem   box_loss   cls_loss   dfl_loss  Instances       Size\n",
     "output_type": "stream"
    },
    {
     "name": "stderr",
     "text": "     44/200      14.2G      1.156     0.9359      1.248         24        640: 100%|██████████| 11/11 [00:14<00:00,  1.29s/it]\n                 Class     Images  Instances      Box(P          R      mAP50  mAP50-95): 100%|██████████| 1/1 [00:00<00:00,  7.49it/s]",
     "output_type": "stream"
    },
    {
     "name": "stdout",
     "text": "                   all          3          6      0.911      0.794      0.845      0.403\n",
     "output_type": "stream"
    },
    {
     "name": "stderr",
     "text": "\n",
     "output_type": "stream"
    },
    {
     "name": "stdout",
     "text": "\n      Epoch    GPU_mem   box_loss   cls_loss   dfl_loss  Instances       Size\n",
     "output_type": "stream"
    },
    {
     "name": "stderr",
     "text": "     45/200      14.1G      1.162     0.9112      1.227         29        640: 100%|██████████| 11/11 [00:14<00:00,  1.29s/it]\n                 Class     Images  Instances      Box(P          R      mAP50  mAP50-95): 100%|██████████| 1/1 [00:00<00:00,  7.51it/s]",
     "output_type": "stream"
    },
    {
     "name": "stdout",
     "text": "                   all          3          6          1       0.93      0.995      0.454\n",
     "output_type": "stream"
    },
    {
     "name": "stderr",
     "text": "\n",
     "output_type": "stream"
    },
    {
     "name": "stdout",
     "text": "\n      Epoch    GPU_mem   box_loss   cls_loss   dfl_loss  Instances       Size\n",
     "output_type": "stream"
    },
    {
     "name": "stderr",
     "text": "     46/200      14.2G      1.164     0.8852      1.236         23        640: 100%|██████████| 11/11 [00:14<00:00,  1.29s/it]\n                 Class     Images  Instances      Box(P          R      mAP50  mAP50-95): 100%|██████████| 1/1 [00:00<00:00,  7.39it/s]",
     "output_type": "stream"
    },
    {
     "name": "stdout",
     "text": "                   all          3          6      0.631          1      0.888      0.382\n",
     "output_type": "stream"
    },
    {
     "name": "stderr",
     "text": "\n",
     "output_type": "stream"
    },
    {
     "name": "stdout",
     "text": "\n      Epoch    GPU_mem   box_loss   cls_loss   dfl_loss  Instances       Size\n",
     "output_type": "stream"
    },
    {
     "name": "stderr",
     "text": "     47/200      14.2G      1.083     0.8254      1.188         36        640: 100%|██████████| 11/11 [00:14<00:00,  1.29s/it]\n                 Class     Images  Instances      Box(P          R      mAP50  mAP50-95): 100%|██████████| 1/1 [00:00<00:00,  7.50it/s]",
     "output_type": "stream"
    },
    {
     "name": "stdout",
     "text": "                   all          3          6      0.726          1      0.871      0.478\n",
     "output_type": "stream"
    },
    {
     "name": "stderr",
     "text": "\n",
     "output_type": "stream"
    },
    {
     "name": "stdout",
     "text": "\n      Epoch    GPU_mem   box_loss   cls_loss   dfl_loss  Instances       Size\n",
     "output_type": "stream"
    },
    {
     "name": "stderr",
     "text": "     48/200      14.2G      1.112     0.8374      1.206         33        640: 100%|██████████| 11/11 [00:14<00:00,  1.29s/it]\n                 Class     Images  Instances      Box(P          R      mAP50  mAP50-95): 100%|██████████| 1/1 [00:00<00:00,  7.53it/s]",
     "output_type": "stream"
    },
    {
     "name": "stdout",
     "text": "                   all          3          6      0.978      0.974      0.995      0.576\n",
     "output_type": "stream"
    },
    {
     "name": "stderr",
     "text": "\n",
     "output_type": "stream"
    },
    {
     "name": "stdout",
     "text": "\n      Epoch    GPU_mem   box_loss   cls_loss   dfl_loss  Instances       Size\n",
     "output_type": "stream"
    },
    {
     "name": "stderr",
     "text": "     49/200      14.1G      1.137     0.8427      1.184         43        640: 100%|██████████| 11/11 [00:14<00:00,  1.29s/it]\n                 Class     Images  Instances      Box(P          R      mAP50  mAP50-95): 100%|██████████| 1/1 [00:00<00:00,  7.40it/s]",
     "output_type": "stream"
    },
    {
     "name": "stdout",
     "text": "                   all          3          6       0.91      0.977      0.995      0.629\n",
     "output_type": "stream"
    },
    {
     "name": "stderr",
     "text": "\n",
     "output_type": "stream"
    },
    {
     "name": "stdout",
     "text": "\n      Epoch    GPU_mem   box_loss   cls_loss   dfl_loss  Instances       Size\n",
     "output_type": "stream"
    },
    {
     "name": "stderr",
     "text": "     50/200      14.1G      1.128     0.8521      1.211         36        640: 100%|██████████| 11/11 [00:14<00:00,  1.29s/it]\n                 Class     Images  Instances      Box(P          R      mAP50  mAP50-95): 100%|██████████| 1/1 [00:00<00:00,  7.30it/s]",
     "output_type": "stream"
    },
    {
     "name": "stdout",
     "text": "                   all          3          6      0.962      0.977      0.995      0.618\n",
     "output_type": "stream"
    },
    {
     "name": "stderr",
     "text": "\n",
     "output_type": "stream"
    },
    {
     "name": "stdout",
     "text": "\n      Epoch    GPU_mem   box_loss   cls_loss   dfl_loss  Instances       Size\n",
     "output_type": "stream"
    },
    {
     "name": "stderr",
     "text": "     51/200      14.2G      1.157     0.8384      1.212         39        640: 100%|██████████| 11/11 [00:14<00:00,  1.29s/it]\n                 Class     Images  Instances      Box(P          R      mAP50  mAP50-95): 100%|██████████| 1/1 [00:00<00:00,  7.38it/s]",
     "output_type": "stream"
    },
    {
     "name": "stdout",
     "text": "                   all          3          6      0.921      0.765      0.892      0.547\n",
     "output_type": "stream"
    },
    {
     "name": "stderr",
     "text": "\n",
     "output_type": "stream"
    },
    {
     "name": "stdout",
     "text": "\n      Epoch    GPU_mem   box_loss   cls_loss   dfl_loss  Instances       Size\n",
     "output_type": "stream"
    },
    {
     "name": "stderr",
     "text": "     52/200      14.2G      1.139     0.8407      1.193         27        640: 100%|██████████| 11/11 [00:14<00:00,  1.29s/it]\n                 Class     Images  Instances      Box(P          R      mAP50  mAP50-95): 100%|██████████| 1/1 [00:00<00:00,  7.38it/s]",
     "output_type": "stream"
    },
    {
     "name": "stdout",
     "text": "                   all          3          6       0.95      0.833      0.954      0.505\n",
     "output_type": "stream"
    },
    {
     "name": "stderr",
     "text": "\n",
     "output_type": "stream"
    },
    {
     "name": "stdout",
     "text": "\n      Epoch    GPU_mem   box_loss   cls_loss   dfl_loss  Instances       Size\n",
     "output_type": "stream"
    },
    {
     "name": "stderr",
     "text": "     53/200      14.1G      1.095     0.7855      1.175         29        640: 100%|██████████| 11/11 [00:14<00:00,  1.29s/it]\n                 Class     Images  Instances      Box(P          R      mAP50  mAP50-95): 100%|██████████| 1/1 [00:00<00:00,  7.42it/s]",
     "output_type": "stream"
    },
    {
     "name": "stdout",
     "text": "                   all          3          6      0.832      0.994      0.995      0.608\n",
     "output_type": "stream"
    },
    {
     "name": "stderr",
     "text": "\n",
     "output_type": "stream"
    },
    {
     "name": "stdout",
     "text": "\n      Epoch    GPU_mem   box_loss   cls_loss   dfl_loss  Instances       Size\n",
     "output_type": "stream"
    },
    {
     "name": "stderr",
     "text": "     54/200      14.2G      1.127     0.8266      1.209         34        640: 100%|██████████| 11/11 [00:14<00:00,  1.29s/it]\n                 Class     Images  Instances      Box(P          R      mAP50  mAP50-95): 100%|██████████| 1/1 [00:00<00:00,  7.21it/s]",
     "output_type": "stream"
    },
    {
     "name": "stdout",
     "text": "                   all          3          6      0.707      0.991       0.83      0.419\n",
     "output_type": "stream"
    },
    {
     "name": "stderr",
     "text": "\n",
     "output_type": "stream"
    },
    {
     "name": "stdout",
     "text": "\n      Epoch    GPU_mem   box_loss   cls_loss   dfl_loss  Instances       Size\n",
     "output_type": "stream"
    },
    {
     "name": "stderr",
     "text": "     55/200      14.2G       1.13     0.8131      1.212         44        640: 100%|██████████| 11/11 [00:14<00:00,  1.29s/it]\n                 Class     Images  Instances      Box(P          R      mAP50  mAP50-95): 100%|██████████| 1/1 [00:00<00:00,  7.44it/s]",
     "output_type": "stream"
    },
    {
     "name": "stdout",
     "text": "                   all          3          6      0.912      0.833      0.954      0.538\n",
     "output_type": "stream"
    },
    {
     "name": "stderr",
     "text": "\n",
     "output_type": "stream"
    },
    {
     "name": "stdout",
     "text": "\n      Epoch    GPU_mem   box_loss   cls_loss   dfl_loss  Instances       Size\n",
     "output_type": "stream"
    },
    {
     "name": "stderr",
     "text": "     56/200      14.2G      1.104     0.7714      1.199         38        640: 100%|██████████| 11/11 [00:14<00:00,  1.29s/it]\n                 Class     Images  Instances      Box(P          R      mAP50  mAP50-95): 100%|██████████| 1/1 [00:00<00:00,  7.40it/s]",
     "output_type": "stream"
    },
    {
     "name": "stdout",
     "text": "                   all          3          6      0.794      0.833      0.954      0.544\n",
     "output_type": "stream"
    },
    {
     "name": "stderr",
     "text": "\n",
     "output_type": "stream"
    },
    {
     "name": "stdout",
     "text": "\n      Epoch    GPU_mem   box_loss   cls_loss   dfl_loss  Instances       Size\n",
     "output_type": "stream"
    },
    {
     "name": "stderr",
     "text": "     57/200      14.1G      1.069     0.7461       1.16         39        640: 100%|██████████| 11/11 [00:14<00:00,  1.29s/it]\n                 Class     Images  Instances      Box(P          R      mAP50  mAP50-95): 100%|██████████| 1/1 [00:00<00:00,  7.42it/s]",
     "output_type": "stream"
    },
    {
     "name": "stdout",
     "text": "                   all          3          6      0.992      0.999      0.995      0.497\n",
     "output_type": "stream"
    },
    {
     "name": "stderr",
     "text": "\n",
     "output_type": "stream"
    },
    {
     "name": "stdout",
     "text": "\n      Epoch    GPU_mem   box_loss   cls_loss   dfl_loss  Instances       Size\n",
     "output_type": "stream"
    },
    {
     "name": "stderr",
     "text": "     58/200      14.2G      1.128     0.8141      1.213         38        640: 100%|██████████| 11/11 [00:14<00:00,  1.29s/it]\n                 Class     Images  Instances      Box(P          R      mAP50  mAP50-95): 100%|██████████| 1/1 [00:00<00:00,  7.22it/s]",
     "output_type": "stream"
    },
    {
     "name": "stdout",
     "text": "                   all          3          6      0.849          1      0.954      0.529\n",
     "output_type": "stream"
    },
    {
     "name": "stderr",
     "text": "\n",
     "output_type": "stream"
    },
    {
     "name": "stdout",
     "text": "\n      Epoch    GPU_mem   box_loss   cls_loss   dfl_loss  Instances       Size\n",
     "output_type": "stream"
    },
    {
     "name": "stderr",
     "text": "     59/200      14.1G      1.155     0.8334      1.248         30        640: 100%|██████████| 11/11 [00:14<00:00,  1.29s/it]\n                 Class     Images  Instances      Box(P          R      mAP50  mAP50-95): 100%|██████████| 1/1 [00:00<00:00,  7.49it/s]",
     "output_type": "stream"
    },
    {
     "name": "stdout",
     "text": "                   all          3          6      0.767          1      0.913      0.449\n",
     "output_type": "stream"
    },
    {
     "name": "stderr",
     "text": "\n",
     "output_type": "stream"
    },
    {
     "name": "stdout",
     "text": "\n      Epoch    GPU_mem   box_loss   cls_loss   dfl_loss  Instances       Size\n",
     "output_type": "stream"
    },
    {
     "name": "stderr",
     "text": "     60/200      14.2G      1.056     0.7709      1.173         36        640: 100%|██████████| 11/11 [00:14<00:00,  1.29s/it]\n                 Class     Images  Instances      Box(P          R      mAP50  mAP50-95): 100%|██████████| 1/1 [00:00<00:00,  7.40it/s]",
     "output_type": "stream"
    },
    {
     "name": "stdout",
     "text": "                   all          3          6      0.826          1      0.995      0.578\n",
     "output_type": "stream"
    },
    {
     "name": "stderr",
     "text": "\n",
     "output_type": "stream"
    },
    {
     "name": "stdout",
     "text": "\n      Epoch    GPU_mem   box_loss   cls_loss   dfl_loss  Instances       Size\n",
     "output_type": "stream"
    },
    {
     "name": "stderr",
     "text": "     61/200      14.1G      1.054     0.7528      1.161         45        640: 100%|██████████| 11/11 [00:14<00:00,  1.29s/it]\n                 Class     Images  Instances      Box(P          R      mAP50  mAP50-95): 100%|██████████| 1/1 [00:00<00:00,  7.49it/s]",
     "output_type": "stream"
    },
    {
     "name": "stdout",
     "text": "                   all          3          6      0.819      0.986      0.913      0.429\n",
     "output_type": "stream"
    },
    {
     "name": "stderr",
     "text": "\n",
     "output_type": "stream"
    },
    {
     "name": "stdout",
     "text": "\n      Epoch    GPU_mem   box_loss   cls_loss   dfl_loss  Instances       Size\n",
     "output_type": "stream"
    },
    {
     "name": "stderr",
     "text": "     62/200      14.2G       1.02     0.7483      1.126         40        640: 100%|██████████| 11/11 [00:14<00:00,  1.29s/it]\n                 Class     Images  Instances      Box(P          R      mAP50  mAP50-95): 100%|██████████| 1/1 [00:00<00:00,  7.31it/s]",
     "output_type": "stream"
    },
    {
     "name": "stdout",
     "text": "                   all          3          6      0.814          1      0.954       0.47\n",
     "output_type": "stream"
    },
    {
     "name": "stderr",
     "text": "\n",
     "output_type": "stream"
    },
    {
     "name": "stdout",
     "text": "\n      Epoch    GPU_mem   box_loss   cls_loss   dfl_loss  Instances       Size\n",
     "output_type": "stream"
    },
    {
     "name": "stderr",
     "text": "     63/200      14.2G      1.057     0.7691      1.144         44        640: 100%|██████████| 11/11 [00:14<00:00,  1.29s/it]\n                 Class     Images  Instances      Box(P          R      mAP50  mAP50-95): 100%|██████████| 1/1 [00:00<00:00,  7.33it/s]",
     "output_type": "stream"
    },
    {
     "name": "stdout",
     "text": "                   all          3          6      0.835          1      0.954      0.604\n",
     "output_type": "stream"
    },
    {
     "name": "stderr",
     "text": "\n",
     "output_type": "stream"
    },
    {
     "name": "stdout",
     "text": "\n      Epoch    GPU_mem   box_loss   cls_loss   dfl_loss  Instances       Size\n",
     "output_type": "stream"
    },
    {
     "name": "stderr",
     "text": "     64/200      14.2G      1.035     0.7405       1.16         29        640: 100%|██████████| 11/11 [00:14<00:00,  1.29s/it]\n                 Class     Images  Instances      Box(P          R      mAP50  mAP50-95): 100%|██████████| 1/1 [00:00<00:00,  7.41it/s]",
     "output_type": "stream"
    },
    {
     "name": "stdout",
     "text": "                   all          3          6       0.82      0.999      0.913      0.541\n",
     "output_type": "stream"
    },
    {
     "name": "stderr",
     "text": "\n",
     "output_type": "stream"
    },
    {
     "name": "stdout",
     "text": "\n      Epoch    GPU_mem   box_loss   cls_loss   dfl_loss  Instances       Size\n",
     "output_type": "stream"
    },
    {
     "name": "stderr",
     "text": "     65/200      14.1G      1.022     0.7518      1.137         39        640: 100%|██████████| 11/11 [00:14<00:00,  1.29s/it]\n                 Class     Images  Instances      Box(P          R      mAP50  mAP50-95): 100%|██████████| 1/1 [00:00<00:00,  7.34it/s]",
     "output_type": "stream"
    },
    {
     "name": "stdout",
     "text": "                   all          3          6       0.94       0.98      0.995       0.59\n",
     "output_type": "stream"
    },
    {
     "name": "stderr",
     "text": "\n",
     "output_type": "stream"
    },
    {
     "name": "stdout",
     "text": "\n      Epoch    GPU_mem   box_loss   cls_loss   dfl_loss  Instances       Size\n",
     "output_type": "stream"
    },
    {
     "name": "stderr",
     "text": "     66/200      14.1G      1.033      0.776      1.143         23        640: 100%|██████████| 11/11 [00:14<00:00,  1.29s/it]\n                 Class     Images  Instances      Box(P          R      mAP50  mAP50-95): 100%|██████████| 1/1 [00:00<00:00,  7.17it/s]",
     "output_type": "stream"
    },
    {
     "name": "stdout",
     "text": "                   all          3          6      0.794          1      0.954      0.473\n",
     "output_type": "stream"
    },
    {
     "name": "stderr",
     "text": "\n",
     "output_type": "stream"
    },
    {
     "name": "stdout",
     "text": "\n      Epoch    GPU_mem   box_loss   cls_loss   dfl_loss  Instances       Size\n",
     "output_type": "stream"
    },
    {
     "name": "stderr",
     "text": "     67/200      14.2G      1.014     0.7362      1.141         29        640: 100%|██████████| 11/11 [00:14<00:00,  1.29s/it]\n                 Class     Images  Instances      Box(P          R      mAP50  mAP50-95): 100%|██████████| 1/1 [00:00<00:00,  7.46it/s]",
     "output_type": "stream"
    },
    {
     "name": "stdout",
     "text": "                   all          3          6       0.97      0.923      0.995      0.565\n",
     "output_type": "stream"
    },
    {
     "name": "stderr",
     "text": "\n",
     "output_type": "stream"
    },
    {
     "name": "stdout",
     "text": "\n      Epoch    GPU_mem   box_loss   cls_loss   dfl_loss  Instances       Size\n",
     "output_type": "stream"
    },
    {
     "name": "stderr",
     "text": "     68/200      14.2G      0.969     0.7216      1.113         40        640: 100%|██████████| 11/11 [00:14<00:00,  1.29s/it]\n                 Class     Images  Instances      Box(P          R      mAP50  mAP50-95): 100%|██████████| 1/1 [00:00<00:00,  7.49it/s]",
     "output_type": "stream"
    },
    {
     "name": "stdout",
     "text": "                   all          3          6      0.896      0.957      0.995       0.58\n",
     "output_type": "stream"
    },
    {
     "name": "stderr",
     "text": "\n",
     "output_type": "stream"
    },
    {
     "name": "stdout",
     "text": "\n      Epoch    GPU_mem   box_loss   cls_loss   dfl_loss  Instances       Size\n",
     "output_type": "stream"
    },
    {
     "name": "stderr",
     "text": "     69/200      14.1G     0.9607     0.7263      1.117         27        640: 100%|██████████| 11/11 [00:14<00:00,  1.29s/it]\n                 Class     Images  Instances      Box(P          R      mAP50  mAP50-95): 100%|██████████| 1/1 [00:00<00:00,  7.46it/s]",
     "output_type": "stream"
    },
    {
     "name": "stdout",
     "text": "                   all          3          6      0.886      0.973      0.995      0.533\n",
     "output_type": "stream"
    },
    {
     "name": "stderr",
     "text": "\n",
     "output_type": "stream"
    },
    {
     "name": "stdout",
     "text": "\n      Epoch    GPU_mem   box_loss   cls_loss   dfl_loss  Instances       Size\n",
     "output_type": "stream"
    },
    {
     "name": "stderr",
     "text": "     70/200      14.2G      0.984     0.6736      1.112         44        640: 100%|██████████| 11/11 [00:14<00:00,  1.29s/it]\n                 Class     Images  Instances      Box(P          R      mAP50  mAP50-95): 100%|██████████| 1/1 [00:00<00:00,  7.22it/s]",
     "output_type": "stream"
    },
    {
     "name": "stdout",
     "text": "                   all          3          6      0.982      0.983      0.995      0.519\n",
     "output_type": "stream"
    },
    {
     "name": "stderr",
     "text": "\n",
     "output_type": "stream"
    },
    {
     "name": "stdout",
     "text": "\n      Epoch    GPU_mem   box_loss   cls_loss   dfl_loss  Instances       Size\n",
     "output_type": "stream"
    },
    {
     "name": "stderr",
     "text": "     71/200      14.2G     0.9087     0.6666      1.103         28        640: 100%|██████████| 11/11 [00:14<00:00,  1.29s/it]\n                 Class     Images  Instances      Box(P          R      mAP50  mAP50-95): 100%|██████████| 1/1 [00:00<00:00,  7.53it/s]",
     "output_type": "stream"
    },
    {
     "name": "stdout",
     "text": "                   all          3          6      0.824          1      0.954      0.464\n",
     "output_type": "stream"
    },
    {
     "name": "stderr",
     "text": "\n",
     "output_type": "stream"
    },
    {
     "name": "stdout",
     "text": "\n      Epoch    GPU_mem   box_loss   cls_loss   dfl_loss  Instances       Size\n",
     "output_type": "stream"
    },
    {
     "name": "stderr",
     "text": "     72/200      14.2G      0.969      0.693      1.104         32        640: 100%|██████████| 11/11 [00:14<00:00,  1.29s/it]\n                 Class     Images  Instances      Box(P          R      mAP50  mAP50-95): 100%|██████████| 1/1 [00:00<00:00,  7.33it/s]",
     "output_type": "stream"
    },
    {
     "name": "stdout",
     "text": "                   all          3          6      0.954      0.833      0.954        0.5\n",
     "output_type": "stream"
    },
    {
     "name": "stderr",
     "text": "\n",
     "output_type": "stream"
    },
    {
     "name": "stdout",
     "text": "\n      Epoch    GPU_mem   box_loss   cls_loss   dfl_loss  Instances       Size\n",
     "output_type": "stream"
    },
    {
     "name": "stderr",
     "text": "     73/200      14.1G     0.9597     0.7212      1.111         45        640: 100%|██████████| 11/11 [00:14<00:00,  1.29s/it]\n                 Class     Images  Instances      Box(P          R      mAP50  mAP50-95): 100%|██████████| 1/1 [00:00<00:00,  7.03it/s]",
     "output_type": "stream"
    },
    {
     "name": "stdout",
     "text": "                   all          3          6      0.968      0.926      0.995      0.508\n",
     "output_type": "stream"
    },
    {
     "name": "stderr",
     "text": "\n",
     "output_type": "stream"
    },
    {
     "name": "stdout",
     "text": "\n      Epoch    GPU_mem   box_loss   cls_loss   dfl_loss  Instances       Size\n",
     "output_type": "stream"
    },
    {
     "name": "stderr",
     "text": "     74/200      14.1G     0.9656     0.7132      1.157         47        640: 100%|██████████| 11/11 [00:14<00:00,  1.29s/it]\n                 Class     Images  Instances      Box(P          R      mAP50  mAP50-95): 100%|██████████| 1/1 [00:00<00:00,  7.39it/s]",
     "output_type": "stream"
    },
    {
     "name": "stdout",
     "text": "                   all          3          6      0.807      0.833      0.913      0.506\n",
     "output_type": "stream"
    },
    {
     "name": "stderr",
     "text": "\n",
     "output_type": "stream"
    },
    {
     "name": "stdout",
     "text": "\n      Epoch    GPU_mem   box_loss   cls_loss   dfl_loss  Instances       Size\n",
     "output_type": "stream"
    },
    {
     "name": "stderr",
     "text": "     75/200      14.2G     0.9249     0.6988      1.084         34        640: 100%|██████████| 11/11 [00:14<00:00,  1.29s/it]\n                 Class     Images  Instances      Box(P          R      mAP50  mAP50-95): 100%|██████████| 1/1 [00:00<00:00,  7.41it/s]",
     "output_type": "stream"
    },
    {
     "name": "stdout",
     "text": "                   all          3          6      0.914      0.667      0.799      0.397\n",
     "output_type": "stream"
    },
    {
     "name": "stderr",
     "text": "\n",
     "output_type": "stream"
    },
    {
     "name": "stdout",
     "text": "\n      Epoch    GPU_mem   box_loss   cls_loss   dfl_loss  Instances       Size\n",
     "output_type": "stream"
    },
    {
     "name": "stderr",
     "text": "     76/200      14.2G     0.9401     0.6925      1.112         34        640: 100%|██████████| 11/11 [00:14<00:00,  1.29s/it]\n                 Class     Images  Instances      Box(P          R      mAP50  mAP50-95): 100%|██████████| 1/1 [00:00<00:00,  7.50it/s]",
     "output_type": "stream"
    },
    {
     "name": "stdout",
     "text": "                   all          3          6      0.847      0.797      0.913      0.556\n",
     "output_type": "stream"
    },
    {
     "name": "stderr",
     "text": "\n",
     "output_type": "stream"
    },
    {
     "name": "stdout",
     "text": "\n      Epoch    GPU_mem   box_loss   cls_loss   dfl_loss  Instances       Size\n",
     "output_type": "stream"
    },
    {
     "name": "stderr",
     "text": "     77/200      14.1G     0.9468     0.6707       1.13         37        640: 100%|██████████| 11/11 [00:14<00:00,  1.29s/it]\n                 Class     Images  Instances      Box(P          R      mAP50  mAP50-95): 100%|██████████| 1/1 [00:00<00:00,  7.53it/s]",
     "output_type": "stream"
    },
    {
     "name": "stdout",
     "text": "                   all          3          6      0.887      0.833      0.929      0.532\n",
     "output_type": "stream"
    },
    {
     "name": "stderr",
     "text": "\n",
     "output_type": "stream"
    },
    {
     "name": "stdout",
     "text": "\n      Epoch    GPU_mem   box_loss   cls_loss   dfl_loss  Instances       Size\n",
     "output_type": "stream"
    },
    {
     "name": "stderr",
     "text": "     78/200      14.1G     0.9162     0.6643      1.082         43        640: 100%|██████████| 11/11 [00:14<00:00,  1.29s/it]\n                 Class     Images  Instances      Box(P          R      mAP50  mAP50-95): 100%|██████████| 1/1 [00:00<00:00,  7.30it/s]",
     "output_type": "stream"
    },
    {
     "name": "stdout",
     "text": "                   all          3          6       0.95      0.906      0.995      0.557\n",
     "output_type": "stream"
    },
    {
     "name": "stderr",
     "text": "\n",
     "output_type": "stream"
    },
    {
     "name": "stdout",
     "text": "\n      Epoch    GPU_mem   box_loss   cls_loss   dfl_loss  Instances       Size\n",
     "output_type": "stream"
    },
    {
     "name": "stderr",
     "text": "     79/200      14.2G     0.9231     0.6887      1.116         35        640: 100%|██████████| 11/11 [00:14<00:00,  1.29s/it]\n                 Class     Images  Instances      Box(P          R      mAP50  mAP50-95): 100%|██████████| 1/1 [00:00<00:00,  7.44it/s]",
     "output_type": "stream"
    },
    {
     "name": "stdout",
     "text": "                   all          3          6      0.854       0.98      0.995      0.539\n",
     "output_type": "stream"
    },
    {
     "name": "stderr",
     "text": "\n",
     "output_type": "stream"
    },
    {
     "name": "stdout",
     "text": "\n      Epoch    GPU_mem   box_loss   cls_loss   dfl_loss  Instances       Size\n",
     "output_type": "stream"
    },
    {
     "name": "stderr",
     "text": "     80/200      14.2G     0.9067     0.6428      1.068         48        640: 100%|██████████| 11/11 [00:14<00:00,  1.29s/it]\n                 Class     Images  Instances      Box(P          R      mAP50  mAP50-95): 100%|██████████| 1/1 [00:00<00:00,  7.36it/s]",
     "output_type": "stream"
    },
    {
     "name": "stdout",
     "text": "                   all          3          6       0.92      0.973      0.995      0.459\n",
     "output_type": "stream"
    },
    {
     "name": "stderr",
     "text": "\n",
     "output_type": "stream"
    },
    {
     "name": "stdout",
     "text": "\n      Epoch    GPU_mem   box_loss   cls_loss   dfl_loss  Instances       Size\n",
     "output_type": "stream"
    },
    {
     "name": "stderr",
     "text": "     81/200      14.1G     0.9277     0.6629      1.116         39        640: 100%|██████████| 11/11 [00:14<00:00,  1.29s/it]\n                 Class     Images  Instances      Box(P          R      mAP50  mAP50-95): 100%|██████████| 1/1 [00:00<00:00,  7.43it/s]",
     "output_type": "stream"
    },
    {
     "name": "stdout",
     "text": "                   all          3          6      0.962          1      0.995       0.57\n",
     "output_type": "stream"
    },
    {
     "name": "stderr",
     "text": "\n",
     "output_type": "stream"
    },
    {
     "name": "stdout",
     "text": "\n      Epoch    GPU_mem   box_loss   cls_loss   dfl_loss  Instances       Size\n",
     "output_type": "stream"
    },
    {
     "name": "stderr",
     "text": "     82/200      14.2G     0.9627     0.6457       1.11         43        640: 100%|██████████| 11/11 [00:14<00:00,  1.29s/it]\n                 Class     Images  Instances      Box(P          R      mAP50  mAP50-95): 100%|██████████| 1/1 [00:00<00:00,  7.23it/s]",
     "output_type": "stream"
    },
    {
     "name": "stdout",
     "text": "                   all          3          6      0.981      0.988      0.995      0.615\n",
     "output_type": "stream"
    },
    {
     "name": "stderr",
     "text": "\n",
     "output_type": "stream"
    },
    {
     "name": "stdout",
     "text": "\n      Epoch    GPU_mem   box_loss   cls_loss   dfl_loss  Instances       Size\n",
     "output_type": "stream"
    },
    {
     "name": "stderr",
     "text": "     83/200      14.2G     0.8905     0.6565      1.089         25        640: 100%|██████████| 11/11 [00:14<00:00,  1.29s/it]\n                 Class     Images  Instances      Box(P          R      mAP50  mAP50-95): 100%|██████████| 1/1 [00:00<00:00,  7.28it/s]",
     "output_type": "stream"
    },
    {
     "name": "stdout",
     "text": "                   all          3          6      0.929      0.849      0.995      0.574\n",
     "output_type": "stream"
    },
    {
     "name": "stderr",
     "text": "\n",
     "output_type": "stream"
    },
    {
     "name": "stdout",
     "text": "\n      Epoch    GPU_mem   box_loss   cls_loss   dfl_loss  Instances       Size\n",
     "output_type": "stream"
    },
    {
     "name": "stderr",
     "text": "     84/200      14.1G     0.8971     0.6765      1.074         45        640: 100%|██████████| 11/11 [00:14<00:00,  1.29s/it]\n                 Class     Images  Instances      Box(P          R      mAP50  mAP50-95): 100%|██████████| 1/1 [00:00<00:00,  7.49it/s]",
     "output_type": "stream"
    },
    {
     "name": "stdout",
     "text": "                   all          3          6      0.807      0.833      0.871      0.518\n",
     "output_type": "stream"
    },
    {
     "name": "stderr",
     "text": "\n",
     "output_type": "stream"
    },
    {
     "name": "stdout",
     "text": "\n      Epoch    GPU_mem   box_loss   cls_loss   dfl_loss  Instances       Size\n",
     "output_type": "stream"
    },
    {
     "name": "stderr",
     "text": "     85/200      14.1G     0.8849      0.639      1.107         28        640: 100%|██████████| 11/11 [00:14<00:00,  1.29s/it]\n                 Class     Images  Instances      Box(P          R      mAP50  mAP50-95): 100%|██████████| 1/1 [00:00<00:00,  7.41it/s]",
     "output_type": "stream"
    },
    {
     "name": "stdout",
     "text": "                   all          3          6      0.789      0.985      0.913      0.549\n",
     "output_type": "stream"
    },
    {
     "name": "stderr",
     "text": "\n",
     "output_type": "stream"
    },
    {
     "name": "stdout",
     "text": "\n      Epoch    GPU_mem   box_loss   cls_loss   dfl_loss  Instances       Size\n",
     "output_type": "stream"
    },
    {
     "name": "stderr",
     "text": "     86/200      14.2G     0.8686     0.6066      1.065         44        640: 100%|██████████| 11/11 [00:14<00:00,  1.29s/it]\n                 Class     Images  Instances      Box(P          R      mAP50  mAP50-95): 100%|██████████| 1/1 [00:00<00:00,  7.21it/s]",
     "output_type": "stream"
    },
    {
     "name": "stdout",
     "text": "                   all          3          6      0.787      0.995      0.913      0.551\n",
     "output_type": "stream"
    },
    {
     "name": "stderr",
     "text": "\n",
     "output_type": "stream"
    },
    {
     "name": "stdout",
     "text": "\n      Epoch    GPU_mem   box_loss   cls_loss   dfl_loss  Instances       Size\n",
     "output_type": "stream"
    },
    {
     "name": "stderr",
     "text": "     87/200      14.2G      0.923     0.6257      1.101         32        640: 100%|██████████| 11/11 [00:14<00:00,  1.29s/it]\n                 Class     Images  Instances      Box(P          R      mAP50  mAP50-95): 100%|██████████| 1/1 [00:00<00:00,  7.31it/s]",
     "output_type": "stream"
    },
    {
     "name": "stdout",
     "text": "                   all          3          6      0.797      0.988      0.954      0.532\n",
     "output_type": "stream"
    },
    {
     "name": "stderr",
     "text": "\n",
     "output_type": "stream"
    },
    {
     "name": "stdout",
     "text": "\n      Epoch    GPU_mem   box_loss   cls_loss   dfl_loss  Instances       Size\n",
     "output_type": "stream"
    },
    {
     "name": "stderr",
     "text": "     88/200      14.2G     0.8852     0.6441      1.066         27        640: 100%|██████████| 11/11 [00:14<00:00,  1.29s/it]\n                 Class     Images  Instances      Box(P          R      mAP50  mAP50-95): 100%|██████████| 1/1 [00:00<00:00,  7.37it/s]",
     "output_type": "stream"
    },
    {
     "name": "stdout",
     "text": "                   all          3          6      0.853      0.998      0.995      0.559\n",
     "output_type": "stream"
    },
    {
     "name": "stderr",
     "text": "\n",
     "output_type": "stream"
    },
    {
     "name": "stdout",
     "text": "\n      Epoch    GPU_mem   box_loss   cls_loss   dfl_loss  Instances       Size\n",
     "output_type": "stream"
    },
    {
     "name": "stderr",
     "text": "     89/200      14.1G      0.855     0.5996       1.05         40        640: 100%|██████████| 11/11 [00:14<00:00,  1.29s/it]\n                 Class     Images  Instances      Box(P          R      mAP50  mAP50-95): 100%|██████████| 1/1 [00:00<00:00,  7.50it/s]",
     "output_type": "stream"
    },
    {
     "name": "stdout",
     "text": "                   all          3          6      0.945      0.997      0.995      0.567\n",
     "output_type": "stream"
    },
    {
     "name": "stderr",
     "text": "\n",
     "output_type": "stream"
    },
    {
     "name": "stdout",
     "text": "\n      Epoch    GPU_mem   box_loss   cls_loss   dfl_loss  Instances       Size\n",
     "output_type": "stream"
    },
    {
     "name": "stderr",
     "text": "     90/200      14.2G     0.8632     0.6234      1.059         40        640: 100%|██████████| 11/11 [00:14<00:00,  1.29s/it]\n                 Class     Images  Instances      Box(P          R      mAP50  mAP50-95): 100%|██████████| 1/1 [00:00<00:00,  7.31it/s]",
     "output_type": "stream"
    },
    {
     "name": "stdout",
     "text": "                   all          3          6       0.94          1      0.995      0.568\n",
     "output_type": "stream"
    },
    {
     "name": "stderr",
     "text": "\n",
     "output_type": "stream"
    },
    {
     "name": "stdout",
     "text": "\n      Epoch    GPU_mem   box_loss   cls_loss   dfl_loss  Instances       Size\n",
     "output_type": "stream"
    },
    {
     "name": "stderr",
     "text": "     91/200      14.2G     0.8561     0.6189      1.077         39        640: 100%|██████████| 11/11 [00:14<00:00,  1.29s/it]\n                 Class     Images  Instances      Box(P          R      mAP50  mAP50-95): 100%|██████████| 1/1 [00:00<00:00,  7.50it/s]",
     "output_type": "stream"
    },
    {
     "name": "stdout",
     "text": "                   all          3          6      0.948          1      0.995      0.541\n",
     "output_type": "stream"
    },
    {
     "name": "stderr",
     "text": "\n",
     "output_type": "stream"
    },
    {
     "name": "stdout",
     "text": "\n      Epoch    GPU_mem   box_loss   cls_loss   dfl_loss  Instances       Size\n",
     "output_type": "stream"
    },
    {
     "name": "stderr",
     "text": "     92/200      14.2G     0.8475     0.6026      1.049         46        640: 100%|██████████| 11/11 [00:14<00:00,  1.29s/it]\n                 Class     Images  Instances      Box(P          R      mAP50  mAP50-95): 100%|██████████| 1/1 [00:00<00:00,  7.47it/s]",
     "output_type": "stream"
    },
    {
     "name": "stdout",
     "text": "                   all          3          6      0.852          1      0.954      0.452\n",
     "output_type": "stream"
    },
    {
     "name": "stderr",
     "text": "\n",
     "output_type": "stream"
    },
    {
     "name": "stdout",
     "text": "\n      Epoch    GPU_mem   box_loss   cls_loss   dfl_loss  Instances       Size\n",
     "output_type": "stream"
    },
    {
     "name": "stderr",
     "text": "     93/200      14.1G     0.8338     0.6076       1.05         29        640: 100%|██████████| 11/11 [00:14<00:00,  1.29s/it]\n                 Class     Images  Instances      Box(P          R      mAP50  mAP50-95): 100%|██████████| 1/1 [00:00<00:00,  7.18it/s]",
     "output_type": "stream"
    },
    {
     "name": "stdout",
     "text": "                   all          3          6      0.861      0.999      0.954      0.494\n",
     "output_type": "stream"
    },
    {
     "name": "stderr",
     "text": "\n",
     "output_type": "stream"
    },
    {
     "name": "stdout",
     "text": "\n      Epoch    GPU_mem   box_loss   cls_loss   dfl_loss  Instances       Size\n",
     "output_type": "stream"
    },
    {
     "name": "stderr",
     "text": "     94/200      14.1G      0.867     0.6212      1.072         43        640: 100%|██████████| 11/11 [00:14<00:00,  1.29s/it]\n                 Class     Images  Instances      Box(P          R      mAP50  mAP50-95): 100%|██████████| 1/1 [00:00<00:00,  7.54it/s]",
     "output_type": "stream"
    },
    {
     "name": "stdout",
     "text": "                   all          3          6      0.866          1      0.954      0.526\n",
     "output_type": "stream"
    },
    {
     "name": "stderr",
     "text": "\n",
     "output_type": "stream"
    },
    {
     "name": "stdout",
     "text": "\n      Epoch    GPU_mem   box_loss   cls_loss   dfl_loss  Instances       Size\n",
     "output_type": "stream"
    },
    {
     "name": "stderr",
     "text": "     95/200      14.2G     0.8606     0.6038      1.077         37        640: 100%|██████████| 11/11 [00:14<00:00,  1.29s/it]\n                 Class     Images  Instances      Box(P          R      mAP50  mAP50-95): 100%|██████████| 1/1 [00:00<00:00,  7.44it/s]",
     "output_type": "stream"
    },
    {
     "name": "stdout",
     "text": "                   all          3          6      0.871      0.884      0.954      0.461\n",
     "output_type": "stream"
    },
    {
     "name": "stderr",
     "text": "\n",
     "output_type": "stream"
    },
    {
     "name": "stdout",
     "text": "\n      Epoch    GPU_mem   box_loss   cls_loss   dfl_loss  Instances       Size\n",
     "output_type": "stream"
    },
    {
     "name": "stderr",
     "text": "     96/200      14.2G     0.8509     0.6204      1.065         38        640: 100%|██████████| 11/11 [00:14<00:00,  1.29s/it]\n                 Class     Images  Instances      Box(P          R      mAP50  mAP50-95): 100%|██████████| 1/1 [00:00<00:00,  7.46it/s]",
     "output_type": "stream"
    },
    {
     "name": "stdout",
     "text": "                   all          3          6      0.768      0.823      0.776      0.464\n",
     "output_type": "stream"
    },
    {
     "name": "stderr",
     "text": "\n",
     "output_type": "stream"
    },
    {
     "name": "stdout",
     "text": "\n      Epoch    GPU_mem   box_loss   cls_loss   dfl_loss  Instances       Size\n",
     "output_type": "stream"
    },
    {
     "name": "stderr",
     "text": "     97/200      14.1G      0.823     0.5901      1.036         49        640: 100%|██████████| 11/11 [00:14<00:00,  1.29s/it]\n                 Class     Images  Instances      Box(P          R      mAP50  mAP50-95): 100%|██████████| 1/1 [00:00<00:00,  7.49it/s]",
     "output_type": "stream"
    },
    {
     "name": "stdout",
     "text": "                   all          3          6      0.779      0.825      0.724      0.426\n",
     "output_type": "stream"
    },
    {
     "name": "stderr",
     "text": "\n",
     "output_type": "stream"
    },
    {
     "name": "stdout",
     "text": "\n      Epoch    GPU_mem   box_loss   cls_loss   dfl_loss  Instances       Size\n",
     "output_type": "stream"
    },
    {
     "name": "stderr",
     "text": "     98/200      14.2G     0.8393     0.5788      1.058         48        640: 100%|██████████| 11/11 [00:14<00:00,  1.29s/it]\n                 Class     Images  Instances      Box(P          R      mAP50  mAP50-95): 100%|██████████| 1/1 [00:00<00:00,  7.55it/s]",
     "output_type": "stream"
    },
    {
     "name": "stdout",
     "text": "                   all          3          6      0.551      0.963      0.797      0.477\n",
     "output_type": "stream"
    },
    {
     "name": "stderr",
     "text": "\n",
     "output_type": "stream"
    },
    {
     "name": "stdout",
     "text": "\n      Epoch    GPU_mem   box_loss   cls_loss   dfl_loss  Instances       Size\n",
     "output_type": "stream"
    },
    {
     "name": "stderr",
     "text": "     99/200      14.2G      0.816     0.6078      1.056         41        640: 100%|██████████| 11/11 [00:14<00:00,  1.29s/it]\n                 Class     Images  Instances      Box(P          R      mAP50  mAP50-95): 100%|██████████| 1/1 [00:00<00:00,  7.46it/s]",
     "output_type": "stream"
    },
    {
     "name": "stdout",
     "text": "                   all          3          6      0.778          1      0.863      0.513\n",
     "output_type": "stream"
    },
    {
     "name": "stderr",
     "text": "\n",
     "output_type": "stream"
    },
    {
     "name": "stdout",
     "text": "\n      Epoch    GPU_mem   box_loss   cls_loss   dfl_loss  Instances       Size\n",
     "output_type": "stream"
    },
    {
     "name": "stderr",
     "text": "    100/200      14.2G     0.8512     0.6082      1.057         22        640: 100%|██████████| 11/11 [00:14<00:00,  1.29s/it]\n                 Class     Images  Instances      Box(P          R      mAP50  mAP50-95): 100%|██████████| 1/1 [00:00<00:00,  7.11it/s]",
     "output_type": "stream"
    },
    {
     "name": "stdout",
     "text": "                   all          3          6      0.778      0.985      0.954      0.572\n",
     "output_type": "stream"
    },
    {
     "name": "stderr",
     "text": "\n",
     "output_type": "stream"
    },
    {
     "name": "stdout",
     "text": "\n      Epoch    GPU_mem   box_loss   cls_loss   dfl_loss  Instances       Size\n",
     "output_type": "stream"
    },
    {
     "name": "stderr",
     "text": "    101/200      14.1G     0.8351        0.6      1.073         30        640: 100%|██████████| 11/11 [00:14<00:00,  1.29s/it]\n                 Class     Images  Instances      Box(P          R      mAP50  mAP50-95): 100%|██████████| 1/1 [00:00<00:00,  7.47it/s]",
     "output_type": "stream"
    },
    {
     "name": "stdout",
     "text": "                   all          3          6          1      0.863      0.995      0.537\n",
     "output_type": "stream"
    },
    {
     "name": "stderr",
     "text": "\n",
     "output_type": "stream"
    },
    {
     "name": "stdout",
     "text": "\n      Epoch    GPU_mem   box_loss   cls_loss   dfl_loss  Instances       Size\n",
     "output_type": "stream"
    },
    {
     "name": "stderr",
     "text": "    102/200      14.2G     0.8748     0.6039      1.082         31        640: 100%|██████████| 11/11 [00:14<00:00,  1.29s/it]\n                 Class     Images  Instances      Box(P          R      mAP50  mAP50-95): 100%|██████████| 1/1 [00:00<00:00,  7.47it/s]",
     "output_type": "stream"
    },
    {
     "name": "stdout",
     "text": "                   all          3          6      0.813      0.984      0.954      0.554\n",
     "output_type": "stream"
    },
    {
     "name": "stderr",
     "text": "\n",
     "output_type": "stream"
    },
    {
     "name": "stdout",
     "text": "\n      Epoch    GPU_mem   box_loss   cls_loss   dfl_loss  Instances       Size\n",
     "output_type": "stream"
    },
    {
     "name": "stderr",
     "text": "    103/200      14.1G     0.8045     0.5639      1.064         40        640: 100%|██████████| 11/11 [00:14<00:00,  1.29s/it]\n                 Class     Images  Instances      Box(P          R      mAP50  mAP50-95): 100%|██████████| 1/1 [00:00<00:00,  7.44it/s]",
     "output_type": "stream"
    },
    {
     "name": "stdout",
     "text": "                   all          3          6        0.8      0.984      0.995      0.571\n",
     "output_type": "stream"
    },
    {
     "name": "stderr",
     "text": "\n",
     "output_type": "stream"
    },
    {
     "name": "stdout",
     "text": "\n      Epoch    GPU_mem   box_loss   cls_loss   dfl_loss  Instances       Size\n",
     "output_type": "stream"
    },
    {
     "name": "stderr",
     "text": "    104/200      14.2G     0.8362     0.5712      1.035         22        640: 100%|██████████| 11/11 [00:14<00:00,  1.29s/it]\n                 Class     Images  Instances      Box(P          R      mAP50  mAP50-95): 100%|██████████| 1/1 [00:00<00:00,  7.43it/s]",
     "output_type": "stream"
    },
    {
     "name": "stdout",
     "text": "                   all          3          6      0.765      0.987      0.929      0.594\n",
     "output_type": "stream"
    },
    {
     "name": "stderr",
     "text": "\n",
     "output_type": "stream"
    },
    {
     "name": "stdout",
     "text": "\n      Epoch    GPU_mem   box_loss   cls_loss   dfl_loss  Instances       Size\n",
     "output_type": "stream"
    },
    {
     "name": "stderr",
     "text": "    105/200      14.1G     0.7883     0.5578      1.044         53        640: 100%|██████████| 11/11 [00:14<00:00,  1.29s/it]\n                 Class     Images  Instances      Box(P          R      mAP50  mAP50-95): 100%|██████████| 1/1 [00:00<00:00,  7.49it/s]",
     "output_type": "stream"
    },
    {
     "name": "stdout",
     "text": "                   all          3          6      0.872      0.978      0.913      0.499\n",
     "output_type": "stream"
    },
    {
     "name": "stderr",
     "text": "\n",
     "output_type": "stream"
    },
    {
     "name": "stdout",
     "text": "\n      Epoch    GPU_mem   box_loss   cls_loss   dfl_loss  Instances       Size\n",
     "output_type": "stream"
    },
    {
     "name": "stderr",
     "text": "    106/200      14.1G     0.7657     0.5558      1.026         20        640: 100%|██████████| 11/11 [00:14<00:00,  1.29s/it]\n                 Class     Images  Instances      Box(P          R      mAP50  mAP50-95): 100%|██████████| 1/1 [00:00<00:00,  7.34it/s]",
     "output_type": "stream"
    },
    {
     "name": "stdout",
     "text": "                   all          3          6       0.62      0.934      0.833      0.444\n",
     "output_type": "stream"
    },
    {
     "name": "stderr",
     "text": "\n",
     "output_type": "stream"
    },
    {
     "name": "stdout",
     "text": "\n      Epoch    GPU_mem   box_loss   cls_loss   dfl_loss  Instances       Size\n",
     "output_type": "stream"
    },
    {
     "name": "stderr",
     "text": "    107/200      14.2G     0.7864     0.5368      1.026         39        640: 100%|██████████| 11/11 [00:14<00:00,  1.29s/it]\n                 Class     Images  Instances      Box(P          R      mAP50  mAP50-95): 100%|██████████| 1/1 [00:00<00:00,  7.25it/s]",
     "output_type": "stream"
    },
    {
     "name": "stdout",
     "text": "                   all          3          6      0.817          1      0.913      0.485\n",
     "output_type": "stream"
    },
    {
     "name": "stderr",
     "text": "\n",
     "output_type": "stream"
    },
    {
     "name": "stdout",
     "text": "\n      Epoch    GPU_mem   box_loss   cls_loss   dfl_loss  Instances       Size\n",
     "output_type": "stream"
    },
    {
     "name": "stderr",
     "text": "    108/200      14.2G      0.843     0.6149      1.057         31        640: 100%|██████████| 11/11 [00:14<00:00,  1.29s/it]\n                 Class     Images  Instances      Box(P          R      mAP50  mAP50-95): 100%|██████████| 1/1 [00:00<00:00,  7.50it/s]",
     "output_type": "stream"
    },
    {
     "name": "stdout",
     "text": "                   all          3          6      0.722      0.817      0.805      0.476\n",
     "output_type": "stream"
    },
    {
     "name": "stderr",
     "text": "\n",
     "output_type": "stream"
    },
    {
     "name": "stdout",
     "text": "\n      Epoch    GPU_mem   box_loss   cls_loss   dfl_loss  Instances       Size\n",
     "output_type": "stream"
    },
    {
     "name": "stderr",
     "text": "    109/200      14.1G     0.8197     0.5513      1.048         33        640: 100%|██████████| 11/11 [00:14<00:00,  1.29s/it]\n                 Class     Images  Instances      Box(P          R      mAP50  mAP50-95): 100%|██████████| 1/1 [00:00<00:00,  7.48it/s]",
     "output_type": "stream"
    },
    {
     "name": "stdout",
     "text": "                   all          3          6      0.771      0.768      0.805      0.457\n",
     "output_type": "stream"
    },
    {
     "name": "stderr",
     "text": "\n",
     "output_type": "stream"
    },
    {
     "name": "stdout",
     "text": "\n      Epoch    GPU_mem   box_loss   cls_loss   dfl_loss  Instances       Size\n",
     "output_type": "stream"
    },
    {
     "name": "stderr",
     "text": "    110/200      14.1G     0.8115     0.5676      1.065         37        640: 100%|██████████| 11/11 [00:14<00:00,  1.29s/it]\n                 Class     Images  Instances      Box(P          R      mAP50  mAP50-95): 100%|██████████| 1/1 [00:00<00:00,  7.22it/s]",
     "output_type": "stream"
    },
    {
     "name": "stdout",
     "text": "                   all          3          6      0.669      0.833      0.711      0.379\n",
     "output_type": "stream"
    },
    {
     "name": "stderr",
     "text": "\n",
     "output_type": "stream"
    },
    {
     "name": "stdout",
     "text": "\n      Epoch    GPU_mem   box_loss   cls_loss   dfl_loss  Instances       Size\n",
     "output_type": "stream"
    },
    {
     "name": "stderr",
     "text": "    111/200      14.2G     0.7306     0.5568      1.017         37        640: 100%|██████████| 11/11 [00:14<00:00,  1.29s/it]\n                 Class     Images  Instances      Box(P          R      mAP50  mAP50-95): 100%|██████████| 1/1 [00:00<00:00,  7.37it/s]",
     "output_type": "stream"
    },
    {
     "name": "stdout",
     "text": "                   all          3          6      0.685      0.833      0.752      0.393\n",
     "output_type": "stream"
    },
    {
     "name": "stderr",
     "text": "\n",
     "output_type": "stream"
    },
    {
     "name": "stdout",
     "text": "\n      Epoch    GPU_mem   box_loss   cls_loss   dfl_loss  Instances       Size\n",
     "output_type": "stream"
    },
    {
     "name": "stderr",
     "text": "    112/200      14.2G     0.7657      0.529      1.031         34        640: 100%|██████████| 11/11 [00:14<00:00,  1.29s/it]\n                 Class     Images  Instances      Box(P          R      mAP50  mAP50-95): 100%|██████████| 1/1 [00:00<00:00,  7.39it/s]",
     "output_type": "stream"
    },
    {
     "name": "stdout",
     "text": "                   all          3          6      0.852      0.823      0.954      0.525\n",
     "output_type": "stream"
    },
    {
     "name": "stderr",
     "text": "\n",
     "output_type": "stream"
    },
    {
     "name": "stdout",
     "text": "\n      Epoch    GPU_mem   box_loss   cls_loss   dfl_loss  Instances       Size\n",
     "output_type": "stream"
    },
    {
     "name": "stderr",
     "text": "    113/200      14.1G      0.759     0.5319      1.008         30        640: 100%|██████████| 11/11 [00:14<00:00,  1.29s/it]\n                 Class     Images  Instances      Box(P          R      mAP50  mAP50-95): 100%|██████████| 1/1 [00:00<00:00,  6.84it/s]",
     "output_type": "stream"
    },
    {
     "name": "stdout",
     "text": "                   all          3          6      0.854      0.833      0.954      0.521\n",
     "output_type": "stream"
    },
    {
     "name": "stderr",
     "text": "\n",
     "output_type": "stream"
    },
    {
     "name": "stdout",
     "text": "\n      Epoch    GPU_mem   box_loss   cls_loss   dfl_loss  Instances       Size\n",
     "output_type": "stream"
    },
    {
     "name": "stderr",
     "text": "    114/200      14.2G     0.7767     0.5564      1.043         39        640: 100%|██████████| 11/11 [00:14<00:00,  1.29s/it]\n                 Class     Images  Instances      Box(P          R      mAP50  mAP50-95): 100%|██████████| 1/1 [00:00<00:00,  7.50it/s]",
     "output_type": "stream"
    },
    {
     "name": "stdout",
     "text": "                   all          3          6      0.831          1      0.995      0.554\n",
     "output_type": "stream"
    },
    {
     "name": "stderr",
     "text": "\n",
     "output_type": "stream"
    },
    {
     "name": "stdout",
     "text": "\n      Epoch    GPU_mem   box_loss   cls_loss   dfl_loss  Instances       Size\n",
     "output_type": "stream"
    },
    {
     "name": "stderr",
     "text": "    115/200      14.2G     0.7589     0.5182      1.023         34        640: 100%|██████████| 11/11 [00:14<00:00,  1.29s/it]\n                 Class     Images  Instances      Box(P          R      mAP50  mAP50-95): 100%|██████████| 1/1 [00:00<00:00,  7.48it/s]",
     "output_type": "stream"
    },
    {
     "name": "stdout",
     "text": "                   all          3          6      0.947          1      0.995      0.534\n",
     "output_type": "stream"
    },
    {
     "name": "stderr",
     "text": "\n",
     "output_type": "stream"
    },
    {
     "name": "stdout",
     "text": "\n      Epoch    GPU_mem   box_loss   cls_loss   dfl_loss  Instances       Size\n",
     "output_type": "stream"
    },
    {
     "name": "stderr",
     "text": "    116/200      14.2G     0.7329     0.5338      1.022         28        640: 100%|██████████| 11/11 [00:14<00:00,  1.29s/it]\n                 Class     Images  Instances      Box(P          R      mAP50  mAP50-95): 100%|██████████| 1/1 [00:00<00:00,  7.44it/s]",
     "output_type": "stream"
    },
    {
     "name": "stdout",
     "text": "                   all          3          6      0.859          1      0.995      0.542\n",
     "output_type": "stream"
    },
    {
     "name": "stderr",
     "text": "\n",
     "output_type": "stream"
    },
    {
     "name": "stdout",
     "text": "\n      Epoch    GPU_mem   box_loss   cls_loss   dfl_loss  Instances       Size\n",
     "output_type": "stream"
    },
    {
     "name": "stderr",
     "text": "    117/200      14.1G      0.699     0.5061      1.002         32        640: 100%|██████████| 11/11 [00:14<00:00,  1.29s/it]\n                 Class     Images  Instances      Box(P          R      mAP50  mAP50-95): 100%|██████████| 1/1 [00:00<00:00,  7.36it/s]",
     "output_type": "stream"
    },
    {
     "name": "stdout",
     "text": "                   all          3          6      0.847          1      0.954      0.516\n",
     "output_type": "stream"
    },
    {
     "name": "stderr",
     "text": "\n",
     "output_type": "stream"
    },
    {
     "name": "stdout",
     "text": "\n      Epoch    GPU_mem   box_loss   cls_loss   dfl_loss  Instances       Size\n",
     "output_type": "stream"
    },
    {
     "name": "stderr",
     "text": "    118/200      14.2G     0.7278     0.5187     0.9852         43        640: 100%|██████████| 11/11 [00:14<00:00,  1.29s/it]\n                 Class     Images  Instances      Box(P          R      mAP50  mAP50-95): 100%|██████████| 1/1 [00:00<00:00,  7.28it/s]",
     "output_type": "stream"
    },
    {
     "name": "stdout",
     "text": "                   all          3          6      0.879          1      0.995      0.549\n",
     "output_type": "stream"
    },
    {
     "name": "stderr",
     "text": "\n",
     "output_type": "stream"
    },
    {
     "name": "stdout",
     "text": "\n      Epoch    GPU_mem   box_loss   cls_loss   dfl_loss  Instances       Size\n",
     "output_type": "stream"
    },
    {
     "name": "stderr",
     "text": "    119/200      14.2G     0.7693     0.5308      1.022         35        640: 100%|██████████| 11/11 [00:14<00:00,  1.29s/it]\n                 Class     Images  Instances      Box(P          R      mAP50  mAP50-95): 100%|██████████| 1/1 [00:00<00:00,  7.51it/s]",
     "output_type": "stream"
    },
    {
     "name": "stdout",
     "text": "                   all          3          6      0.886      0.992      0.995      0.533\n",
     "output_type": "stream"
    },
    {
     "name": "stderr",
     "text": "\n",
     "output_type": "stream"
    },
    {
     "name": "stdout",
     "text": "\n      Epoch    GPU_mem   box_loss   cls_loss   dfl_loss  Instances       Size\n",
     "output_type": "stream"
    },
    {
     "name": "stderr",
     "text": "    120/200      14.2G     0.7386     0.5304       1.01         41        640: 100%|██████████| 11/11 [00:14<00:00,  1.29s/it]\n                 Class     Images  Instances      Box(P          R      mAP50  mAP50-95): 100%|██████████| 1/1 [00:00<00:00,  7.44it/s]",
     "output_type": "stream"
    },
    {
     "name": "stdout",
     "text": "                   all          3          6       0.95      0.834      0.995      0.572\n",
     "output_type": "stream"
    },
    {
     "name": "stderr",
     "text": "\n",
     "output_type": "stream"
    },
    {
     "name": "stdout",
     "text": "\n      Epoch    GPU_mem   box_loss   cls_loss   dfl_loss  Instances       Size\n",
     "output_type": "stream"
    },
    {
     "name": "stderr",
     "text": "    121/200      14.1G     0.7255       0.52      1.003         27        640: 100%|██████████| 11/11 [00:14<00:00,  1.29s/it]\n                 Class     Images  Instances      Box(P          R      mAP50  mAP50-95): 100%|██████████| 1/1 [00:00<00:00,  7.01it/s]",
     "output_type": "stream"
    },
    {
     "name": "stdout",
     "text": "                   all          3          6      0.988      0.973      0.995      0.459\n",
     "output_type": "stream"
    },
    {
     "name": "stderr",
     "text": "\n",
     "output_type": "stream"
    },
    {
     "name": "stdout",
     "text": "\n      Epoch    GPU_mem   box_loss   cls_loss   dfl_loss  Instances       Size\n",
     "output_type": "stream"
    },
    {
     "name": "stderr",
     "text": "    122/200      14.2G     0.7199     0.5311     0.9825         62        640: 100%|██████████| 11/11 [00:14<00:00,  1.29s/it]\n                 Class     Images  Instances      Box(P          R      mAP50  mAP50-95): 100%|██████████| 1/1 [00:00<00:00,  7.18it/s]",
     "output_type": "stream"
    },
    {
     "name": "stdout",
     "text": "                   all          3          6       0.97          1      0.995      0.453\n",
     "output_type": "stream"
    },
    {
     "name": "stderr",
     "text": "\n",
     "output_type": "stream"
    },
    {
     "name": "stdout",
     "text": "\n      Epoch    GPU_mem   box_loss   cls_loss   dfl_loss  Instances       Size\n",
     "output_type": "stream"
    },
    {
     "name": "stderr",
     "text": "    123/200      14.1G     0.6988     0.5101     0.9897         47        640: 100%|██████████| 11/11 [00:14<00:00,  1.29s/it]\n                 Class     Images  Instances      Box(P          R      mAP50  mAP50-95): 100%|██████████| 1/1 [00:00<00:00,  7.30it/s]",
     "output_type": "stream"
    },
    {
     "name": "stdout",
     "text": "                   all          3          6      0.901      0.833      0.929      0.482\n",
     "output_type": "stream"
    },
    {
     "name": "stderr",
     "text": "\n",
     "output_type": "stream"
    },
    {
     "name": "stdout",
     "text": "\n      Epoch    GPU_mem   box_loss   cls_loss   dfl_loss  Instances       Size\n",
     "output_type": "stream"
    },
    {
     "name": "stderr",
     "text": "    124/200      14.2G     0.7002     0.5037     0.9933         38        640: 100%|██████████| 11/11 [00:14<00:00,  1.29s/it]\n                 Class     Images  Instances      Box(P          R      mAP50  mAP50-95): 100%|██████████| 1/1 [00:00<00:00,  7.31it/s]",
     "output_type": "stream"
    },
    {
     "name": "stdout",
     "text": "                   all          3          6      0.827          1      0.871      0.482\n",
     "output_type": "stream"
    },
    {
     "name": "stderr",
     "text": "\n",
     "output_type": "stream"
    },
    {
     "name": "stdout",
     "text": "\n      Epoch    GPU_mem   box_loss   cls_loss   dfl_loss  Instances       Size\n",
     "output_type": "stream"
    },
    {
     "name": "stderr",
     "text": "    125/200      14.1G     0.6951      0.512          1         31        640: 100%|██████████| 11/11 [00:14<00:00,  1.29s/it]\n                 Class     Images  Instances      Box(P          R      mAP50  mAP50-95): 100%|██████████| 1/1 [00:00<00:00,  7.34it/s]",
     "output_type": "stream"
    },
    {
     "name": "stdout",
     "text": "                   all          3          6      0.785      0.989      0.871      0.496\n",
     "output_type": "stream"
    },
    {
     "name": "stderr",
     "text": "\n",
     "output_type": "stream"
    },
    {
     "name": "stdout",
     "text": "\n      Epoch    GPU_mem   box_loss   cls_loss   dfl_loss  Instances       Size\n",
     "output_type": "stream"
    },
    {
     "name": "stderr",
     "text": "    126/200      14.2G     0.7346     0.5167      1.011         39        640: 100%|██████████| 11/11 [00:14<00:00,  1.29s/it]\n                 Class     Images  Instances      Box(P          R      mAP50  mAP50-95): 100%|██████████| 1/1 [00:00<00:00,  7.38it/s]",
     "output_type": "stream"
    },
    {
     "name": "stdout",
     "text": "                   all          3          6      0.793      0.987      0.871      0.504\n",
     "output_type": "stream"
    },
    {
     "name": "stderr",
     "text": "\n",
     "output_type": "stream"
    },
    {
     "name": "stdout",
     "text": "\n      Epoch    GPU_mem   box_loss   cls_loss   dfl_loss  Instances       Size\n",
     "output_type": "stream"
    },
    {
     "name": "stderr",
     "text": "    127/200      14.2G     0.7052     0.5235     0.9996         29        640: 100%|██████████| 11/11 [00:14<00:00,  1.29s/it]\n                 Class     Images  Instances      Box(P          R      mAP50  mAP50-95): 100%|██████████| 1/1 [00:00<00:00,  7.36it/s]",
     "output_type": "stream"
    },
    {
     "name": "stdout",
     "text": "                   all          3          6      0.854      0.998      0.913      0.528\n",
     "output_type": "stream"
    },
    {
     "name": "stderr",
     "text": "\n",
     "output_type": "stream"
    },
    {
     "name": "stdout",
     "text": "\n      Epoch    GPU_mem   box_loss   cls_loss   dfl_loss  Instances       Size\n",
     "output_type": "stream"
    },
    {
     "name": "stderr",
     "text": "    128/200      14.2G     0.7137     0.5003       1.01         36        640: 100%|██████████| 11/11 [00:14<00:00,  1.29s/it]\n                 Class     Images  Instances      Box(P          R      mAP50  mAP50-95): 100%|██████████| 1/1 [00:00<00:00,  7.52it/s]",
     "output_type": "stream"
    },
    {
     "name": "stdout",
     "text": "                   all          3          6       0.85          1      0.871      0.471\n",
     "output_type": "stream"
    },
    {
     "name": "stderr",
     "text": "\n",
     "output_type": "stream"
    },
    {
     "name": "stdout",
     "text": "\n      Epoch    GPU_mem   box_loss   cls_loss   dfl_loss  Instances       Size\n",
     "output_type": "stream"
    },
    {
     "name": "stderr",
     "text": "    129/200      14.1G     0.7027     0.5202      1.024         35        640: 100%|██████████| 11/11 [00:14<00:00,  1.29s/it]\n                 Class     Images  Instances      Box(P          R      mAP50  mAP50-95): 100%|██████████| 1/1 [00:00<00:00,  7.44it/s]",
     "output_type": "stream"
    },
    {
     "name": "stdout",
     "text": "                   all          3          6      0.843          1      0.913      0.502\n",
     "output_type": "stream"
    },
    {
     "name": "stderr",
     "text": "\n",
     "output_type": "stream"
    },
    {
     "name": "stdout",
     "text": "\n      Epoch    GPU_mem   box_loss   cls_loss   dfl_loss  Instances       Size\n",
     "output_type": "stream"
    },
    {
     "name": "stderr",
     "text": "    130/200      14.2G     0.6833     0.4956     0.9783         37        640: 100%|██████████| 11/11 [00:14<00:00,  1.29s/it]\n                 Class     Images  Instances      Box(P          R      mAP50  mAP50-95): 100%|██████████| 1/1 [00:00<00:00,  7.42it/s]",
     "output_type": "stream"
    },
    {
     "name": "stdout",
     "text": "                   all          3          6      0.841          1      0.995      0.492\n",
     "output_type": "stream"
    },
    {
     "name": "stderr",
     "text": "\n",
     "output_type": "stream"
    },
    {
     "name": "stdout",
     "text": "\n      Epoch    GPU_mem   box_loss   cls_loss   dfl_loss  Instances       Size\n",
     "output_type": "stream"
    },
    {
     "name": "stderr",
     "text": "    131/200      14.2G     0.6978     0.5066     0.9959         27        640: 100%|██████████| 11/11 [00:14<00:00,  1.29s/it]\n                 Class     Images  Instances      Box(P          R      mAP50  mAP50-95): 100%|██████████| 1/1 [00:00<00:00,  7.43it/s]",
     "output_type": "stream"
    },
    {
     "name": "stdout",
     "text": "                   all          3          6      0.859          1      0.995      0.492\n",
     "output_type": "stream"
    },
    {
     "name": "stderr",
     "text": "\n",
     "output_type": "stream"
    },
    {
     "name": "stdout",
     "text": "\n      Epoch    GPU_mem   box_loss   cls_loss   dfl_loss  Instances       Size\n",
     "output_type": "stream"
    },
    {
     "name": "stderr",
     "text": "    132/200      14.2G     0.7238     0.4989     0.9966         36        640: 100%|██████████| 11/11 [00:14<00:00,  1.29s/it]\n                 Class     Images  Instances      Box(P          R      mAP50  mAP50-95): 100%|██████████| 1/1 [00:00<00:00,  7.46it/s]",
     "output_type": "stream"
    },
    {
     "name": "stdout",
     "text": "                   all          3          6      0.975      0.994      0.995      0.534\n",
     "output_type": "stream"
    },
    {
     "name": "stderr",
     "text": "\n",
     "output_type": "stream"
    },
    {
     "name": "stdout",
     "text": "\n      Epoch    GPU_mem   box_loss   cls_loss   dfl_loss  Instances       Size\n",
     "output_type": "stream"
    },
    {
     "name": "stderr",
     "text": "    133/200      14.1G     0.6957     0.4993     0.9941         34        640: 100%|██████████| 11/11 [00:14<00:00,  1.29s/it]\n                 Class     Images  Instances      Box(P          R      mAP50  mAP50-95): 100%|██████████| 1/1 [00:00<00:00,  7.40it/s]",
     "output_type": "stream"
    },
    {
     "name": "stdout",
     "text": "                   all          3          6      0.954      0.833      0.954      0.477\n",
     "output_type": "stream"
    },
    {
     "name": "stderr",
     "text": "\n",
     "output_type": "stream"
    },
    {
     "name": "stdout",
     "text": "\n      Epoch    GPU_mem   box_loss   cls_loss   dfl_loss  Instances       Size\n",
     "output_type": "stream"
    },
    {
     "name": "stderr",
     "text": "    134/200      14.1G     0.7083     0.5166     0.9956         33        640: 100%|██████████| 11/11 [00:14<00:00,  1.29s/it]\n                 Class     Images  Instances      Box(P          R      mAP50  mAP50-95): 100%|██████████| 1/1 [00:00<00:00,  7.28it/s]",
     "output_type": "stream"
    },
    {
     "name": "stdout",
     "text": "                   all          3          6      0.776      0.988      0.954      0.497\n",
     "output_type": "stream"
    },
    {
     "name": "stderr",
     "text": "\n",
     "output_type": "stream"
    },
    {
     "name": "stdout",
     "text": "\n      Epoch    GPU_mem   box_loss   cls_loss   dfl_loss  Instances       Size\n",
     "output_type": "stream"
    },
    {
     "name": "stderr",
     "text": "    135/200      14.1G     0.6834     0.4961     0.9813         50        640: 100%|██████████| 11/11 [00:14<00:00,  1.29s/it]\n                 Class     Images  Instances      Box(P          R      mAP50  mAP50-95): 100%|██████████| 1/1 [00:00<00:00,  7.36it/s]",
     "output_type": "stream"
    },
    {
     "name": "stdout",
     "text": "                   all          3          6      0.962       0.99      0.995      0.528\n",
     "output_type": "stream"
    },
    {
     "name": "stderr",
     "text": "\n",
     "output_type": "stream"
    },
    {
     "name": "stdout",
     "text": "\n      Epoch    GPU_mem   box_loss   cls_loss   dfl_loss  Instances       Size\n",
     "output_type": "stream"
    },
    {
     "name": "stderr",
     "text": "    136/200      14.2G     0.6777     0.4971       0.99         35        640: 100%|██████████| 11/11 [00:14<00:00,  1.29s/it]\n                 Class     Images  Instances      Box(P          R      mAP50  mAP50-95): 100%|██████████| 1/1 [00:00<00:00,  7.47it/s]",
     "output_type": "stream"
    },
    {
     "name": "stdout",
     "text": "                   all          3          6      0.862          1      0.995      0.555\n",
     "output_type": "stream"
    },
    {
     "name": "stderr",
     "text": "\n",
     "output_type": "stream"
    },
    {
     "name": "stdout",
     "text": "\n      Epoch    GPU_mem   box_loss   cls_loss   dfl_loss  Instances       Size\n",
     "output_type": "stream"
    },
    {
     "name": "stderr",
     "text": "    137/200      14.1G     0.6948     0.5052      1.003         35        640: 100%|██████████| 11/11 [00:14<00:00,  1.29s/it]\n                 Class     Images  Instances      Box(P          R      mAP50  mAP50-95): 100%|██████████| 1/1 [00:00<00:00,  7.51it/s]",
     "output_type": "stream"
    },
    {
     "name": "stdout",
     "text": "                   all          3          6      0.839       0.94      0.995      0.578\n",
     "output_type": "stream"
    },
    {
     "name": "stderr",
     "text": "\n",
     "output_type": "stream"
    },
    {
     "name": "stdout",
     "text": "\n      Epoch    GPU_mem   box_loss   cls_loss   dfl_loss  Instances       Size\n",
     "output_type": "stream"
    },
    {
     "name": "stderr",
     "text": "    138/200      14.1G     0.6574     0.5131      0.981         34        640: 100%|██████████| 11/11 [00:14<00:00,  1.29s/it]\n                 Class     Images  Instances      Box(P          R      mAP50  mAP50-95): 100%|██████████| 1/1 [00:00<00:00,  7.10it/s]",
     "output_type": "stream"
    },
    {
     "name": "stdout",
     "text": "                   all          3          6      0.714          1      0.913        0.5\n",
     "output_type": "stream"
    },
    {
     "name": "stderr",
     "text": "\n",
     "output_type": "stream"
    },
    {
     "name": "stdout",
     "text": "\n      Epoch    GPU_mem   box_loss   cls_loss   dfl_loss  Instances       Size\n",
     "output_type": "stream"
    },
    {
     "name": "stderr",
     "text": "    139/200      14.2G     0.6498     0.4837      0.968         41        640: 100%|██████████| 11/11 [00:14<00:00,  1.29s/it]\n                 Class     Images  Instances      Box(P          R      mAP50  mAP50-95): 100%|██████████| 1/1 [00:00<00:00,  7.47it/s]",
     "output_type": "stream"
    },
    {
     "name": "stdout",
     "text": "                   all          3          6      0.968      0.806      0.954      0.544\n",
     "output_type": "stream"
    },
    {
     "name": "stderr",
     "text": "\n",
     "output_type": "stream"
    },
    {
     "name": "stdout",
     "text": "\n      Epoch    GPU_mem   box_loss   cls_loss   dfl_loss  Instances       Size\n",
     "output_type": "stream"
    },
    {
     "name": "stderr",
     "text": "    140/200      14.2G     0.6747     0.5147     0.9663         33        640: 100%|██████████| 11/11 [00:14<00:00,  1.29s/it]\n                 Class     Images  Instances      Box(P          R      mAP50  mAP50-95): 100%|██████████| 1/1 [00:00<00:00,  7.40it/s]",
     "output_type": "stream"
    },
    {
     "name": "stdout",
     "text": "                   all          3          6      0.921      0.986      0.995      0.558\n",
     "output_type": "stream"
    },
    {
     "name": "stderr",
     "text": "\n",
     "output_type": "stream"
    },
    {
     "name": "stdout",
     "text": "\n      Epoch    GPU_mem   box_loss   cls_loss   dfl_loss  Instances       Size\n",
     "output_type": "stream"
    },
    {
     "name": "stderr",
     "text": "    141/200      14.1G     0.6536     0.4737     0.9709         34        640: 100%|██████████| 11/11 [00:14<00:00,  1.29s/it]\n                 Class     Images  Instances      Box(P          R      mAP50  mAP50-95): 100%|██████████| 1/1 [00:00<00:00,  7.46it/s]",
     "output_type": "stream"
    },
    {
     "name": "stdout",
     "text": "                   all          3          6      0.951      0.833      0.929      0.529\n",
     "output_type": "stream"
    },
    {
     "name": "stderr",
     "text": "\n",
     "output_type": "stream"
    },
    {
     "name": "stdout",
     "text": "\n      Epoch    GPU_mem   box_loss   cls_loss   dfl_loss  Instances       Size\n",
     "output_type": "stream"
    },
    {
     "name": "stderr",
     "text": "    142/200      14.1G     0.5912     0.4635     0.9498         40        640: 100%|██████████| 11/11 [00:14<00:00,  1.29s/it]\n                 Class     Images  Instances      Box(P          R      mAP50  mAP50-95): 100%|██████████| 1/1 [00:00<00:00,  7.38it/s]",
     "output_type": "stream"
    },
    {
     "name": "stdout",
     "text": "                   all          3          6      0.939       0.82      0.858      0.488\n",
     "output_type": "stream"
    },
    {
     "name": "stderr",
     "text": "\n",
     "output_type": "stream"
    },
    {
     "name": "stdout",
     "text": "\n      Epoch    GPU_mem   box_loss   cls_loss   dfl_loss  Instances       Size\n",
     "output_type": "stream"
    },
    {
     "name": "stderr",
     "text": "    143/200      14.2G     0.6427     0.4662     0.9677         33        640: 100%|██████████| 11/11 [00:14<00:00,  1.29s/it]\n                 Class     Images  Instances      Box(P          R      mAP50  mAP50-95): 100%|██████████| 1/1 [00:00<00:00,  7.49it/s]",
     "output_type": "stream"
    },
    {
     "name": "stdout",
     "text": "                   all          3          6      0.767      0.833      0.803      0.432\n",
     "output_type": "stream"
    },
    {
     "name": "stderr",
     "text": "\n",
     "output_type": "stream"
    },
    {
     "name": "stdout",
     "text": "\n      Epoch    GPU_mem   box_loss   cls_loss   dfl_loss  Instances       Size\n",
     "output_type": "stream"
    },
    {
     "name": "stderr",
     "text": "    144/200      14.2G     0.6242     0.4573     0.9471         47        640: 100%|██████████| 11/11 [00:14<00:00,  1.29s/it]\n                 Class     Images  Instances      Box(P          R      mAP50  mAP50-95): 100%|██████████| 1/1 [00:00<00:00,  7.54it/s]",
     "output_type": "stream"
    },
    {
     "name": "stdout",
     "text": "                   all          3          6       0.96      0.826      0.858      0.485\n",
     "output_type": "stream"
    },
    {
     "name": "stderr",
     "text": "\n",
     "output_type": "stream"
    },
    {
     "name": "stdout",
     "text": "\n      Epoch    GPU_mem   box_loss   cls_loss   dfl_loss  Instances       Size\n",
     "output_type": "stream"
    },
    {
     "name": "stderr",
     "text": "    145/200      14.1G     0.6348     0.4687     0.9644         29        640: 100%|██████████| 11/11 [00:14<00:00,  1.28s/it]\n                 Class     Images  Instances      Box(P          R      mAP50  mAP50-95): 100%|██████████| 1/1 [00:00<00:00,  7.37it/s]",
     "output_type": "stream"
    },
    {
     "name": "stdout",
     "text": "                   all          3          6      0.931      0.814      0.929      0.536\n",
     "output_type": "stream"
    },
    {
     "name": "stderr",
     "text": "\n",
     "output_type": "stream"
    },
    {
     "name": "stdout",
     "text": "\n      Epoch    GPU_mem   box_loss   cls_loss   dfl_loss  Instances       Size\n",
     "output_type": "stream"
    },
    {
     "name": "stderr",
     "text": "    146/200      14.2G     0.6074      0.447     0.9475         28        640: 100%|██████████| 11/11 [00:14<00:00,  1.29s/it]\n                 Class     Images  Instances      Box(P          R      mAP50  mAP50-95): 100%|██████████| 1/1 [00:00<00:00,  7.32it/s]",
     "output_type": "stream"
    },
    {
     "name": "stdout",
     "text": "                   all          3          6      0.864      0.822      0.888      0.478\n",
     "output_type": "stream"
    },
    {
     "name": "stderr",
     "text": "\n",
     "output_type": "stream"
    },
    {
     "name": "stdout",
     "text": "\n      Epoch    GPU_mem   box_loss   cls_loss   dfl_loss  Instances       Size\n",
     "output_type": "stream"
    },
    {
     "name": "stderr",
     "text": "    147/200      14.1G     0.6738     0.4889     0.9712         38        640: 100%|██████████| 11/11 [00:14<00:00,  1.29s/it]\n                 Class     Images  Instances      Box(P          R      mAP50  mAP50-95): 100%|██████████| 1/1 [00:00<00:00,  7.42it/s]",
     "output_type": "stream"
    },
    {
     "name": "stdout",
     "text": "                   all          3          6      0.854      0.828      0.871      0.521\n",
     "output_type": "stream"
    },
    {
     "name": "stderr",
     "text": "\n",
     "output_type": "stream"
    },
    {
     "name": "stdout",
     "text": "\n      Epoch    GPU_mem   box_loss   cls_loss   dfl_loss  Instances       Size\n",
     "output_type": "stream"
    },
    {
     "name": "stderr",
     "text": "    148/200      14.2G     0.6061     0.4356     0.9509         39        640: 100%|██████████| 11/11 [00:14<00:00,  1.29s/it]\n                 Class     Images  Instances      Box(P          R      mAP50  mAP50-95): 100%|██████████| 1/1 [00:00<00:00,  7.41it/s]",
     "output_type": "stream"
    },
    {
     "name": "stdout",
     "text": "                   all          3          6      0.802          1      0.954      0.544\n",
     "output_type": "stream"
    },
    {
     "name": "stderr",
     "text": "\n",
     "output_type": "stream"
    },
    {
     "name": "stdout",
     "text": "\n      Epoch    GPU_mem   box_loss   cls_loss   dfl_loss  Instances       Size\n",
     "output_type": "stream"
    },
    {
     "name": "stderr",
     "text": "    149/200      14.1G      0.638      0.476     0.9652         32        640: 100%|██████████| 11/11 [00:14<00:00,  1.29s/it]\n                 Class     Images  Instances      Box(P          R      mAP50  mAP50-95): 100%|██████████| 1/1 [00:00<00:00,  7.49it/s]",
     "output_type": "stream"
    },
    {
     "name": "stdout",
     "text": "                   all          3          6      0.813          1      0.954      0.517\nStopping training early as no improvement observed in last 100 epochs. Best results observed at epoch 49, best model saved as best.pt.\nTo update EarlyStopping(patience=100) pass a new patience value, i.e. `patience=300` or use `patience=0` to disable EarlyStopping.\n",
     "output_type": "stream"
    },
    {
     "name": "stderr",
     "text": "\n",
     "output_type": "stream"
    },
    {
     "name": "stdout",
     "text": "\n149 epochs completed in 0.723 hours.\nOptimizer stripped from runs/detect/train/weights/last.pt, 136.7MB\nOptimizer stripped from runs/detect/train/weights/best.pt, 136.7MB\n\nValidating runs/detect/train/weights/best.pt...\nUltralytics YOLOv8.1.24 🚀 Python-3.10.13 torch-2.1.2 CUDA:0 (Tesla P100-PCIE-16GB, 16276MiB)\nModel summary (fused): 268 layers, 68127420 parameters, 0 gradients, 257.4 GFLOPs\n",
     "output_type": "stream"
    },
    {
     "name": "stderr",
     "text": "                 Class     Images  Instances      Box(P          R      mAP50  mAP50-95): 100%|██████████| 1/1 [00:00<00:00,  7.76it/s]\n",
     "output_type": "stream"
    },
    {
     "name": "stdout",
     "text": "                   all          3          6      0.909      0.977      0.995      0.629\n                 birth          3          3      0.818          1      0.995      0.642\n               subject          3          3          1      0.955      0.995      0.617\nSpeed: 0.3ms preprocess, 37.1ms inference, 0.0ms loss, 1.2ms postprocess per image\nResults saved to \u001B[1mruns/detect/train\u001B[0m\n",
     "output_type": "stream"
    },
    {
     "output_type": "display_data",
     "data": {
      "text/plain": "VBox(children=(Label(value='133.446 MB of 133.446 MB uploaded\\r'), FloatProgress(value=1.0, max=1.0)))",
      "application/vnd.jupyter.widget-view+json": {
       "version_major": 2,
       "version_minor": 0,
       "model_id": ""
      }
     },
     "metadata": {}
    },
    {
     "output_type": "display_data",
     "data": {
      "text/plain": "<IPython.core.display.HTML object>",
      "text/html": "<style>\n    table.wandb td:nth-child(1) { padding: 0 10px; text-align: left ; width: auto;} td:nth-child(2) {text-align: left ; width: 100%}\n    .wandb-row { display: flex; flex-direction: row; flex-wrap: wrap; justify-content: flex-start; width: 100% }\n    .wandb-col { display: flex; flex-direction: column; flex-basis: 100%; flex: 1; padding: 10px; }\n    </style>\n<div class=\"wandb-row\"><div class=\"wandb-col\"><h3>Run history:</h3><br/><table class=\"wandb\"><tr><td>lr/pg0</td><td>▁▃▇███▇▇▇▇▇▇▆▆▆▆▆▆▅▅▅▅▅▄▄▄▄▄▄▃▃▃▃▃▃▂▂▂▂▂</td></tr><tr><td>lr/pg1</td><td>▁▃▇███▇▇▇▇▇▇▆▆▆▆▆▆▅▅▅▅▅▄▄▄▄▄▄▃▃▃▃▃▃▂▂▂▂▂</td></tr><tr><td>lr/pg2</td><td>▁▃▇███▇▇▇▇▇▇▆▆▆▆▆▆▅▅▅▅▅▄▄▄▄▄▄▃▃▃▃▃▃▂▂▂▂▂</td></tr><tr><td>metrics/mAP50(B)</td><td>██▆▃█▁▆▇███▄▅█▄▇█▆█▇▆█▅██▇▃▇▄▁███▅▅███▅▇</td></tr><tr><td>metrics/mAP50-95(B)</td><td>▅▄▇▁▆▁▄▅▅▇▆▄▃█▄▆▇▆▇▅▇▅▆▇▇▆▅▇▄▃▇▇▇▅▅▆▇▇▅▆</td></tr><tr><td>metrics/precision(B)</td><td>▄█▅▇▆██▆█▆▆▇▂█▄▆▆▅▇█▆▇▅▆▇▆▁▅▂▃▆▆█▆▆█▆▇█▅</td></tr><tr><td>metrics/recall(B)</td><td>▅██▁▇▁▃▅▄██▅██████▇▅▄▇▅███▇█▇▅██▅█████▅█</td></tr><tr><td>model/GFLOPs</td><td>▁</td></tr><tr><td>model/parameters</td><td>▁</td></tr><tr><td>model/speed_PyTorch(ms)</td><td>▁</td></tr><tr><td>train/box_loss</td><td>▆▆▇██▇▇▇▇▇▆▆▆▆▆▆▅▅▄▄▄▄▄▄▃▃▃▃▂▃▃▂▂▂▂▂▂▂▁▁</td></tr><tr><td>train/cls_loss</td><td>█▅▄▄▄▄▄▄▄▄▄▃▃▃▃▃▃▃▂▂▂▂▂▂▂▂▂▂▂▂▂▁▁▁▁▁▁▁▁▁</td></tr><tr><td>train/dfl_loss</td><td>▇▆▇▇█▇▇▇▇█▆▆▆▆▆▆▅▅▄▄▄▃▃▃▃▃▃▃▂▃▃▂▂▂▂▂▂▁▁▁</td></tr><tr><td>val/box_loss</td><td>▃▅▁▆▁█▃▄▅▂▄▄▆▂▃▃▂▂▃▄▂▄▂▂▂▃▁▂▂▄▂▄▃▂▃▃▃▂▄▂</td></tr><tr><td>val/cls_loss</td><td>▆▄▄█▃▆▄▃▄▃▃▃▄▁▄▁▂▃▂▃▂▂▂▁▁▂▄▂▄▄▂▁▂▂▁▂▁▁▂▂</td></tr><tr><td>val/dfl_loss</td><td>▂▃▁▄▁█▂▂▃▁▄▃▅▂▃▂▂▁▁▂▂▃▁▂▁▁▁▁▂▄▁▂▂▂▂▂▂▁▄▂</td></tr></table><br/></div><div class=\"wandb-col\"><h3>Run summary:</h3><br/><table class=\"wandb\"><tr><td>lr/pg0</td><td>0.00034</td></tr><tr><td>lr/pg1</td><td>0.00034</td></tr><tr><td>lr/pg2</td><td>0.00034</td></tr><tr><td>metrics/mAP50(B)</td><td>0.995</td></tr><tr><td>metrics/mAP50-95(B)</td><td>0.62924</td></tr><tr><td>metrics/precision(B)</td><td>0.90915</td></tr><tr><td>metrics/recall(B)</td><td>0.97734</td></tr><tr><td>model/GFLOPs</td><td>258.139</td></tr><tr><td>model/parameters</td><td>68156460</td></tr><tr><td>model/speed_PyTorch(ms)</td><td>52.846</td></tr><tr><td>train/box_loss</td><td>0.63804</td></tr><tr><td>train/cls_loss</td><td>0.47599</td></tr><tr><td>train/dfl_loss</td><td>0.96521</td></tr><tr><td>val/box_loss</td><td>1.78038</td></tr><tr><td>val/cls_loss</td><td>0.71076</td></tr><tr><td>val/dfl_loss</td><td>1.30818</td></tr></table><br/></div></div>"
     },
     "metadata": {}
    },
    {
     "output_type": "display_data",
     "data": {
      "text/plain": "<IPython.core.display.HTML object>",
      "text/html": " View run <strong style=\"color:#cdcd00\">train</strong> at: <a href='https://wandb.ai/tinhnguyen23122004/YOLOv8/runs/v32gvofe' target=\"_blank\">https://wandb.ai/tinhnguyen23122004/YOLOv8/runs/v32gvofe</a><br/>Synced 6 W&B file(s), 17 media file(s), 5 artifact file(s) and 0 other file(s)"
     },
     "metadata": {}
    },
    {
     "output_type": "display_data",
     "data": {
      "text/plain": "<IPython.core.display.HTML object>",
      "text/html": "Find logs at: <code>./wandb/run-20240307_125236-v32gvofe/logs</code>"
     },
     "metadata": {}
    },
    {
     "execution_count": 15,
     "output_type": "execute_result",
     "data": {
      "text/plain": "ultralytics.utils.metrics.DetMetrics object with attributes:\n\nap_class_index: array([0, 3])\nbox: ultralytics.utils.metrics.Metric object\nconfusion_matrix: <ultralytics.utils.metrics.ConfusionMatrix object at 0x77fcb3b63040>\ncurves: ['Precision-Recall(B)', 'F1-Confidence(B)', 'Precision-Confidence(B)', 'Recall-Confidence(B)']\ncurves_results: [[array([          0,    0.001001,    0.002002,    0.003003,    0.004004,    0.005005,    0.006006,    0.007007,    0.008008,    0.009009,     0.01001,    0.011011,    0.012012,    0.013013,    0.014014,    0.015015,    0.016016,    0.017017,    0.018018,    0.019019,     0.02002,    0.021021,    0.022022,    0.023023,\n          0.024024,    0.025025,    0.026026,    0.027027,    0.028028,    0.029029,     0.03003,    0.031031,    0.032032,    0.033033,    0.034034,    0.035035,    0.036036,    0.037037,    0.038038,    0.039039,     0.04004,    0.041041,    0.042042,    0.043043,    0.044044,    0.045045,    0.046046,    0.047047,\n          0.048048,    0.049049,     0.05005,    0.051051,    0.052052,    0.053053,    0.054054,    0.055055,    0.056056,    0.057057,    0.058058,    0.059059,     0.06006,    0.061061,    0.062062,    0.063063,    0.064064,    0.065065,    0.066066,    0.067067,    0.068068,    0.069069,     0.07007,    0.071071,\n          0.072072,    0.073073,    0.074074,    0.075075,    0.076076,    0.077077,    0.078078,    0.079079,     0.08008,    0.081081,    0.082082,    0.083083,    0.084084,    0.085085,    0.086086,    0.087087,    0.088088,    0.089089,     0.09009,    0.091091,    0.092092,    0.093093,    0.094094,    0.095095,\n          0.096096,    0.097097,    0.098098,    0.099099,      0.1001,      0.1011,      0.1021,      0.1031,      0.1041,     0.10511,     0.10611,     0.10711,     0.10811,     0.10911,     0.11011,     0.11111,     0.11211,     0.11311,     0.11411,     0.11512,     0.11612,     0.11712,     0.11812,     0.11912,\n           0.12012,     0.12112,     0.12212,     0.12312,     0.12412,     0.12513,     0.12613,     0.12713,     0.12813,     0.12913,     0.13013,     0.13113,     0.13213,     0.13313,     0.13413,     0.13514,     0.13614,     0.13714,     0.13814,     0.13914,     0.14014,     0.14114,     0.14214,     0.14314,\n           0.14414,     0.14515,     0.14615,     0.14715,     0.14815,     0.14915,     0.15015,     0.15115,     0.15215,     0.15315,     0.15415,     0.15516,     0.15616,     0.15716,     0.15816,     0.15916,     0.16016,     0.16116,     0.16216,     0.16316,     0.16416,     0.16517,     0.16617,     0.16717,\n           0.16817,     0.16917,     0.17017,     0.17117,     0.17217,     0.17317,     0.17417,     0.17518,     0.17618,     0.17718,     0.17818,     0.17918,     0.18018,     0.18118,     0.18218,     0.18318,     0.18418,     0.18519,     0.18619,     0.18719,     0.18819,     0.18919,     0.19019,     0.19119,\n           0.19219,     0.19319,     0.19419,      0.1952,      0.1962,      0.1972,      0.1982,      0.1992,      0.2002,      0.2012,      0.2022,      0.2032,      0.2042,     0.20521,     0.20621,     0.20721,     0.20821,     0.20921,     0.21021,     0.21121,     0.21221,     0.21321,     0.21421,     0.21522,\n           0.21622,     0.21722,     0.21822,     0.21922,     0.22022,     0.22122,     0.22222,     0.22322,     0.22422,     0.22523,     0.22623,     0.22723,     0.22823,     0.22923,     0.23023,     0.23123,     0.23223,     0.23323,     0.23423,     0.23524,     0.23624,     0.23724,     0.23824,     0.23924,\n           0.24024,     0.24124,     0.24224,     0.24324,     0.24424,     0.24525,     0.24625,     0.24725,     0.24825,     0.24925,     0.25025,     0.25125,     0.25225,     0.25325,     0.25425,     0.25526,     0.25626,     0.25726,     0.25826,     0.25926,     0.26026,     0.26126,     0.26226,     0.26326,\n           0.26426,     0.26527,     0.26627,     0.26727,     0.26827,     0.26927,     0.27027,     0.27127,     0.27227,     0.27327,     0.27427,     0.27528,     0.27628,     0.27728,     0.27828,     0.27928,     0.28028,     0.28128,     0.28228,     0.28328,     0.28428,     0.28529,     0.28629,     0.28729,\n           0.28829,     0.28929,     0.29029,     0.29129,     0.29229,     0.29329,     0.29429,      0.2953,      0.2963,      0.2973,      0.2983,      0.2993,      0.3003,      0.3013,      0.3023,      0.3033,      0.3043,     0.30531,     0.30631,     0.30731,     0.30831,     0.30931,     0.31031,     0.31131,\n           0.31231,     0.31331,     0.31431,     0.31532,     0.31632,     0.31732,     0.31832,     0.31932,     0.32032,     0.32132,     0.32232,     0.32332,     0.32432,     0.32533,     0.32633,     0.32733,     0.32833,     0.32933,     0.33033,     0.33133,     0.33233,     0.33333,     0.33433,     0.33534,\n           0.33634,     0.33734,     0.33834,     0.33934,     0.34034,     0.34134,     0.34234,     0.34334,     0.34434,     0.34535,     0.34635,     0.34735,     0.34835,     0.34935,     0.35035,     0.35135,     0.35235,     0.35335,     0.35435,     0.35536,     0.35636,     0.35736,     0.35836,     0.35936,\n           0.36036,     0.36136,     0.36236,     0.36336,     0.36436,     0.36537,     0.36637,     0.36737,     0.36837,     0.36937,     0.37037,     0.37137,     0.37237,     0.37337,     0.37437,     0.37538,     0.37638,     0.37738,     0.37838,     0.37938,     0.38038,     0.38138,     0.38238,     0.38338,\n           0.38438,     0.38539,     0.38639,     0.38739,     0.38839,     0.38939,     0.39039,     0.39139,     0.39239,     0.39339,     0.39439,      0.3954,      0.3964,      0.3974,      0.3984,      0.3994,      0.4004,      0.4014,      0.4024,      0.4034,      0.4044,     0.40541,     0.40641,     0.40741,\n           0.40841,     0.40941,     0.41041,     0.41141,     0.41241,     0.41341,     0.41441,     0.41542,     0.41642,     0.41742,     0.41842,     0.41942,     0.42042,     0.42142,     0.42242,     0.42342,     0.42442,     0.42543,     0.42643,     0.42743,     0.42843,     0.42943,     0.43043,     0.43143,\n           0.43243,     0.43343,     0.43443,     0.43544,     0.43644,     0.43744,     0.43844,     0.43944,     0.44044,     0.44144,     0.44244,     0.44344,     0.44444,     0.44545,     0.44645,     0.44745,     0.44845,     0.44945,     0.45045,     0.45145,     0.45245,     0.45345,     0.45445,     0.45546,\n           0.45646,     0.45746,     0.45846,     0.45946,     0.46046,     0.46146,     0.46246,     0.46346,     0.46446,     0.46547,     0.46647,     0.46747,     0.46847,     0.46947,     0.47047,     0.47147,     0.47247,     0.47347,     0.47447,     0.47548,     0.47648,     0.47748,     0.47848,     0.47948,\n           0.48048,     0.48148,     0.48248,     0.48348,     0.48448,     0.48549,     0.48649,     0.48749,     0.48849,     0.48949,     0.49049,     0.49149,     0.49249,     0.49349,     0.49449,      0.4955,      0.4965,      0.4975,      0.4985,      0.4995,      0.5005,      0.5015,      0.5025,      0.5035,\n            0.5045,     0.50551,     0.50651,     0.50751,     0.50851,     0.50951,     0.51051,     0.51151,     0.51251,     0.51351,     0.51451,     0.51552,     0.51652,     0.51752,     0.51852,     0.51952,     0.52052,     0.52152,     0.52252,     0.52352,     0.52452,     0.52553,     0.52653,     0.52753,\n           0.52853,     0.52953,     0.53053,     0.53153,     0.53253,     0.53353,     0.53453,     0.53554,     0.53654,     0.53754,     0.53854,     0.53954,     0.54054,     0.54154,     0.54254,     0.54354,     0.54454,     0.54555,     0.54655,     0.54755,     0.54855,     0.54955,     0.55055,     0.55155,\n           0.55255,     0.55355,     0.55455,     0.55556,     0.55656,     0.55756,     0.55856,     0.55956,     0.56056,     0.56156,     0.56256,     0.56356,     0.56456,     0.56557,     0.56657,     0.56757,     0.56857,     0.56957,     0.57057,     0.57157,     0.57257,     0.57357,     0.57457,     0.57558,\n           0.57658,     0.57758,     0.57858,     0.57958,     0.58058,     0.58158,     0.58258,     0.58358,     0.58458,     0.58559,     0.58659,     0.58759,     0.58859,     0.58959,     0.59059,     0.59159,     0.59259,     0.59359,     0.59459,      0.5956,      0.5966,      0.5976,      0.5986,      0.5996,\n            0.6006,      0.6016,      0.6026,      0.6036,      0.6046,     0.60561,     0.60661,     0.60761,     0.60861,     0.60961,     0.61061,     0.61161,     0.61261,     0.61361,     0.61461,     0.61562,     0.61662,     0.61762,     0.61862,     0.61962,     0.62062,     0.62162,     0.62262,     0.62362,\n           0.62462,     0.62563,     0.62663,     0.62763,     0.62863,     0.62963,     0.63063,     0.63163,     0.63263,     0.63363,     0.63463,     0.63564,     0.63664,     0.63764,     0.63864,     0.63964,     0.64064,     0.64164,     0.64264,     0.64364,     0.64464,     0.64565,     0.64665,     0.64765,\n           0.64865,     0.64965,     0.65065,     0.65165,     0.65265,     0.65365,     0.65465,     0.65566,     0.65666,     0.65766,     0.65866,     0.65966,     0.66066,     0.66166,     0.66266,     0.66366,     0.66466,     0.66567,     0.66667,     0.66767,     0.66867,     0.66967,     0.67067,     0.67167,\n           0.67267,     0.67367,     0.67467,     0.67568,     0.67668,     0.67768,     0.67868,     0.67968,     0.68068,     0.68168,     0.68268,     0.68368,     0.68468,     0.68569,     0.68669,     0.68769,     0.68869,     0.68969,     0.69069,     0.69169,     0.69269,     0.69369,     0.69469,      0.6957,\n            0.6967,      0.6977,      0.6987,      0.6997,      0.7007,      0.7017,      0.7027,      0.7037,      0.7047,     0.70571,     0.70671,     0.70771,     0.70871,     0.70971,     0.71071,     0.71171,     0.71271,     0.71371,     0.71471,     0.71572,     0.71672,     0.71772,     0.71872,     0.71972,\n           0.72072,     0.72172,     0.72272,     0.72372,     0.72472,     0.72573,     0.72673,     0.72773,     0.72873,     0.72973,     0.73073,     0.73173,     0.73273,     0.73373,     0.73473,     0.73574,     0.73674,     0.73774,     0.73874,     0.73974,     0.74074,     0.74174,     0.74274,     0.74374,\n           0.74474,     0.74575,     0.74675,     0.74775,     0.74875,     0.74975,     0.75075,     0.75175,     0.75275,     0.75375,     0.75475,     0.75576,     0.75676,     0.75776,     0.75876,     0.75976,     0.76076,     0.76176,     0.76276,     0.76376,     0.76476,     0.76577,     0.76677,     0.76777,\n           0.76877,     0.76977,     0.77077,     0.77177,     0.77277,     0.77377,     0.77477,     0.77578,     0.77678,     0.77778,     0.77878,     0.77978,     0.78078,     0.78178,     0.78278,     0.78378,     0.78478,     0.78579,     0.78679,     0.78779,     0.78879,     0.78979,     0.79079,     0.79179,\n           0.79279,     0.79379,     0.79479,      0.7958,      0.7968,      0.7978,      0.7988,      0.7998,      0.8008,      0.8018,      0.8028,      0.8038,      0.8048,     0.80581,     0.80681,     0.80781,     0.80881,     0.80981,     0.81081,     0.81181,     0.81281,     0.81381,     0.81481,     0.81582,\n           0.81682,     0.81782,     0.81882,     0.81982,     0.82082,     0.82182,     0.82282,     0.82382,     0.82482,     0.82583,     0.82683,     0.82783,     0.82883,     0.82983,     0.83083,     0.83183,     0.83283,     0.83383,     0.83483,     0.83584,     0.83684,     0.83784,     0.83884,     0.83984,\n           0.84084,     0.84184,     0.84284,     0.84384,     0.84484,     0.84585,     0.84685,     0.84785,     0.84885,     0.84985,     0.85085,     0.85185,     0.85285,     0.85385,     0.85485,     0.85586,     0.85686,     0.85786,     0.85886,     0.85986,     0.86086,     0.86186,     0.86286,     0.86386,\n           0.86486,     0.86587,     0.86687,     0.86787,     0.86887,     0.86987,     0.87087,     0.87187,     0.87287,     0.87387,     0.87487,     0.87588,     0.87688,     0.87788,     0.87888,     0.87988,     0.88088,     0.88188,     0.88288,     0.88388,     0.88488,     0.88589,     0.88689,     0.88789,\n           0.88889,     0.88989,     0.89089,     0.89189,     0.89289,     0.89389,     0.89489,      0.8959,      0.8969,      0.8979,      0.8989,      0.8999,      0.9009,      0.9019,      0.9029,      0.9039,      0.9049,     0.90591,     0.90691,     0.90791,     0.90891,     0.90991,     0.91091,     0.91191,\n           0.91291,     0.91391,     0.91491,     0.91592,     0.91692,     0.91792,     0.91892,     0.91992,     0.92092,     0.92192,     0.92292,     0.92392,     0.92492,     0.92593,     0.92693,     0.92793,     0.92893,     0.92993,     0.93093,     0.93193,     0.93293,     0.93393,     0.93493,     0.93594,\n           0.93694,     0.93794,     0.93894,     0.93994,     0.94094,     0.94194,     0.94294,     0.94394,     0.94494,     0.94595,     0.94695,     0.94795,     0.94895,     0.94995,     0.95095,     0.95195,     0.95295,     0.95395,     0.95495,     0.95596,     0.95696,     0.95796,     0.95896,     0.95996,\n           0.96096,     0.96196,     0.96296,     0.96396,     0.96496,     0.96597,     0.96697,     0.96797,     0.96897,     0.96997,     0.97097,     0.97197,     0.97297,     0.97397,     0.97497,     0.97598,     0.97698,     0.97798,     0.97898,     0.97998,     0.98098,     0.98198,     0.98298,     0.98398,\n           0.98498,     0.98599,     0.98699,     0.98799,     0.98899,     0.98999,     0.99099,     0.99199,     0.99299,     0.99399,     0.99499,       0.996,       0.997,       0.998,       0.999,           1]), array([[          1,           1,           1, ...,           1,           1,           0],\n       [          1,           1,           1, ...,           1,           1,           0]]), 'Recall', 'Precision'], [array([          0,    0.001001,    0.002002,    0.003003,    0.004004,    0.005005,    0.006006,    0.007007,    0.008008,    0.009009,     0.01001,    0.011011,    0.012012,    0.013013,    0.014014,    0.015015,    0.016016,    0.017017,    0.018018,    0.019019,     0.02002,    0.021021,    0.022022,    0.023023,\n          0.024024,    0.025025,    0.026026,    0.027027,    0.028028,    0.029029,     0.03003,    0.031031,    0.032032,    0.033033,    0.034034,    0.035035,    0.036036,    0.037037,    0.038038,    0.039039,     0.04004,    0.041041,    0.042042,    0.043043,    0.044044,    0.045045,    0.046046,    0.047047,\n          0.048048,    0.049049,     0.05005,    0.051051,    0.052052,    0.053053,    0.054054,    0.055055,    0.056056,    0.057057,    0.058058,    0.059059,     0.06006,    0.061061,    0.062062,    0.063063,    0.064064,    0.065065,    0.066066,    0.067067,    0.068068,    0.069069,     0.07007,    0.071071,\n          0.072072,    0.073073,    0.074074,    0.075075,    0.076076,    0.077077,    0.078078,    0.079079,     0.08008,    0.081081,    0.082082,    0.083083,    0.084084,    0.085085,    0.086086,    0.087087,    0.088088,    0.089089,     0.09009,    0.091091,    0.092092,    0.093093,    0.094094,    0.095095,\n          0.096096,    0.097097,    0.098098,    0.099099,      0.1001,      0.1011,      0.1021,      0.1031,      0.1041,     0.10511,     0.10611,     0.10711,     0.10811,     0.10911,     0.11011,     0.11111,     0.11211,     0.11311,     0.11411,     0.11512,     0.11612,     0.11712,     0.11812,     0.11912,\n           0.12012,     0.12112,     0.12212,     0.12312,     0.12412,     0.12513,     0.12613,     0.12713,     0.12813,     0.12913,     0.13013,     0.13113,     0.13213,     0.13313,     0.13413,     0.13514,     0.13614,     0.13714,     0.13814,     0.13914,     0.14014,     0.14114,     0.14214,     0.14314,\n           0.14414,     0.14515,     0.14615,     0.14715,     0.14815,     0.14915,     0.15015,     0.15115,     0.15215,     0.15315,     0.15415,     0.15516,     0.15616,     0.15716,     0.15816,     0.15916,     0.16016,     0.16116,     0.16216,     0.16316,     0.16416,     0.16517,     0.16617,     0.16717,\n           0.16817,     0.16917,     0.17017,     0.17117,     0.17217,     0.17317,     0.17417,     0.17518,     0.17618,     0.17718,     0.17818,     0.17918,     0.18018,     0.18118,     0.18218,     0.18318,     0.18418,     0.18519,     0.18619,     0.18719,     0.18819,     0.18919,     0.19019,     0.19119,\n           0.19219,     0.19319,     0.19419,      0.1952,      0.1962,      0.1972,      0.1982,      0.1992,      0.2002,      0.2012,      0.2022,      0.2032,      0.2042,     0.20521,     0.20621,     0.20721,     0.20821,     0.20921,     0.21021,     0.21121,     0.21221,     0.21321,     0.21421,     0.21522,\n           0.21622,     0.21722,     0.21822,     0.21922,     0.22022,     0.22122,     0.22222,     0.22322,     0.22422,     0.22523,     0.22623,     0.22723,     0.22823,     0.22923,     0.23023,     0.23123,     0.23223,     0.23323,     0.23423,     0.23524,     0.23624,     0.23724,     0.23824,     0.23924,\n           0.24024,     0.24124,     0.24224,     0.24324,     0.24424,     0.24525,     0.24625,     0.24725,     0.24825,     0.24925,     0.25025,     0.25125,     0.25225,     0.25325,     0.25425,     0.25526,     0.25626,     0.25726,     0.25826,     0.25926,     0.26026,     0.26126,     0.26226,     0.26326,\n           0.26426,     0.26527,     0.26627,     0.26727,     0.26827,     0.26927,     0.27027,     0.27127,     0.27227,     0.27327,     0.27427,     0.27528,     0.27628,     0.27728,     0.27828,     0.27928,     0.28028,     0.28128,     0.28228,     0.28328,     0.28428,     0.28529,     0.28629,     0.28729,\n           0.28829,     0.28929,     0.29029,     0.29129,     0.29229,     0.29329,     0.29429,      0.2953,      0.2963,      0.2973,      0.2983,      0.2993,      0.3003,      0.3013,      0.3023,      0.3033,      0.3043,     0.30531,     0.30631,     0.30731,     0.30831,     0.30931,     0.31031,     0.31131,\n           0.31231,     0.31331,     0.31431,     0.31532,     0.31632,     0.31732,     0.31832,     0.31932,     0.32032,     0.32132,     0.32232,     0.32332,     0.32432,     0.32533,     0.32633,     0.32733,     0.32833,     0.32933,     0.33033,     0.33133,     0.33233,     0.33333,     0.33433,     0.33534,\n           0.33634,     0.33734,     0.33834,     0.33934,     0.34034,     0.34134,     0.34234,     0.34334,     0.34434,     0.34535,     0.34635,     0.34735,     0.34835,     0.34935,     0.35035,     0.35135,     0.35235,     0.35335,     0.35435,     0.35536,     0.35636,     0.35736,     0.35836,     0.35936,\n           0.36036,     0.36136,     0.36236,     0.36336,     0.36436,     0.36537,     0.36637,     0.36737,     0.36837,     0.36937,     0.37037,     0.37137,     0.37237,     0.37337,     0.37437,     0.37538,     0.37638,     0.37738,     0.37838,     0.37938,     0.38038,     0.38138,     0.38238,     0.38338,\n           0.38438,     0.38539,     0.38639,     0.38739,     0.38839,     0.38939,     0.39039,     0.39139,     0.39239,     0.39339,     0.39439,      0.3954,      0.3964,      0.3974,      0.3984,      0.3994,      0.4004,      0.4014,      0.4024,      0.4034,      0.4044,     0.40541,     0.40641,     0.40741,\n           0.40841,     0.40941,     0.41041,     0.41141,     0.41241,     0.41341,     0.41441,     0.41542,     0.41642,     0.41742,     0.41842,     0.41942,     0.42042,     0.42142,     0.42242,     0.42342,     0.42442,     0.42543,     0.42643,     0.42743,     0.42843,     0.42943,     0.43043,     0.43143,\n           0.43243,     0.43343,     0.43443,     0.43544,     0.43644,     0.43744,     0.43844,     0.43944,     0.44044,     0.44144,     0.44244,     0.44344,     0.44444,     0.44545,     0.44645,     0.44745,     0.44845,     0.44945,     0.45045,     0.45145,     0.45245,     0.45345,     0.45445,     0.45546,\n           0.45646,     0.45746,     0.45846,     0.45946,     0.46046,     0.46146,     0.46246,     0.46346,     0.46446,     0.46547,     0.46647,     0.46747,     0.46847,     0.46947,     0.47047,     0.47147,     0.47247,     0.47347,     0.47447,     0.47548,     0.47648,     0.47748,     0.47848,     0.47948,\n           0.48048,     0.48148,     0.48248,     0.48348,     0.48448,     0.48549,     0.48649,     0.48749,     0.48849,     0.48949,     0.49049,     0.49149,     0.49249,     0.49349,     0.49449,      0.4955,      0.4965,      0.4975,      0.4985,      0.4995,      0.5005,      0.5015,      0.5025,      0.5035,\n            0.5045,     0.50551,     0.50651,     0.50751,     0.50851,     0.50951,     0.51051,     0.51151,     0.51251,     0.51351,     0.51451,     0.51552,     0.51652,     0.51752,     0.51852,     0.51952,     0.52052,     0.52152,     0.52252,     0.52352,     0.52452,     0.52553,     0.52653,     0.52753,\n           0.52853,     0.52953,     0.53053,     0.53153,     0.53253,     0.53353,     0.53453,     0.53554,     0.53654,     0.53754,     0.53854,     0.53954,     0.54054,     0.54154,     0.54254,     0.54354,     0.54454,     0.54555,     0.54655,     0.54755,     0.54855,     0.54955,     0.55055,     0.55155,\n           0.55255,     0.55355,     0.55455,     0.55556,     0.55656,     0.55756,     0.55856,     0.55956,     0.56056,     0.56156,     0.56256,     0.56356,     0.56456,     0.56557,     0.56657,     0.56757,     0.56857,     0.56957,     0.57057,     0.57157,     0.57257,     0.57357,     0.57457,     0.57558,\n           0.57658,     0.57758,     0.57858,     0.57958,     0.58058,     0.58158,     0.58258,     0.58358,     0.58458,     0.58559,     0.58659,     0.58759,     0.58859,     0.58959,     0.59059,     0.59159,     0.59259,     0.59359,     0.59459,      0.5956,      0.5966,      0.5976,      0.5986,      0.5996,\n            0.6006,      0.6016,      0.6026,      0.6036,      0.6046,     0.60561,     0.60661,     0.60761,     0.60861,     0.60961,     0.61061,     0.61161,     0.61261,     0.61361,     0.61461,     0.61562,     0.61662,     0.61762,     0.61862,     0.61962,     0.62062,     0.62162,     0.62262,     0.62362,\n           0.62462,     0.62563,     0.62663,     0.62763,     0.62863,     0.62963,     0.63063,     0.63163,     0.63263,     0.63363,     0.63463,     0.63564,     0.63664,     0.63764,     0.63864,     0.63964,     0.64064,     0.64164,     0.64264,     0.64364,     0.64464,     0.64565,     0.64665,     0.64765,\n           0.64865,     0.64965,     0.65065,     0.65165,     0.65265,     0.65365,     0.65465,     0.65566,     0.65666,     0.65766,     0.65866,     0.65966,     0.66066,     0.66166,     0.66266,     0.66366,     0.66466,     0.66567,     0.66667,     0.66767,     0.66867,     0.66967,     0.67067,     0.67167,\n           0.67267,     0.67367,     0.67467,     0.67568,     0.67668,     0.67768,     0.67868,     0.67968,     0.68068,     0.68168,     0.68268,     0.68368,     0.68468,     0.68569,     0.68669,     0.68769,     0.68869,     0.68969,     0.69069,     0.69169,     0.69269,     0.69369,     0.69469,      0.6957,\n            0.6967,      0.6977,      0.6987,      0.6997,      0.7007,      0.7017,      0.7027,      0.7037,      0.7047,     0.70571,     0.70671,     0.70771,     0.70871,     0.70971,     0.71071,     0.71171,     0.71271,     0.71371,     0.71471,     0.71572,     0.71672,     0.71772,     0.71872,     0.71972,\n           0.72072,     0.72172,     0.72272,     0.72372,     0.72472,     0.72573,     0.72673,     0.72773,     0.72873,     0.72973,     0.73073,     0.73173,     0.73273,     0.73373,     0.73473,     0.73574,     0.73674,     0.73774,     0.73874,     0.73974,     0.74074,     0.74174,     0.74274,     0.74374,\n           0.74474,     0.74575,     0.74675,     0.74775,     0.74875,     0.74975,     0.75075,     0.75175,     0.75275,     0.75375,     0.75475,     0.75576,     0.75676,     0.75776,     0.75876,     0.75976,     0.76076,     0.76176,     0.76276,     0.76376,     0.76476,     0.76577,     0.76677,     0.76777,\n           0.76877,     0.76977,     0.77077,     0.77177,     0.77277,     0.77377,     0.77477,     0.77578,     0.77678,     0.77778,     0.77878,     0.77978,     0.78078,     0.78178,     0.78278,     0.78378,     0.78478,     0.78579,     0.78679,     0.78779,     0.78879,     0.78979,     0.79079,     0.79179,\n           0.79279,     0.79379,     0.79479,      0.7958,      0.7968,      0.7978,      0.7988,      0.7998,      0.8008,      0.8018,      0.8028,      0.8038,      0.8048,     0.80581,     0.80681,     0.80781,     0.80881,     0.80981,     0.81081,     0.81181,     0.81281,     0.81381,     0.81481,     0.81582,\n           0.81682,     0.81782,     0.81882,     0.81982,     0.82082,     0.82182,     0.82282,     0.82382,     0.82482,     0.82583,     0.82683,     0.82783,     0.82883,     0.82983,     0.83083,     0.83183,     0.83283,     0.83383,     0.83483,     0.83584,     0.83684,     0.83784,     0.83884,     0.83984,\n           0.84084,     0.84184,     0.84284,     0.84384,     0.84484,     0.84585,     0.84685,     0.84785,     0.84885,     0.84985,     0.85085,     0.85185,     0.85285,     0.85385,     0.85485,     0.85586,     0.85686,     0.85786,     0.85886,     0.85986,     0.86086,     0.86186,     0.86286,     0.86386,\n           0.86486,     0.86587,     0.86687,     0.86787,     0.86887,     0.86987,     0.87087,     0.87187,     0.87287,     0.87387,     0.87487,     0.87588,     0.87688,     0.87788,     0.87888,     0.87988,     0.88088,     0.88188,     0.88288,     0.88388,     0.88488,     0.88589,     0.88689,     0.88789,\n           0.88889,     0.88989,     0.89089,     0.89189,     0.89289,     0.89389,     0.89489,      0.8959,      0.8969,      0.8979,      0.8989,      0.8999,      0.9009,      0.9019,      0.9029,      0.9039,      0.9049,     0.90591,     0.90691,     0.90791,     0.90891,     0.90991,     0.91091,     0.91191,\n           0.91291,     0.91391,     0.91491,     0.91592,     0.91692,     0.91792,     0.91892,     0.91992,     0.92092,     0.92192,     0.92292,     0.92392,     0.92492,     0.92593,     0.92693,     0.92793,     0.92893,     0.92993,     0.93093,     0.93193,     0.93293,     0.93393,     0.93493,     0.93594,\n           0.93694,     0.93794,     0.93894,     0.93994,     0.94094,     0.94194,     0.94294,     0.94394,     0.94494,     0.94595,     0.94695,     0.94795,     0.94895,     0.94995,     0.95095,     0.95195,     0.95295,     0.95395,     0.95495,     0.95596,     0.95696,     0.95796,     0.95896,     0.95996,\n           0.96096,     0.96196,     0.96296,     0.96396,     0.96496,     0.96597,     0.96697,     0.96797,     0.96897,     0.96997,     0.97097,     0.97197,     0.97297,     0.97397,     0.97497,     0.97598,     0.97698,     0.97798,     0.97898,     0.97998,     0.98098,     0.98198,     0.98298,     0.98398,\n           0.98498,     0.98599,     0.98699,     0.98799,     0.98899,     0.98999,     0.99099,     0.99199,     0.99299,     0.99399,     0.99499,       0.996,       0.997,       0.998,       0.999,           1]), array([[    0.66667,     0.66667,     0.66911, ...,           0,           0,           0],\n       [    0.42857,     0.42857,     0.48944, ...,           0,           0,           0]]), 'Confidence', 'F1'], [array([          0,    0.001001,    0.002002,    0.003003,    0.004004,    0.005005,    0.006006,    0.007007,    0.008008,    0.009009,     0.01001,    0.011011,    0.012012,    0.013013,    0.014014,    0.015015,    0.016016,    0.017017,    0.018018,    0.019019,     0.02002,    0.021021,    0.022022,    0.023023,\n          0.024024,    0.025025,    0.026026,    0.027027,    0.028028,    0.029029,     0.03003,    0.031031,    0.032032,    0.033033,    0.034034,    0.035035,    0.036036,    0.037037,    0.038038,    0.039039,     0.04004,    0.041041,    0.042042,    0.043043,    0.044044,    0.045045,    0.046046,    0.047047,\n          0.048048,    0.049049,     0.05005,    0.051051,    0.052052,    0.053053,    0.054054,    0.055055,    0.056056,    0.057057,    0.058058,    0.059059,     0.06006,    0.061061,    0.062062,    0.063063,    0.064064,    0.065065,    0.066066,    0.067067,    0.068068,    0.069069,     0.07007,    0.071071,\n          0.072072,    0.073073,    0.074074,    0.075075,    0.076076,    0.077077,    0.078078,    0.079079,     0.08008,    0.081081,    0.082082,    0.083083,    0.084084,    0.085085,    0.086086,    0.087087,    0.088088,    0.089089,     0.09009,    0.091091,    0.092092,    0.093093,    0.094094,    0.095095,\n          0.096096,    0.097097,    0.098098,    0.099099,      0.1001,      0.1011,      0.1021,      0.1031,      0.1041,     0.10511,     0.10611,     0.10711,     0.10811,     0.10911,     0.11011,     0.11111,     0.11211,     0.11311,     0.11411,     0.11512,     0.11612,     0.11712,     0.11812,     0.11912,\n           0.12012,     0.12112,     0.12212,     0.12312,     0.12412,     0.12513,     0.12613,     0.12713,     0.12813,     0.12913,     0.13013,     0.13113,     0.13213,     0.13313,     0.13413,     0.13514,     0.13614,     0.13714,     0.13814,     0.13914,     0.14014,     0.14114,     0.14214,     0.14314,\n           0.14414,     0.14515,     0.14615,     0.14715,     0.14815,     0.14915,     0.15015,     0.15115,     0.15215,     0.15315,     0.15415,     0.15516,     0.15616,     0.15716,     0.15816,     0.15916,     0.16016,     0.16116,     0.16216,     0.16316,     0.16416,     0.16517,     0.16617,     0.16717,\n           0.16817,     0.16917,     0.17017,     0.17117,     0.17217,     0.17317,     0.17417,     0.17518,     0.17618,     0.17718,     0.17818,     0.17918,     0.18018,     0.18118,     0.18218,     0.18318,     0.18418,     0.18519,     0.18619,     0.18719,     0.18819,     0.18919,     0.19019,     0.19119,\n           0.19219,     0.19319,     0.19419,      0.1952,      0.1962,      0.1972,      0.1982,      0.1992,      0.2002,      0.2012,      0.2022,      0.2032,      0.2042,     0.20521,     0.20621,     0.20721,     0.20821,     0.20921,     0.21021,     0.21121,     0.21221,     0.21321,     0.21421,     0.21522,\n           0.21622,     0.21722,     0.21822,     0.21922,     0.22022,     0.22122,     0.22222,     0.22322,     0.22422,     0.22523,     0.22623,     0.22723,     0.22823,     0.22923,     0.23023,     0.23123,     0.23223,     0.23323,     0.23423,     0.23524,     0.23624,     0.23724,     0.23824,     0.23924,\n           0.24024,     0.24124,     0.24224,     0.24324,     0.24424,     0.24525,     0.24625,     0.24725,     0.24825,     0.24925,     0.25025,     0.25125,     0.25225,     0.25325,     0.25425,     0.25526,     0.25626,     0.25726,     0.25826,     0.25926,     0.26026,     0.26126,     0.26226,     0.26326,\n           0.26426,     0.26527,     0.26627,     0.26727,     0.26827,     0.26927,     0.27027,     0.27127,     0.27227,     0.27327,     0.27427,     0.27528,     0.27628,     0.27728,     0.27828,     0.27928,     0.28028,     0.28128,     0.28228,     0.28328,     0.28428,     0.28529,     0.28629,     0.28729,\n           0.28829,     0.28929,     0.29029,     0.29129,     0.29229,     0.29329,     0.29429,      0.2953,      0.2963,      0.2973,      0.2983,      0.2993,      0.3003,      0.3013,      0.3023,      0.3033,      0.3043,     0.30531,     0.30631,     0.30731,     0.30831,     0.30931,     0.31031,     0.31131,\n           0.31231,     0.31331,     0.31431,     0.31532,     0.31632,     0.31732,     0.31832,     0.31932,     0.32032,     0.32132,     0.32232,     0.32332,     0.32432,     0.32533,     0.32633,     0.32733,     0.32833,     0.32933,     0.33033,     0.33133,     0.33233,     0.33333,     0.33433,     0.33534,\n           0.33634,     0.33734,     0.33834,     0.33934,     0.34034,     0.34134,     0.34234,     0.34334,     0.34434,     0.34535,     0.34635,     0.34735,     0.34835,     0.34935,     0.35035,     0.35135,     0.35235,     0.35335,     0.35435,     0.35536,     0.35636,     0.35736,     0.35836,     0.35936,\n           0.36036,     0.36136,     0.36236,     0.36336,     0.36436,     0.36537,     0.36637,     0.36737,     0.36837,     0.36937,     0.37037,     0.37137,     0.37237,     0.37337,     0.37437,     0.37538,     0.37638,     0.37738,     0.37838,     0.37938,     0.38038,     0.38138,     0.38238,     0.38338,\n           0.38438,     0.38539,     0.38639,     0.38739,     0.38839,     0.38939,     0.39039,     0.39139,     0.39239,     0.39339,     0.39439,      0.3954,      0.3964,      0.3974,      0.3984,      0.3994,      0.4004,      0.4014,      0.4024,      0.4034,      0.4044,     0.40541,     0.40641,     0.40741,\n           0.40841,     0.40941,     0.41041,     0.41141,     0.41241,     0.41341,     0.41441,     0.41542,     0.41642,     0.41742,     0.41842,     0.41942,     0.42042,     0.42142,     0.42242,     0.42342,     0.42442,     0.42543,     0.42643,     0.42743,     0.42843,     0.42943,     0.43043,     0.43143,\n           0.43243,     0.43343,     0.43443,     0.43544,     0.43644,     0.43744,     0.43844,     0.43944,     0.44044,     0.44144,     0.44244,     0.44344,     0.44444,     0.44545,     0.44645,     0.44745,     0.44845,     0.44945,     0.45045,     0.45145,     0.45245,     0.45345,     0.45445,     0.45546,\n           0.45646,     0.45746,     0.45846,     0.45946,     0.46046,     0.46146,     0.46246,     0.46346,     0.46446,     0.46547,     0.46647,     0.46747,     0.46847,     0.46947,     0.47047,     0.47147,     0.47247,     0.47347,     0.47447,     0.47548,     0.47648,     0.47748,     0.47848,     0.47948,\n           0.48048,     0.48148,     0.48248,     0.48348,     0.48448,     0.48549,     0.48649,     0.48749,     0.48849,     0.48949,     0.49049,     0.49149,     0.49249,     0.49349,     0.49449,      0.4955,      0.4965,      0.4975,      0.4985,      0.4995,      0.5005,      0.5015,      0.5025,      0.5035,\n            0.5045,     0.50551,     0.50651,     0.50751,     0.50851,     0.50951,     0.51051,     0.51151,     0.51251,     0.51351,     0.51451,     0.51552,     0.51652,     0.51752,     0.51852,     0.51952,     0.52052,     0.52152,     0.52252,     0.52352,     0.52452,     0.52553,     0.52653,     0.52753,\n           0.52853,     0.52953,     0.53053,     0.53153,     0.53253,     0.53353,     0.53453,     0.53554,     0.53654,     0.53754,     0.53854,     0.53954,     0.54054,     0.54154,     0.54254,     0.54354,     0.54454,     0.54555,     0.54655,     0.54755,     0.54855,     0.54955,     0.55055,     0.55155,\n           0.55255,     0.55355,     0.55455,     0.55556,     0.55656,     0.55756,     0.55856,     0.55956,     0.56056,     0.56156,     0.56256,     0.56356,     0.56456,     0.56557,     0.56657,     0.56757,     0.56857,     0.56957,     0.57057,     0.57157,     0.57257,     0.57357,     0.57457,     0.57558,\n           0.57658,     0.57758,     0.57858,     0.57958,     0.58058,     0.58158,     0.58258,     0.58358,     0.58458,     0.58559,     0.58659,     0.58759,     0.58859,     0.58959,     0.59059,     0.59159,     0.59259,     0.59359,     0.59459,      0.5956,      0.5966,      0.5976,      0.5986,      0.5996,\n            0.6006,      0.6016,      0.6026,      0.6036,      0.6046,     0.60561,     0.60661,     0.60761,     0.60861,     0.60961,     0.61061,     0.61161,     0.61261,     0.61361,     0.61461,     0.61562,     0.61662,     0.61762,     0.61862,     0.61962,     0.62062,     0.62162,     0.62262,     0.62362,\n           0.62462,     0.62563,     0.62663,     0.62763,     0.62863,     0.62963,     0.63063,     0.63163,     0.63263,     0.63363,     0.63463,     0.63564,     0.63664,     0.63764,     0.63864,     0.63964,     0.64064,     0.64164,     0.64264,     0.64364,     0.64464,     0.64565,     0.64665,     0.64765,\n           0.64865,     0.64965,     0.65065,     0.65165,     0.65265,     0.65365,     0.65465,     0.65566,     0.65666,     0.65766,     0.65866,     0.65966,     0.66066,     0.66166,     0.66266,     0.66366,     0.66466,     0.66567,     0.66667,     0.66767,     0.66867,     0.66967,     0.67067,     0.67167,\n           0.67267,     0.67367,     0.67467,     0.67568,     0.67668,     0.67768,     0.67868,     0.67968,     0.68068,     0.68168,     0.68268,     0.68368,     0.68468,     0.68569,     0.68669,     0.68769,     0.68869,     0.68969,     0.69069,     0.69169,     0.69269,     0.69369,     0.69469,      0.6957,\n            0.6967,      0.6977,      0.6987,      0.6997,      0.7007,      0.7017,      0.7027,      0.7037,      0.7047,     0.70571,     0.70671,     0.70771,     0.70871,     0.70971,     0.71071,     0.71171,     0.71271,     0.71371,     0.71471,     0.71572,     0.71672,     0.71772,     0.71872,     0.71972,\n           0.72072,     0.72172,     0.72272,     0.72372,     0.72472,     0.72573,     0.72673,     0.72773,     0.72873,     0.72973,     0.73073,     0.73173,     0.73273,     0.73373,     0.73473,     0.73574,     0.73674,     0.73774,     0.73874,     0.73974,     0.74074,     0.74174,     0.74274,     0.74374,\n           0.74474,     0.74575,     0.74675,     0.74775,     0.74875,     0.74975,     0.75075,     0.75175,     0.75275,     0.75375,     0.75475,     0.75576,     0.75676,     0.75776,     0.75876,     0.75976,     0.76076,     0.76176,     0.76276,     0.76376,     0.76476,     0.76577,     0.76677,     0.76777,\n           0.76877,     0.76977,     0.77077,     0.77177,     0.77277,     0.77377,     0.77477,     0.77578,     0.77678,     0.77778,     0.77878,     0.77978,     0.78078,     0.78178,     0.78278,     0.78378,     0.78478,     0.78579,     0.78679,     0.78779,     0.78879,     0.78979,     0.79079,     0.79179,\n           0.79279,     0.79379,     0.79479,      0.7958,      0.7968,      0.7978,      0.7988,      0.7998,      0.8008,      0.8018,      0.8028,      0.8038,      0.8048,     0.80581,     0.80681,     0.80781,     0.80881,     0.80981,     0.81081,     0.81181,     0.81281,     0.81381,     0.81481,     0.81582,\n           0.81682,     0.81782,     0.81882,     0.81982,     0.82082,     0.82182,     0.82282,     0.82382,     0.82482,     0.82583,     0.82683,     0.82783,     0.82883,     0.82983,     0.83083,     0.83183,     0.83283,     0.83383,     0.83483,     0.83584,     0.83684,     0.83784,     0.83884,     0.83984,\n           0.84084,     0.84184,     0.84284,     0.84384,     0.84484,     0.84585,     0.84685,     0.84785,     0.84885,     0.84985,     0.85085,     0.85185,     0.85285,     0.85385,     0.85485,     0.85586,     0.85686,     0.85786,     0.85886,     0.85986,     0.86086,     0.86186,     0.86286,     0.86386,\n           0.86486,     0.86587,     0.86687,     0.86787,     0.86887,     0.86987,     0.87087,     0.87187,     0.87287,     0.87387,     0.87487,     0.87588,     0.87688,     0.87788,     0.87888,     0.87988,     0.88088,     0.88188,     0.88288,     0.88388,     0.88488,     0.88589,     0.88689,     0.88789,\n           0.88889,     0.88989,     0.89089,     0.89189,     0.89289,     0.89389,     0.89489,      0.8959,      0.8969,      0.8979,      0.8989,      0.8999,      0.9009,      0.9019,      0.9029,      0.9039,      0.9049,     0.90591,     0.90691,     0.90791,     0.90891,     0.90991,     0.91091,     0.91191,\n           0.91291,     0.91391,     0.91491,     0.91592,     0.91692,     0.91792,     0.91892,     0.91992,     0.92092,     0.92192,     0.92292,     0.92392,     0.92492,     0.92593,     0.92693,     0.92793,     0.92893,     0.92993,     0.93093,     0.93193,     0.93293,     0.93393,     0.93493,     0.93594,\n           0.93694,     0.93794,     0.93894,     0.93994,     0.94094,     0.94194,     0.94294,     0.94394,     0.94494,     0.94595,     0.94695,     0.94795,     0.94895,     0.94995,     0.95095,     0.95195,     0.95295,     0.95395,     0.95495,     0.95596,     0.95696,     0.95796,     0.95896,     0.95996,\n           0.96096,     0.96196,     0.96296,     0.96396,     0.96496,     0.96597,     0.96697,     0.96797,     0.96897,     0.96997,     0.97097,     0.97197,     0.97297,     0.97397,     0.97497,     0.97598,     0.97698,     0.97798,     0.97898,     0.97998,     0.98098,     0.98198,     0.98298,     0.98398,\n           0.98498,     0.98599,     0.98699,     0.98799,     0.98899,     0.98999,     0.99099,     0.99199,     0.99299,     0.99399,     0.99499,       0.996,       0.997,       0.998,       0.999,           1]), array([[        0.5,         0.5,     0.50275, ...,           1,           1,           1],\n       [    0.27273,     0.27273,     0.32402, ...,           1,           1,           1]]), 'Confidence', 'Precision'], [array([          0,    0.001001,    0.002002,    0.003003,    0.004004,    0.005005,    0.006006,    0.007007,    0.008008,    0.009009,     0.01001,    0.011011,    0.012012,    0.013013,    0.014014,    0.015015,    0.016016,    0.017017,    0.018018,    0.019019,     0.02002,    0.021021,    0.022022,    0.023023,\n          0.024024,    0.025025,    0.026026,    0.027027,    0.028028,    0.029029,     0.03003,    0.031031,    0.032032,    0.033033,    0.034034,    0.035035,    0.036036,    0.037037,    0.038038,    0.039039,     0.04004,    0.041041,    0.042042,    0.043043,    0.044044,    0.045045,    0.046046,    0.047047,\n          0.048048,    0.049049,     0.05005,    0.051051,    0.052052,    0.053053,    0.054054,    0.055055,    0.056056,    0.057057,    0.058058,    0.059059,     0.06006,    0.061061,    0.062062,    0.063063,    0.064064,    0.065065,    0.066066,    0.067067,    0.068068,    0.069069,     0.07007,    0.071071,\n          0.072072,    0.073073,    0.074074,    0.075075,    0.076076,    0.077077,    0.078078,    0.079079,     0.08008,    0.081081,    0.082082,    0.083083,    0.084084,    0.085085,    0.086086,    0.087087,    0.088088,    0.089089,     0.09009,    0.091091,    0.092092,    0.093093,    0.094094,    0.095095,\n          0.096096,    0.097097,    0.098098,    0.099099,      0.1001,      0.1011,      0.1021,      0.1031,      0.1041,     0.10511,     0.10611,     0.10711,     0.10811,     0.10911,     0.11011,     0.11111,     0.11211,     0.11311,     0.11411,     0.11512,     0.11612,     0.11712,     0.11812,     0.11912,\n           0.12012,     0.12112,     0.12212,     0.12312,     0.12412,     0.12513,     0.12613,     0.12713,     0.12813,     0.12913,     0.13013,     0.13113,     0.13213,     0.13313,     0.13413,     0.13514,     0.13614,     0.13714,     0.13814,     0.13914,     0.14014,     0.14114,     0.14214,     0.14314,\n           0.14414,     0.14515,     0.14615,     0.14715,     0.14815,     0.14915,     0.15015,     0.15115,     0.15215,     0.15315,     0.15415,     0.15516,     0.15616,     0.15716,     0.15816,     0.15916,     0.16016,     0.16116,     0.16216,     0.16316,     0.16416,     0.16517,     0.16617,     0.16717,\n           0.16817,     0.16917,     0.17017,     0.17117,     0.17217,     0.17317,     0.17417,     0.17518,     0.17618,     0.17718,     0.17818,     0.17918,     0.18018,     0.18118,     0.18218,     0.18318,     0.18418,     0.18519,     0.18619,     0.18719,     0.18819,     0.18919,     0.19019,     0.19119,\n           0.19219,     0.19319,     0.19419,      0.1952,      0.1962,      0.1972,      0.1982,      0.1992,      0.2002,      0.2012,      0.2022,      0.2032,      0.2042,     0.20521,     0.20621,     0.20721,     0.20821,     0.20921,     0.21021,     0.21121,     0.21221,     0.21321,     0.21421,     0.21522,\n           0.21622,     0.21722,     0.21822,     0.21922,     0.22022,     0.22122,     0.22222,     0.22322,     0.22422,     0.22523,     0.22623,     0.22723,     0.22823,     0.22923,     0.23023,     0.23123,     0.23223,     0.23323,     0.23423,     0.23524,     0.23624,     0.23724,     0.23824,     0.23924,\n           0.24024,     0.24124,     0.24224,     0.24324,     0.24424,     0.24525,     0.24625,     0.24725,     0.24825,     0.24925,     0.25025,     0.25125,     0.25225,     0.25325,     0.25425,     0.25526,     0.25626,     0.25726,     0.25826,     0.25926,     0.26026,     0.26126,     0.26226,     0.26326,\n           0.26426,     0.26527,     0.26627,     0.26727,     0.26827,     0.26927,     0.27027,     0.27127,     0.27227,     0.27327,     0.27427,     0.27528,     0.27628,     0.27728,     0.27828,     0.27928,     0.28028,     0.28128,     0.28228,     0.28328,     0.28428,     0.28529,     0.28629,     0.28729,\n           0.28829,     0.28929,     0.29029,     0.29129,     0.29229,     0.29329,     0.29429,      0.2953,      0.2963,      0.2973,      0.2983,      0.2993,      0.3003,      0.3013,      0.3023,      0.3033,      0.3043,     0.30531,     0.30631,     0.30731,     0.30831,     0.30931,     0.31031,     0.31131,\n           0.31231,     0.31331,     0.31431,     0.31532,     0.31632,     0.31732,     0.31832,     0.31932,     0.32032,     0.32132,     0.32232,     0.32332,     0.32432,     0.32533,     0.32633,     0.32733,     0.32833,     0.32933,     0.33033,     0.33133,     0.33233,     0.33333,     0.33433,     0.33534,\n           0.33634,     0.33734,     0.33834,     0.33934,     0.34034,     0.34134,     0.34234,     0.34334,     0.34434,     0.34535,     0.34635,     0.34735,     0.34835,     0.34935,     0.35035,     0.35135,     0.35235,     0.35335,     0.35435,     0.35536,     0.35636,     0.35736,     0.35836,     0.35936,\n           0.36036,     0.36136,     0.36236,     0.36336,     0.36436,     0.36537,     0.36637,     0.36737,     0.36837,     0.36937,     0.37037,     0.37137,     0.37237,     0.37337,     0.37437,     0.37538,     0.37638,     0.37738,     0.37838,     0.37938,     0.38038,     0.38138,     0.38238,     0.38338,\n           0.38438,     0.38539,     0.38639,     0.38739,     0.38839,     0.38939,     0.39039,     0.39139,     0.39239,     0.39339,     0.39439,      0.3954,      0.3964,      0.3974,      0.3984,      0.3994,      0.4004,      0.4014,      0.4024,      0.4034,      0.4044,     0.40541,     0.40641,     0.40741,\n           0.40841,     0.40941,     0.41041,     0.41141,     0.41241,     0.41341,     0.41441,     0.41542,     0.41642,     0.41742,     0.41842,     0.41942,     0.42042,     0.42142,     0.42242,     0.42342,     0.42442,     0.42543,     0.42643,     0.42743,     0.42843,     0.42943,     0.43043,     0.43143,\n           0.43243,     0.43343,     0.43443,     0.43544,     0.43644,     0.43744,     0.43844,     0.43944,     0.44044,     0.44144,     0.44244,     0.44344,     0.44444,     0.44545,     0.44645,     0.44745,     0.44845,     0.44945,     0.45045,     0.45145,     0.45245,     0.45345,     0.45445,     0.45546,\n           0.45646,     0.45746,     0.45846,     0.45946,     0.46046,     0.46146,     0.46246,     0.46346,     0.46446,     0.46547,     0.46647,     0.46747,     0.46847,     0.46947,     0.47047,     0.47147,     0.47247,     0.47347,     0.47447,     0.47548,     0.47648,     0.47748,     0.47848,     0.47948,\n           0.48048,     0.48148,     0.48248,     0.48348,     0.48448,     0.48549,     0.48649,     0.48749,     0.48849,     0.48949,     0.49049,     0.49149,     0.49249,     0.49349,     0.49449,      0.4955,      0.4965,      0.4975,      0.4985,      0.4995,      0.5005,      0.5015,      0.5025,      0.5035,\n            0.5045,     0.50551,     0.50651,     0.50751,     0.50851,     0.50951,     0.51051,     0.51151,     0.51251,     0.51351,     0.51451,     0.51552,     0.51652,     0.51752,     0.51852,     0.51952,     0.52052,     0.52152,     0.52252,     0.52352,     0.52452,     0.52553,     0.52653,     0.52753,\n           0.52853,     0.52953,     0.53053,     0.53153,     0.53253,     0.53353,     0.53453,     0.53554,     0.53654,     0.53754,     0.53854,     0.53954,     0.54054,     0.54154,     0.54254,     0.54354,     0.54454,     0.54555,     0.54655,     0.54755,     0.54855,     0.54955,     0.55055,     0.55155,\n           0.55255,     0.55355,     0.55455,     0.55556,     0.55656,     0.55756,     0.55856,     0.55956,     0.56056,     0.56156,     0.56256,     0.56356,     0.56456,     0.56557,     0.56657,     0.56757,     0.56857,     0.56957,     0.57057,     0.57157,     0.57257,     0.57357,     0.57457,     0.57558,\n           0.57658,     0.57758,     0.57858,     0.57958,     0.58058,     0.58158,     0.58258,     0.58358,     0.58458,     0.58559,     0.58659,     0.58759,     0.58859,     0.58959,     0.59059,     0.59159,     0.59259,     0.59359,     0.59459,      0.5956,      0.5966,      0.5976,      0.5986,      0.5996,\n            0.6006,      0.6016,      0.6026,      0.6036,      0.6046,     0.60561,     0.60661,     0.60761,     0.60861,     0.60961,     0.61061,     0.61161,     0.61261,     0.61361,     0.61461,     0.61562,     0.61662,     0.61762,     0.61862,     0.61962,     0.62062,     0.62162,     0.62262,     0.62362,\n           0.62462,     0.62563,     0.62663,     0.62763,     0.62863,     0.62963,     0.63063,     0.63163,     0.63263,     0.63363,     0.63463,     0.63564,     0.63664,     0.63764,     0.63864,     0.63964,     0.64064,     0.64164,     0.64264,     0.64364,     0.64464,     0.64565,     0.64665,     0.64765,\n           0.64865,     0.64965,     0.65065,     0.65165,     0.65265,     0.65365,     0.65465,     0.65566,     0.65666,     0.65766,     0.65866,     0.65966,     0.66066,     0.66166,     0.66266,     0.66366,     0.66466,     0.66567,     0.66667,     0.66767,     0.66867,     0.66967,     0.67067,     0.67167,\n           0.67267,     0.67367,     0.67467,     0.67568,     0.67668,     0.67768,     0.67868,     0.67968,     0.68068,     0.68168,     0.68268,     0.68368,     0.68468,     0.68569,     0.68669,     0.68769,     0.68869,     0.68969,     0.69069,     0.69169,     0.69269,     0.69369,     0.69469,      0.6957,\n            0.6967,      0.6977,      0.6987,      0.6997,      0.7007,      0.7017,      0.7027,      0.7037,      0.7047,     0.70571,     0.70671,     0.70771,     0.70871,     0.70971,     0.71071,     0.71171,     0.71271,     0.71371,     0.71471,     0.71572,     0.71672,     0.71772,     0.71872,     0.71972,\n           0.72072,     0.72172,     0.72272,     0.72372,     0.72472,     0.72573,     0.72673,     0.72773,     0.72873,     0.72973,     0.73073,     0.73173,     0.73273,     0.73373,     0.73473,     0.73574,     0.73674,     0.73774,     0.73874,     0.73974,     0.74074,     0.74174,     0.74274,     0.74374,\n           0.74474,     0.74575,     0.74675,     0.74775,     0.74875,     0.74975,     0.75075,     0.75175,     0.75275,     0.75375,     0.75475,     0.75576,     0.75676,     0.75776,     0.75876,     0.75976,     0.76076,     0.76176,     0.76276,     0.76376,     0.76476,     0.76577,     0.76677,     0.76777,\n           0.76877,     0.76977,     0.77077,     0.77177,     0.77277,     0.77377,     0.77477,     0.77578,     0.77678,     0.77778,     0.77878,     0.77978,     0.78078,     0.78178,     0.78278,     0.78378,     0.78478,     0.78579,     0.78679,     0.78779,     0.78879,     0.78979,     0.79079,     0.79179,\n           0.79279,     0.79379,     0.79479,      0.7958,      0.7968,      0.7978,      0.7988,      0.7998,      0.8008,      0.8018,      0.8028,      0.8038,      0.8048,     0.80581,     0.80681,     0.80781,     0.80881,     0.80981,     0.81081,     0.81181,     0.81281,     0.81381,     0.81481,     0.81582,\n           0.81682,     0.81782,     0.81882,     0.81982,     0.82082,     0.82182,     0.82282,     0.82382,     0.82482,     0.82583,     0.82683,     0.82783,     0.82883,     0.82983,     0.83083,     0.83183,     0.83283,     0.83383,     0.83483,     0.83584,     0.83684,     0.83784,     0.83884,     0.83984,\n           0.84084,     0.84184,     0.84284,     0.84384,     0.84484,     0.84585,     0.84685,     0.84785,     0.84885,     0.84985,     0.85085,     0.85185,     0.85285,     0.85385,     0.85485,     0.85586,     0.85686,     0.85786,     0.85886,     0.85986,     0.86086,     0.86186,     0.86286,     0.86386,\n           0.86486,     0.86587,     0.86687,     0.86787,     0.86887,     0.86987,     0.87087,     0.87187,     0.87287,     0.87387,     0.87487,     0.87588,     0.87688,     0.87788,     0.87888,     0.87988,     0.88088,     0.88188,     0.88288,     0.88388,     0.88488,     0.88589,     0.88689,     0.88789,\n           0.88889,     0.88989,     0.89089,     0.89189,     0.89289,     0.89389,     0.89489,      0.8959,      0.8969,      0.8979,      0.8989,      0.8999,      0.9009,      0.9019,      0.9029,      0.9039,      0.9049,     0.90591,     0.90691,     0.90791,     0.90891,     0.90991,     0.91091,     0.91191,\n           0.91291,     0.91391,     0.91491,     0.91592,     0.91692,     0.91792,     0.91892,     0.91992,     0.92092,     0.92192,     0.92292,     0.92392,     0.92492,     0.92593,     0.92693,     0.92793,     0.92893,     0.92993,     0.93093,     0.93193,     0.93293,     0.93393,     0.93493,     0.93594,\n           0.93694,     0.93794,     0.93894,     0.93994,     0.94094,     0.94194,     0.94294,     0.94394,     0.94494,     0.94595,     0.94695,     0.94795,     0.94895,     0.94995,     0.95095,     0.95195,     0.95295,     0.95395,     0.95495,     0.95596,     0.95696,     0.95796,     0.95896,     0.95996,\n           0.96096,     0.96196,     0.96296,     0.96396,     0.96496,     0.96597,     0.96697,     0.96797,     0.96897,     0.96997,     0.97097,     0.97197,     0.97297,     0.97397,     0.97497,     0.97598,     0.97698,     0.97798,     0.97898,     0.97998,     0.98098,     0.98198,     0.98298,     0.98398,\n           0.98498,     0.98599,     0.98699,     0.98799,     0.98899,     0.98999,     0.99099,     0.99199,     0.99299,     0.99399,     0.99499,       0.996,       0.997,       0.998,       0.999,           1]), array([[          1,           1,           1, ...,           0,           0,           0],\n       [          1,           1,           1, ...,           0,           0,           0]]), 'Confidence', 'Recall']]\nfitness: 0.66581825\nkeys: ['metrics/precision(B)', 'metrics/recall(B)', 'metrics/mAP50(B)', 'metrics/mAP50-95(B)']\nmaps: array([    0.64172,     0.62924,     0.62924,     0.61677])\nnames: {0: 'birth', 1: 'class', 2: 'gender', 3: 'subject'}\nplot: True\nresults_dict: {'metrics/precision(B)': 0.9091489745559513, 'metrics/recall(B)': 0.9773380975912621, 'metrics/mAP50(B)': 0.995, 'metrics/mAP50-95(B)': 0.6292424999999999, 'fitness': 0.66581825}\nsave_dir: PosixPath('runs/detect/train')\nspeed: {'preprocess': 0.2613067626953125, 'inference': 37.0942751566569, 'loss': 0.0036557515462239585, 'postprocess': 1.1737346649169922}\ntask: 'detect'"
     },
     "metadata": {}
    }
   ]
  },
  {
   "cell_type": "code",
   "source": [
    "weight_model = '/kaggle/working/runs/detect/train/weights/best.pt'\n",
    "model = YOLO(weight_model)"
   ],
   "metadata": {
    "collapsed": false,
    "ExecuteTime": {
     "end_time": "2024-03-04T06:09:26.801206500Z",
     "start_time": "2024-03-04T06:09:26.310194300Z"
    },
    "execution": {
     "iopub.status.busy": "2024-03-07T10:34:38.813300Z",
     "iopub.execute_input": "2024-03-07T10:34:38.814035Z",
     "iopub.status.idle": "2024-03-07T10:34:39.053314Z",
     "shell.execute_reply.started": "2024-03-07T10:34:38.813990Z",
     "shell.execute_reply": "2024-03-07T10:34:39.052337Z"
    },
    "trusted": true
   },
   "execution_count": null,
   "outputs": []
  },
  {
   "cell_type": "code",
   "source": [
    "def plot_img(list_images):\n",
    "    length_img = len(list_images)\n",
    "    col = 4\n",
    "    row = length_img // col\n",
    "    \n",
    "    if length_img % col != 0:\n",
    "        row += 1\n",
    "    \n",
    "    plt.figure(figsize=(15, length_img))\n",
    "    for i in range(row):\n",
    "        for j in range(col):\n",
    "            idx = i * 3 + j\n",
    "            if idx >= length_img : break\n",
    "            \n",
    "            plt.subplot(row, col, idx+1)\n",
    "            plt.imshow(list_images[idx])\n",
    "            plt.axis('off')"
   ],
   "metadata": {
    "ExecuteTime": {
     "end_time": "2024-03-04T06:09:26.804090900Z",
     "start_time": "2024-03-04T06:09:26.802440800Z"
    },
    "execution": {
     "iopub.status.busy": "2024-03-07T10:34:42.317026Z",
     "iopub.execute_input": "2024-03-07T10:34:42.317491Z",
     "iopub.status.idle": "2024-03-07T10:34:42.324385Z",
     "shell.execute_reply.started": "2024-03-07T10:34:42.317458Z",
     "shell.execute_reply": "2024-03-07T10:34:42.323314Z"
    },
    "trusted": true
   },
   "execution_count": null,
   "outputs": []
  },
  {
   "cell_type": "code",
   "source": [
    "def detection(data_path, names):\n",
    "    list_img_path = [os.path.join(data_path, x) for x in os.listdir(data_path)]\n",
    "    list_images = []\n",
    "    for img_path in list_img_path:\n",
    "        img = cv.imread(img_path)\n",
    "        result = model.predict(img)\n",
    "        colors = [(0, 255, 0), (255, 255, 0), (255, 0, 0),(0, 0, 255), (128, 128, 128), (0, 255, 255), (0, 0, 0), (100, 0, 255), (200, 2550, 50)]\n",
    "\n",
    "        img = cv.imread(img_path)\n",
    "        boxes, class_idx, confident = [], [], []\n",
    "\n",
    "        for box, idx, conf in zip(result[0].boxes.xyxy, result[0].boxes.cls, result[0].boxes.conf):\n",
    "\n",
    "            if idx not in class_idx:\n",
    "                class_idx.append(idx)\n",
    "                boxes.append(box)\n",
    "                confident.append(conf)\n",
    "            else :\n",
    "                i = class_idx.index(idx)\n",
    "                if confident[i] < conf:\n",
    "                    del class_idx[i]\n",
    "                    del boxes[i]\n",
    "                    del confident[i]\n",
    "\n",
    "                    class_idx.append(idx)\n",
    "                    boxes.append(box)\n",
    "                    confident.append(conf)\n",
    "        for box, idx, conf in zip(boxes, class_idx, confident):\n",
    "            x, y, w, h = [int(x) for x in box]\n",
    "            color = colors[int(idx)]\n",
    "            name = names[int(idx)]\n",
    "            cv.rectangle(img, (x, y), (w, h), color, thickness=2)\n",
    "            title = name + \" \" + str(float(conf))[:4]\n",
    "            cv.putText(img,title , (x, y-10), cv.FONT_HERSHEY_SIMPLEX, 0.8, color,2,cv.LINE_AA, False)\n",
    "        list_images.append(img)\n",
    "    return list_images"
   ],
   "metadata": {
    "ExecuteTime": {
     "end_time": "2024-03-04T06:09:26.966656800Z",
     "start_time": "2024-03-04T06:09:26.954352200Z"
    },
    "execution": {
     "iopub.status.busy": "2024-03-07T10:34:43.753839Z",
     "iopub.execute_input": "2024-03-07T10:34:43.754477Z",
     "iopub.status.idle": "2024-03-07T10:34:43.768266Z",
     "shell.execute_reply.started": "2024-03-07T10:34:43.754443Z",
     "shell.execute_reply": "2024-03-07T10:34:43.767360Z"
    },
    "trusted": true
   },
   "execution_count": null,
   "outputs": []
  },
  {
   "cell_type": "code",
   "source": [
    "test_dir = '/kaggle/input/text-detection-data/td_data/test/images'\n",
    "detection_result = detection(test_dir, names)"
   ],
   "metadata": {
    "collapsed": false,
    "ExecuteTime": {
     "end_time": "2024-03-04T06:10:08.428146900Z",
     "start_time": "2024-03-04T06:09:27.256381300Z"
    },
    "execution": {
     "iopub.status.busy": "2024-03-07T10:34:55.171061Z",
     "iopub.execute_input": "2024-03-07T10:34:55.171873Z",
     "iopub.status.idle": "2024-03-07T10:34:57.059900Z",
     "shell.execute_reply.started": "2024-03-07T10:34:55.171840Z",
     "shell.execute_reply": "2024-03-07T10:34:57.059140Z"
    },
    "trusted": true
   },
   "execution_count": null,
   "outputs": []
  },
  {
   "cell_type": "code",
   "source": [
    "plot_img(detection_result)"
   ],
   "metadata": {
    "collapsed": false,
    "ExecuteTime": {
     "end_time": "2024-03-04T06:10:11.173551900Z",
     "start_time": "2024-03-04T06:10:08.423682800Z"
    },
    "execution": {
     "iopub.status.busy": "2024-03-07T10:35:04.047629Z",
     "iopub.execute_input": "2024-03-07T10:35:04.048651Z",
     "iopub.status.idle": "2024-03-07T10:35:06.024867Z",
     "shell.execute_reply.started": "2024-03-07T10:35:04.048607Z",
     "shell.execute_reply": "2024-03-07T10:35:06.023898Z"
    },
    "trusted": true
   },
   "execution_count": null,
   "outputs": []
  },
  {
   "cell_type": "code",
   "source": [
    "train_dir = '/kaggle/input/text-detection-data/td_data/train/images'\n",
    "train_detection_result = detection(train_dir, names)\n"
   ],
   "metadata": {
    "execution": {
     "iopub.status.busy": "2024-03-07T10:40:04.393290Z",
     "iopub.execute_input": "2024-03-07T10:40:04.394201Z",
     "iopub.status.idle": "2024-03-07T10:40:14.986436Z",
     "shell.execute_reply.started": "2024-03-07T10:40:04.394167Z",
     "shell.execute_reply": "2024-03-07T10:40:14.985688Z"
    },
    "trusted": true
   },
   "execution_count": null,
   "outputs": []
  },
  {
   "cell_type": "code",
   "source": [
    "plot_img(train_detection_result)"
   ],
   "metadata": {
    "execution": {
     "iopub.status.busy": "2024-03-07T10:40:27.250842Z",
     "iopub.execute_input": "2024-03-07T10:40:27.251342Z",
     "iopub.status.idle": "2024-03-07T10:40:47.553024Z",
     "shell.execute_reply.started": "2024-03-07T10:40:27.251287Z",
     "shell.execute_reply": "2024-03-07T10:40:47.551406Z"
    },
    "trusted": true
   },
   "execution_count": null,
   "outputs": []
  },
  {
   "cell_type": "code",
   "source": [
    "\n",
    "    \n",
    "def save_images(list_images, saved_path):\n",
    "    if not os.path.exists(saved_path):\n",
    "        os.makedirs(saved_path)\n",
    "    \n",
    "    # srgan = cv.dnn.readNetFromTensorflow('srgan_pretrained_model.pb')\n",
    "    for i, img in enumerate(list_images):\n",
    "        # blob = cv.dnn.blobFromImage(img, scalefactor=1.0/255.0)\n",
    "        # \n",
    "        # srgan.setInput(blob)\n",
    "        # output = srgan.forward()\n",
    "        # \n",
    "        # upscaled_image = output[0]\n",
    "\n",
    "        # img = preprocessing(img)\n",
    "        # output_image = srmodel(img)\n",
    "                \n",
    "        sub_folder = saved_path[saved_path.rindex('/')+1:]\n",
    "        img_name = f'{sub_folder}_result_{i+1}.jpg'\n",
    "        img_path = os.path.join(saved_path, img_name)\n",
    "        cv.imwrite(img_path, img)\n",
    "        \n",
    "def detect_and_save(data_path, saved_path):\n",
    "    \n",
    "    list_results = detection(data_path, names)\n",
    "    save_images(list_results, saved_path)"
   ],
   "metadata": {
    "collapsed": false,
    "ExecuteTime": {
     "end_time": "2024-03-04T06:17:04.821735700Z",
     "start_time": "2024-03-04T06:17:04.651001200Z"
    }
   },
   "execution_count": null,
   "outputs": []
  },
  {
   "cell_type": "code",
   "source": [
    "detect_train = detection('./data/train/images', names)\n",
    "detect_test = detection('./data/test/images', names)\n",
    "detect_valid = detection('./data/valid/images', names)\n"
   ],
   "metadata": {
    "collapsed": false,
    "ExecuteTime": {
     "end_time": "2024-03-04T06:16:35.135707100Z",
     "start_time": "2024-03-04T06:10:11.173551900Z"
    }
   },
   "execution_count": null,
   "outputs": []
  },
  {
   "cell_type": "code",
   "source": [
    "len(detect_train)"
   ],
   "metadata": {
    "collapsed": false,
    "ExecuteTime": {
     "end_time": "2024-03-04T06:16:35.141754800Z",
     "start_time": "2024-03-04T06:16:35.135707100Z"
    }
   },
   "execution_count": null,
   "outputs": []
  },
  {
   "cell_type": "code",
   "source": [
    "save_images(detect_train, './Result/train')"
   ],
   "metadata": {
    "collapsed": false,
    "ExecuteTime": {
     "end_time": "2024-03-04T06:17:11.154196500Z",
     "start_time": "2024-03-04T06:17:09.483130800Z"
    }
   },
   "execution_count": null,
   "outputs": []
  },
  {
   "cell_type": "code",
   "source": [
    "save_images(detect_test, './Result/test')\n",
    "save_images(detect_valid, './Result/valid')"
   ],
   "metadata": {
    "collapsed": false,
    "ExecuteTime": {
     "end_time": "2024-03-04T06:18:40.342954500Z",
     "start_time": "2024-03-04T06:18:40.129596600Z"
    }
   },
   "execution_count": null,
   "outputs": []
  },
  {
   "cell_type": "code",
   "source": [
    "def mask_object(data_path, names):\n",
    "    list_img_path = [os.path.join(data_path, x) for x in os.listdir(data_path)]\n",
    "    list_images = []\n",
    "    for img_path in list_img_path:\n",
    "        img = cv.imread(img_path)\n",
    "        result = model.predict(img)\n",
    "        img = cv.imread(img_path)\n",
    "        boxes, class_idx, confident = [], [], []\n",
    "\n",
    "        for box, idx, conf in zip(result[0].boxes.xyxy, result[0].boxes.cls, result[0].boxes.conf):\n",
    "\n",
    "            if idx not in class_idx:\n",
    "                class_idx.append(idx)\n",
    "                boxes.append(box)\n",
    "                confident.append(conf)\n",
    "            else :\n",
    "                i = class_idx.index(idx)\n",
    "                if confident[i] < conf:\n",
    "                    del class_idx[i]\n",
    "                    del boxes[i]\n",
    "                    del confident[i]\n",
    "\n",
    "                    class_idx.append(idx)\n",
    "                    boxes.append(box)\n",
    "                    confident.append(conf)\n",
    "        for box, idx, conf in zip(boxes, class_idx, confident):\n",
    "            x, y, w, h = [int(x) for x in box]\n",
    "            cv.rectangle(img, (x, y), (w, h), (0, 0, 0), thickness=-1)\n",
    "        list_images.append(img)\n",
    "    return list_images\n",
    "def save_mask_object(data_path, saved_path):\n",
    "    mask_images = mask_object(data_path, names)\n",
    "    save_images(mask_images, saved_path)"
   ],
   "metadata": {
    "collapsed": false,
    "ExecuteTime": {
     "end_time": "2024-03-04T06:18:48.991670100Z",
     "start_time": "2024-03-04T06:18:48.963041400Z"
    }
   },
   "execution_count": null,
   "outputs": []
  },
  {
   "cell_type": "code",
   "source": [
    "save_mask_object('./data/train/images', './Mask_img/train')\n",
    "save_mask_object('./data/test/images', './Mask_img/test')\n",
    "save_mask_object('./data/valid/images', './Mask_img/valid')\n"
   ],
   "metadata": {
    "collapsed": false,
    "ExecuteTime": {
     "end_time": "2024-03-04T06:26:53.750717600Z",
     "start_time": "2024-03-04T06:20:26.025637700Z"
    }
   },
   "execution_count": null,
   "outputs": []
  },
  {
   "cell_type": "code",
   "source": [],
   "metadata": {
    "collapsed": false
   },
   "execution_count": null,
   "outputs": []
  }
 ]
}
